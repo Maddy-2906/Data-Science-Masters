{
 "cells": [
  {
   "cell_type": "code",
   "execution_count": 1,
   "id": "eccfdf47-8b54-4299-9f94-5cccc430993b",
   "metadata": {},
   "outputs": [
    {
     "name": "stdout",
     "output_type": "stream",
     "text": [
      "welcome to 3 day class of PW Skills Lab\n"
     ]
    }
   ],
   "source": [
    "print(\"welcome to 3 day class of PW Skills Lab\")"
   ]
  },
  {
   "cell_type": "markdown",
   "id": "8682b9a9-aafc-4aa2-a707-85e777da3aa1",
   "metadata": {},
   "source": [
    "# Logical Operators\n",
    "1. **And**\n",
    "2. **Or**\n",
    "3. **Not**"
   ]
  },
  {
   "cell_type": "code",
   "execution_count": 2,
   "id": "f736e3b9-7f9a-4149-b6dd-8c4f57af499f",
   "metadata": {},
   "outputs": [
    {
     "data": {
      "text/plain": [
       "False"
      ]
     },
     "execution_count": 2,
     "metadata": {},
     "output_type": "execute_result"
    }
   ],
   "source": [
    "True and False"
   ]
  },
  {
   "cell_type": "code",
   "execution_count": 3,
   "id": "d870828a-7235-40d6-ba8d-6d43ff4abe0b",
   "metadata": {},
   "outputs": [
    {
     "data": {
      "text/plain": [
       "True"
      ]
     },
     "execution_count": 3,
     "metadata": {},
     "output_type": "execute_result"
    }
   ],
   "source": [
    "True and True"
   ]
  },
  {
   "cell_type": "code",
   "execution_count": 6,
   "id": "95164151-c70a-4354-8252-4bc34393c8f1",
   "metadata": {},
   "outputs": [
    {
     "data": {
      "text/plain": [
       "False"
      ]
     },
     "execution_count": 6,
     "metadata": {},
     "output_type": "execute_result"
    }
   ],
   "source": [
    "False and False"
   ]
  },
  {
   "cell_type": "code",
   "execution_count": 13,
   "id": "82ce9615-a7bf-4058-960b-fc4d4d15593e",
   "metadata": {},
   "outputs": [
    {
     "data": {
      "text/plain": [
       "True"
      ]
     },
     "execution_count": 13,
     "metadata": {},
     "output_type": "execute_result"
    }
   ],
   "source": [
    "#using BODMOS rule \n",
    "not(False)*False"
   ]
  },
  {
   "cell_type": "code",
   "execution_count": 10,
   "id": "05d1cfaf-2090-400f-904a-10517fa3e61a",
   "metadata": {},
   "outputs": [
    {
     "data": {
      "text/plain": [
       "True"
      ]
     },
     "execution_count": 10,
     "metadata": {},
     "output_type": "execute_result"
    }
   ],
   "source": [
    "not False*False"
   ]
  },
  {
   "cell_type": "code",
   "execution_count": 11,
   "id": "ac31dc9c-0774-4b65-8a20-47df27aa1122",
   "metadata": {},
   "outputs": [
    {
     "name": "stdout",
     "output_type": "stream",
     "text": [
      "0\n"
     ]
    }
   ],
   "source": [
    "print((not(False))*False)"
   ]
  },
  {
   "cell_type": "code",
   "execution_count": 12,
   "id": "b2c9925b-c0b9-4a81-b1e7-517547f52968",
   "metadata": {},
   "outputs": [
    {
     "data": {
      "text/plain": [
       "0"
      ]
     },
     "execution_count": 12,
     "metadata": {},
     "output_type": "execute_result"
    }
   ],
   "source": [
    "False*True"
   ]
  },
  {
   "cell_type": "code",
   "execution_count": 14,
   "id": "ce217a40-03f3-42b6-9fd4-02689829b11e",
   "metadata": {},
   "outputs": [
    {
     "data": {
      "text/plain": [
       "True"
      ]
     },
     "execution_count": 14,
     "metadata": {},
     "output_type": "execute_result"
    }
   ],
   "source": [
    "not(False*True)"
   ]
  },
  {
   "cell_type": "code",
   "execution_count": 15,
   "id": "f4ba7c4c-67ad-4872-a414-aeab65bf7ee8",
   "metadata": {},
   "outputs": [
    {
     "data": {
      "text/plain": [
       "False"
      ]
     },
     "execution_count": 15,
     "metadata": {},
     "output_type": "execute_result"
    }
   ],
   "source": [
    "not(1)"
   ]
  },
  {
   "cell_type": "code",
   "execution_count": 17,
   "id": "6142a749-6efe-4a4a-8044-f9056ceb082a",
   "metadata": {},
   "outputs": [
    {
     "data": {
      "text/plain": [
       "True"
      ]
     },
     "execution_count": 17,
     "metadata": {},
     "output_type": "execute_result"
    }
   ],
   "source": [
    "#precident rule\n",
    "not False*True==True"
   ]
  },
  {
   "cell_type": "code",
   "execution_count": 19,
   "id": "016b2eb2-e5d6-4327-8cbc-f1fae0577bce",
   "metadata": {},
   "outputs": [],
   "source": [
    "#is Operator \n",
    "lst_a=[1,2,3,4]\n",
    "lst_b=[1,2,3,4]\n"
   ]
  },
  {
   "cell_type": "code",
   "execution_count": 21,
   "id": "59957b06-bf61-42f5-b15c-4385f1ed1801",
   "metadata": {},
   "outputs": [
    {
     "name": "stdout",
     "output_type": "stream",
     "text": [
      "139699355743104\n",
      "139699355825920\n"
     ]
    }
   ],
   "source": [
    "#memory variable address is diffrent address \n",
    "print(id(lst_a))\n",
    "print(id(lst_b))\n"
   ]
  },
  {
   "cell_type": "code",
   "execution_count": 23,
   "id": "960d1ab9-c9e6-4eaa-a496-20fd2b093916",
   "metadata": {},
   "outputs": [
    {
     "data": {
      "text/plain": [
       "False"
      ]
     },
     "execution_count": 23,
     "metadata": {},
     "output_type": "execute_result"
    }
   ],
   "source": [
    "lst_a is lst_b"
   ]
  },
  {
   "cell_type": "code",
   "execution_count": 24,
   "id": "c57e6615-72ab-4567-8011-a8aeaad2727b",
   "metadata": {},
   "outputs": [],
   "source": [
    "lst_a=[1,2,3,4]\n",
    "lst_b=lst_a"
   ]
  },
  {
   "cell_type": "code",
   "execution_count": 25,
   "id": "9b82c102-8d43-40ba-8c12-d3bd9f7755ec",
   "metadata": {},
   "outputs": [
    {
     "name": "stdout",
     "output_type": "stream",
     "text": [
      "139699788890240\n",
      "139699788890240\n"
     ]
    }
   ],
   "source": [
    "print(id(lst_a))\n",
    "print(id(lst_b))"
   ]
  },
  {
   "cell_type": "code",
   "execution_count": 26,
   "id": "99dc4291-fcd0-4790-904a-4aef139b9f36",
   "metadata": {},
   "outputs": [
    {
     "data": {
      "text/plain": [
       "True"
      ]
     },
     "execution_count": 26,
     "metadata": {},
     "output_type": "execute_result"
    }
   ],
   "source": [
    "lst_a is lst_b"
   ]
  },
  {
   "cell_type": "code",
   "execution_count": 27,
   "id": "0ecb5b2f-eb74-4091-9bda-67830c92fde1",
   "metadata": {},
   "outputs": [],
   "source": [
    "#in case of string we can not replaced character\n",
    "#string is immutable,it is stored one memory address(where both id is same this case is called immutable)\n",
    "#\n",
    "a=2\n",
    "b=2"
   ]
  },
  {
   "cell_type": "code",
   "execution_count": 28,
   "id": "0367f898-cd6a-4b6e-8a72-51526741913e",
   "metadata": {},
   "outputs": [
    {
     "name": "stdout",
     "output_type": "stream",
     "text": [
      "139699838206224\n",
      "139699838206224\n"
     ]
    }
   ],
   "source": [
    "print(id(a))\n",
    "print(id(b))"
   ]
  },
  {
   "cell_type": "code",
   "execution_count": 31,
   "id": "670d7f20-c649-4147-bbf4-67346d3cb52b",
   "metadata": {},
   "outputs": [],
   "source": [
    "str1=\"Maddy\"\n",
    "str2=\"Maddy\""
   ]
  },
  {
   "cell_type": "code",
   "execution_count": 32,
   "id": "81b1e9cb-5791-412d-8feb-16f987eb03ef",
   "metadata": {},
   "outputs": [
    {
     "name": "stdout",
     "output_type": "stream",
     "text": [
      "139699355723632\n",
      "139699355723632\n"
     ]
    }
   ],
   "source": [
    "print(id(str1))\n",
    "print(id(str2))"
   ]
  },
  {
   "cell_type": "markdown",
   "id": "fa9dd1c4-fb92-40a7-8f83-82c90b002711",
   "metadata": {},
   "source": [
    "## Comparison Operators"
   ]
  },
  {
   "cell_type": "code",
   "execution_count": 34,
   "id": "1fcff448-f27f-4899-be81-0b02f8af7a4d",
   "metadata": {},
   "outputs": [
    {
     "name": "stdout",
     "output_type": "stream",
     "text": [
      "bike is faster than car>car faster than bike\n"
     ]
    }
   ],
   "source": [
    "maxium_speed_of_bike=200\n",
    "max_speed_of_car=150\n",
    "print(f\"bike is faster than car>car faster than bike\")"
   ]
  },
  {
   "cell_type": "code",
   "execution_count": 35,
   "id": "483d103e-8676-4654-998c-06c39e533876",
   "metadata": {},
   "outputs": [
    {
     "data": {
      "text/plain": [
       "'0b1010'"
      ]
     },
     "execution_count": 35,
     "metadata": {},
     "output_type": "execute_result"
    }
   ],
   "source": [
    "#assigment bitwise\n",
    "var=10\n",
    "bin(var)"
   ]
  },
  {
   "cell_type": "code",
   "execution_count": 37,
   "id": "d9d96703-6644-44e1-9c08-c6713bf16c37",
   "metadata": {},
   "outputs": [
    {
     "data": {
      "text/plain": [
       "True"
      ]
     },
     "execution_count": 37,
     "metadata": {},
     "output_type": "execute_result"
    }
   ],
   "source": [
    "True|False"
   ]
  },
  {
   "cell_type": "code",
   "execution_count": 38,
   "id": "4f1d8d20-1176-4165-b2bc-f0f959b6cc95",
   "metadata": {},
   "outputs": [
    {
     "data": {
      "text/plain": [
       "False"
      ]
     },
     "execution_count": 38,
     "metadata": {},
     "output_type": "execute_result"
    }
   ],
   "source": [
    "False & False"
   ]
  },
  {
   "cell_type": "code",
   "execution_count": 39,
   "id": "7c7a20e0-fa7d-40e0-9850-c94e7a7e5a68",
   "metadata": {},
   "outputs": [
    {
     "data": {
      "text/plain": [
       "5"
      ]
     },
     "execution_count": 39,
     "metadata": {},
     "output_type": "execute_result"
    }
   ],
   "source": [
    "var >>1"
   ]
  },
  {
   "cell_type": "code",
   "execution_count": 41,
   "id": "87236c71-271c-49f4-9647-25ae795a2c1a",
   "metadata": {},
   "outputs": [
    {
     "data": {
      "text/plain": [
       "0"
      ]
     },
     "execution_count": 41,
     "metadata": {},
     "output_type": "execute_result"
    }
   ],
   "source": [
    "var >>10"
   ]
  },
  {
   "cell_type": "code",
   "execution_count": 42,
   "id": "514df75c-f8d0-4a3c-be26-b69fd33488e2",
   "metadata": {},
   "outputs": [
    {
     "data": {
      "text/plain": [
       "20"
      ]
     },
     "execution_count": 42,
     "metadata": {},
     "output_type": "execute_result"
    }
   ],
   "source": [
    "var<<1"
   ]
  },
  {
   "cell_type": "code",
   "execution_count": 43,
   "id": "48471dd6-2165-4343-a91a-08dff5f7486e",
   "metadata": {},
   "outputs": [
    {
     "data": {
      "text/plain": [
       "10485760"
      ]
     },
     "execution_count": 43,
     "metadata": {},
     "output_type": "execute_result"
    }
   ],
   "source": [
    "var<<20"
   ]
  },
  {
   "cell_type": "code",
   "execution_count": null,
   "id": "0048944b-e0f5-40c4-b3a4-6a759af44213",
   "metadata": {},
   "outputs": [],
   "source": []
  },
  {
   "cell_type": "code",
   "execution_count": 36,
   "id": "0de012b1-39b6-4e98-8fd6-bb6fa77dd33b",
   "metadata": {},
   "outputs": [
    {
     "data": {
      "text/plain": [
       "-10"
      ]
     },
     "execution_count": 36,
     "metadata": {},
     "output_type": "execute_result"
    }
   ],
   "source": [
    "-var"
   ]
  },
  {
   "cell_type": "markdown",
   "id": "dbc313a9-e642-4eb8-929c-6d59d7e9e3c2",
   "metadata": {},
   "source": [
    "# Data Structure"
   ]
  },
  {
   "cell_type": "code",
   "execution_count": 44,
   "id": "fba99eb7-9c14-475c-b7fb-12353d49beb3",
   "metadata": {},
   "outputs": [
    {
     "data": {
      "text/plain": [
       "'welcome to PW skill Data science Programe'"
      ]
     },
     "execution_count": 44,
     "metadata": {},
     "output_type": "execute_result"
    }
   ],
   "source": [
    "#String:-we can define single qoutes & double qoutes\n",
    "#string is immutable we can not change\n",
    "\"welcome to PW skill Data science Programe\"\n"
   ]
  },
  {
   "cell_type": "code",
   "execution_count": 45,
   "id": "dedafcca-d940-417d-8432-baa52e1c55c8",
   "metadata": {},
   "outputs": [],
   "source": [
    "str1=\"welcome to PW skill Data science Programe\""
   ]
  },
  {
   "cell_type": "code",
   "execution_count": 46,
   "id": "c8dfe5bd-92bb-434d-9b16-288f045fc256",
   "metadata": {},
   "outputs": [],
   "source": [
    "str1=\"Maddy\""
   ]
  },
  {
   "cell_type": "code",
   "execution_count": 47,
   "id": "82ec1282-2bfa-4ddc-ae3b-169a24c9f037",
   "metadata": {},
   "outputs": [],
   "source": [
    "welcome=\"welcome world\""
   ]
  },
  {
   "cell_type": "code",
   "execution_count": 48,
   "id": "c64d7c45-2477-4a63-83d0-019c39c2fc96",
   "metadata": {},
   "outputs": [],
   "source": [
    "string=\"PW skill Data Science\""
   ]
  },
  {
   "cell_type": "code",
   "execution_count": 49,
   "id": "d9e54cdb-8100-41d6-ad45-68a549238107",
   "metadata": {},
   "outputs": [
    {
     "data": {
      "text/plain": [
       "'i'"
      ]
     },
     "execution_count": 49,
     "metadata": {},
     "output_type": "execute_result"
    }
   ],
   "source": [
    "string[5]"
   ]
  },
  {
   "cell_type": "code",
   "execution_count": 50,
   "id": "6707cbe4-1e19-4558-bd74-9ec3c6ca64f5",
   "metadata": {},
   "outputs": [
    {
     "data": {
      "text/plain": [
       "'ill Da'"
      ]
     },
     "execution_count": 50,
     "metadata": {},
     "output_type": "execute_result"
    }
   ],
   "source": [
    "#slice operation\n",
    "string[5:11]"
   ]
  },
  {
   "cell_type": "code",
   "execution_count": 51,
   "id": "9b561a83-2ab2-4a56-a129-09903d114700",
   "metadata": {},
   "outputs": [
    {
     "data": {
      "text/plain": [
       "'e'"
      ]
     },
     "execution_count": 51,
     "metadata": {},
     "output_type": "execute_result"
    }
   ],
   "source": [
    "string[-1]"
   ]
  },
  {
   "cell_type": "code",
   "execution_count": 53,
   "id": "44b3dda8-6079-4ce2-9c7e-9ae22e46176a",
   "metadata": {},
   "outputs": [
    {
     "data": {
      "text/plain": [
       "'Scie'"
      ]
     },
     "execution_count": 53,
     "metadata": {},
     "output_type": "execute_result"
    }
   ],
   "source": [
    "string[-7:-3]"
   ]
  },
  {
   "cell_type": "code",
   "execution_count": 108,
   "id": "fdbd1ba2-5a6a-4a0b-b460-afe61ab56b77",
   "metadata": {},
   "outputs": [
    {
     "data": {
      "text/plain": [
       "''"
      ]
     },
     "execution_count": 108,
     "metadata": {},
     "output_type": "execute_result"
    }
   ],
   "source": [
    "#not find because it is not overlapping each other\n",
    "string[-7:5]"
   ]
  },
  {
   "cell_type": "code",
   "execution_count": 55,
   "id": "66bab80f-dce5-44be-9cb5-86f21b4cd2f9",
   "metadata": {},
   "outputs": [
    {
     "data": {
      "text/plain": [
       "''"
      ]
     },
     "execution_count": 55,
     "metadata": {},
     "output_type": "execute_result"
    }
   ],
   "source": [
    "string[-10:10]"
   ]
  },
  {
   "cell_type": "code",
   "execution_count": 56,
   "id": "fe7cc4ed-7373-47c4-9623-420daef27d0b",
   "metadata": {},
   "outputs": [
    {
     "data": {
      "text/plain": [
       "'PW skill Data Scienc'"
      ]
     },
     "execution_count": 56,
     "metadata": {},
     "output_type": "execute_result"
    }
   ],
   "source": [
    "string[:-1]"
   ]
  },
  {
   "cell_type": "code",
   "execution_count": 57,
   "id": "dae7ebae-bf85-4b1b-afc1-72275794d100",
   "metadata": {},
   "outputs": [
    {
     "data": {
      "text/plain": [
       "'PW skill Data Science'"
      ]
     },
     "execution_count": 57,
     "metadata": {},
     "output_type": "execute_result"
    }
   ],
   "source": [
    "string[:]"
   ]
  },
  {
   "cell_type": "code",
   "execution_count": 109,
   "id": "fea688a7-b3dc-40a3-b15c-6c3448f690c9",
   "metadata": {},
   "outputs": [
    {
     "data": {
      "text/plain": [
       "'rt'"
      ]
     },
     "execution_count": 109,
     "metadata": {},
     "output_type": "execute_result"
    }
   ],
   "source": [
    "#: means slicing operations\n",
    "#here rt is overlapping each other\n",
    "name=\"Karthik\"\n",
    "name[-5:4]"
   ]
  },
  {
   "cell_type": "code",
   "execution_count": 59,
   "id": "9d5a461c-73d3-4f26-b4c5-7b55e7456a7c",
   "metadata": {},
   "outputs": [
    {
     "data": {
      "text/plain": [
       "'PW skill Data Science'"
      ]
     },
     "execution_count": 59,
     "metadata": {},
     "output_type": "execute_result"
    }
   ],
   "source": [
    "string"
   ]
  },
  {
   "cell_type": "code",
   "execution_count": 60,
   "id": "2f499fa9-daac-4ede-844e-c44aaad4f003",
   "metadata": {},
   "outputs": [
    {
     "data": {
      "text/plain": [
       "'PW skill Data Science'"
      ]
     },
     "execution_count": 60,
     "metadata": {},
     "output_type": "execute_result"
    }
   ],
   "source": [
    "string[:]"
   ]
  },
  {
   "cell_type": "code",
   "execution_count": 61,
   "id": "abf1c989-316b-4206-9c94-bebb9745d265",
   "metadata": {},
   "outputs": [
    {
     "data": {
      "text/plain": [
       "'ecneicS ataD lliks WP'"
      ]
     },
     "execution_count": 61,
     "metadata": {},
     "output_type": "execute_result"
    }
   ],
   "source": [
    "#reverse string\n",
    "string[::-1]"
   ]
  },
  {
   "cell_type": "code",
   "execution_count": 62,
   "id": "52421410-ba59-4fe6-bd38-b2ec96668c38",
   "metadata": {},
   "outputs": [
    {
     "data": {
      "text/plain": [
       "'eniSaa lk P'"
      ]
     },
     "execution_count": 62,
     "metadata": {},
     "output_type": "execute_result"
    }
   ],
   "source": [
    "string[::-2]"
   ]
  },
  {
   "cell_type": "code",
   "execution_count": 63,
   "id": "566c3dfa-cf70-458b-ba29-917503e4d2b2",
   "metadata": {},
   "outputs": [
    {
     "data": {
      "text/plain": [
       "'liks WP'"
      ]
     },
     "execution_count": 63,
     "metadata": {},
     "output_type": "execute_result"
    }
   ],
   "source": [
    "string[6::-1]"
   ]
  },
  {
   "cell_type": "code",
   "execution_count": 64,
   "id": "6689a1f6-8361-4a9b-9820-d0a10f61af22",
   "metadata": {},
   "outputs": [
    {
     "data": {
      "text/plain": [
       "'PW skill Data Science'"
      ]
     },
     "execution_count": 64,
     "metadata": {},
     "output_type": "execute_result"
    }
   ],
   "source": [
    "string[::1]"
   ]
  },
  {
   "cell_type": "code",
   "execution_count": 65,
   "id": "f2feb3b6-d0f4-4b0c-b9a8-c01415c04f96",
   "metadata": {},
   "outputs": [
    {
     "data": {
      "text/plain": [
       "'Piace'"
      ]
     },
     "execution_count": 65,
     "metadata": {},
     "output_type": "execute_result"
    }
   ],
   "source": [
    "string[::5]"
   ]
  },
  {
   "cell_type": "code",
   "execution_count": 66,
   "id": "177f7088-c82a-434f-8ac6-4926c4e070a3",
   "metadata": {},
   "outputs": [],
   "source": [
    "name=\"maddy\""
   ]
  },
  {
   "cell_type": "code",
   "execution_count": 67,
   "id": "e7dfc81a-cddc-41c7-a0f1-a3539a2abbdd",
   "metadata": {},
   "outputs": [
    {
     "data": {
      "text/plain": [
       "'yddam'"
      ]
     },
     "execution_count": 67,
     "metadata": {},
     "output_type": "execute_result"
    }
   ],
   "source": [
    "name[::-1]"
   ]
  },
  {
   "cell_type": "code",
   "execution_count": 68,
   "id": "0a7f966c-fafb-4b02-abc2-7b128fc6dbdb",
   "metadata": {},
   "outputs": [
    {
     "data": {
      "text/plain": [
       "'mdy'"
      ]
     },
     "execution_count": 68,
     "metadata": {},
     "output_type": "execute_result"
    }
   ],
   "source": [
    "name[::2]"
   ]
  },
  {
   "cell_type": "code",
   "execution_count": 69,
   "id": "0847bf35-3d12-49bb-aa98-bd2a63b9cf83",
   "metadata": {},
   "outputs": [
    {
     "data": {
      "text/plain": [
       "'md'"
      ]
     },
     "execution_count": 69,
     "metadata": {},
     "output_type": "execute_result"
    }
   ],
   "source": [
    "name[::3]"
   ]
  },
  {
   "cell_type": "code",
   "execution_count": 70,
   "id": "2df128c4-ba0d-4447-8cb4-a3b75cfd630e",
   "metadata": {},
   "outputs": [
    {
     "data": {
      "text/plain": [
       "'ya'"
      ]
     },
     "execution_count": 70,
     "metadata": {},
     "output_type": "execute_result"
    }
   ],
   "source": [
    "name[::-3]"
   ]
  },
  {
   "cell_type": "code",
   "execution_count": 71,
   "id": "5398ff9b-16fb-4378-be1f-b6e6a6c4c6ae",
   "metadata": {},
   "outputs": [
    {
     "data": {
      "text/plain": [
       "'yddam'"
      ]
     },
     "execution_count": 71,
     "metadata": {},
     "output_type": "execute_result"
    }
   ],
   "source": [
    "name[4::-1]"
   ]
  },
  {
   "cell_type": "code",
   "execution_count": 72,
   "id": "86794496-da9f-46cb-8652-89436a39affd",
   "metadata": {},
   "outputs": [
    {
     "data": {
      "text/plain": [
       "'ddam'"
      ]
     },
     "execution_count": 72,
     "metadata": {},
     "output_type": "execute_result"
    }
   ],
   "source": [
    "name[3::-1]"
   ]
  },
  {
   "cell_type": "code",
   "execution_count": 75,
   "id": "0fbffc95-01f7-4b09-9d40-79178aec5333",
   "metadata": {},
   "outputs": [
    {
     "data": {
      "text/plain": [
       "'dd'"
      ]
     },
     "execution_count": 75,
     "metadata": {},
     "output_type": "execute_result"
    }
   ],
   "source": [
    "name[3:1:-1]"
   ]
  },
  {
   "cell_type": "code",
   "execution_count": 76,
   "id": "2a16b05d-3089-41ce-a7ff-019985f5d43e",
   "metadata": {},
   "outputs": [],
   "source": [
    "course_name=\"Data Science Masters\""
   ]
  },
  {
   "cell_type": "code",
   "execution_count": 77,
   "id": "929d98ab-50a7-4136-a583-fd931e282fd8",
   "metadata": {},
   "outputs": [
    {
     "data": {
      "text/plain": [
       "'Science'"
      ]
     },
     "execution_count": 77,
     "metadata": {},
     "output_type": "execute_result"
    }
   ],
   "source": [
    "course_name[5:12]"
   ]
  },
  {
   "cell_type": "code",
   "execution_count": 83,
   "id": "9288f92f-2cb9-484c-9d64-f7254c329b24",
   "metadata": {},
   "outputs": [
    {
     "data": {
      "text/plain": [
       "'ecneicS'"
      ]
     },
     "execution_count": 83,
     "metadata": {},
     "output_type": "execute_result"
    }
   ],
   "source": [
    "#count from zero & than count\n",
    "#-1 incrementing from reverse\n",
    "course_name[11:4:-1]"
   ]
  },
  {
   "cell_type": "code",
   "execution_count": 80,
   "id": "5959ce4b-2e12-4bdf-aced-41fdf0c629de",
   "metadata": {},
   "outputs": [
    {
     "data": {
      "text/plain": [
       "' ecneicS'"
      ]
     },
     "execution_count": 80,
     "metadata": {},
     "output_type": "execute_result"
    }
   ],
   "source": [
    "course_name[12:4:-1]"
   ]
  },
  {
   "cell_type": "code",
   "execution_count": 82,
   "id": "76233351-0533-4b00-a8f8-01ae12c631d3",
   "metadata": {},
   "outputs": [
    {
     "data": {
      "text/plain": [
       "'ecneicS '"
      ]
     },
     "execution_count": 82,
     "metadata": {},
     "output_type": "execute_result"
    }
   ],
   "source": [
    "course_name[11:3:-1]"
   ]
  },
  {
   "cell_type": "code",
   "execution_count": 84,
   "id": "a52093ef-5d5f-4717-b9a5-b7eecfa13752",
   "metadata": {},
   "outputs": [
    {
     "data": {
      "text/plain": [
       "'Data Science MastersCourse'"
      ]
     },
     "execution_count": 84,
     "metadata": {},
     "output_type": "execute_result"
    }
   ],
   "source": [
    "#concatention\n",
    "course_name + \"Course\""
   ]
  },
  {
   "cell_type": "code",
   "execution_count": 85,
   "id": "7db60372-cc13-4e2c-aa52-7d6cc205aacc",
   "metadata": {},
   "outputs": [
    {
     "name": "stdout",
     "output_type": "stream",
     "text": [
      "helloworld\n"
     ]
    }
   ],
   "source": [
    "print(\"hello\"+\"world\")"
   ]
  },
  {
   "cell_type": "code",
   "execution_count": 86,
   "id": "3bd138c2-1f86-442a-91df-7459b199d98b",
   "metadata": {},
   "outputs": [
    {
     "data": {
      "text/plain": [
       "'Data Science MastersData Science MastersData Science MastersData Science MastersData Science Masters'"
      ]
     },
     "execution_count": 86,
     "metadata": {},
     "output_type": "execute_result"
    }
   ],
   "source": [
    "course_name *5"
   ]
  },
  {
   "cell_type": "code",
   "execution_count": 87,
   "id": "a96b89c8-d702-43a3-881e-9d3a83865407",
   "metadata": {},
   "outputs": [
    {
     "data": {
      "text/plain": [
       "20"
      ]
     },
     "execution_count": 87,
     "metadata": {},
     "output_type": "execute_result"
    }
   ],
   "source": [
    "len(course_name)"
   ]
  },
  {
   "cell_type": "code",
   "execution_count": 88,
   "id": "56d8c005-a96d-4816-9576-fe06efe7698a",
   "metadata": {},
   "outputs": [
    {
     "data": {
      "text/plain": [
       "9"
      ]
     },
     "execution_count": 88,
     "metadata": {},
     "output_type": "execute_result"
    }
   ],
   "source": [
    "#find function\n",
    "course_name.find(\"n\")"
   ]
  },
  {
   "cell_type": "code",
   "execution_count": 91,
   "id": "e89fe1e8-1db9-4237-9434-e8bb897b36c4",
   "metadata": {},
   "outputs": [
    {
     "data": {
      "text/plain": [
       "-1"
      ]
     },
     "execution_count": 91,
     "metadata": {},
     "output_type": "execute_result"
    }
   ],
   "source": [
    "course_name.find(\"m\")"
   ]
  },
  {
   "cell_type": "code",
   "execution_count": 92,
   "id": "49cb4169-fe96-42d3-8fbd-cfa9eb59a1a0",
   "metadata": {},
   "outputs": [
    {
     "data": {
      "text/plain": [
       "3"
      ]
     },
     "execution_count": 92,
     "metadata": {},
     "output_type": "execute_result"
    }
   ],
   "source": [
    "#count function()\n",
    "course_name.count('a')"
   ]
  },
  {
   "cell_type": "code",
   "execution_count": 93,
   "id": "d7d3f02f-6c21-4ecb-a32e-0aaccfe00736",
   "metadata": {},
   "outputs": [
    {
     "data": {
      "text/plain": [
       "2"
      ]
     },
     "execution_count": 93,
     "metadata": {},
     "output_type": "execute_result"
    }
   ],
   "source": [
    "course_name.count(' ')"
   ]
  },
  {
   "cell_type": "code",
   "execution_count": 94,
   "id": "0a949b88-ca21-4daf-899e-d29ca17de40d",
   "metadata": {},
   "outputs": [
    {
     "data": {
      "text/plain": [
       "21"
      ]
     },
     "execution_count": 94,
     "metadata": {},
     "output_type": "execute_result"
    }
   ],
   "source": [
    "course_name.count('')"
   ]
  },
  {
   "cell_type": "code",
   "execution_count": 96,
   "id": "1ea1ba72-af4e-4149-88d1-d925b1769f5e",
   "metadata": {},
   "outputs": [
    {
     "data": {
      "text/plain": [
       "3"
      ]
     },
     "execution_count": 96,
     "metadata": {},
     "output_type": "execute_result"
    }
   ],
   "source": [
    "course_name.find(\"a\",2,10)"
   ]
  },
  {
   "cell_type": "code",
   "execution_count": 97,
   "id": "d9b9a4b8-617e-4ca3-a180-990125501963",
   "metadata": {},
   "outputs": [
    {
     "data": {
      "text/plain": [
       "-1"
      ]
     },
     "execution_count": 97,
     "metadata": {},
     "output_type": "execute_result"
    }
   ],
   "source": [
    "course_name.find(\"science\")"
   ]
  },
  {
   "cell_type": "code",
   "execution_count": 98,
   "id": "c6e76bfc-d493-4c57-9697-7caa4d409d3b",
   "metadata": {},
   "outputs": [
    {
     "data": {
      "text/plain": [
       "['Data', 'Science', 'Masters']"
      ]
     },
     "execution_count": 98,
     "metadata": {},
     "output_type": "execute_result"
    }
   ],
   "source": [
    "#string split function\n",
    "course_name.split(' ')"
   ]
  },
  {
   "cell_type": "code",
   "execution_count": 100,
   "id": "618b4b2f-caaa-424d-a2e2-6428f03fd046",
   "metadata": {},
   "outputs": [
    {
     "data": {
      "text/plain": [
       "'Data Science Masters'"
      ]
     },
     "execution_count": 100,
     "metadata": {},
     "output_type": "execute_result"
    }
   ],
   "source": [
    "course_name"
   ]
  },
  {
   "cell_type": "code",
   "execution_count": 99,
   "id": "9e7131a4-9152-4c04-af64-a0da84ac35fb",
   "metadata": {},
   "outputs": [
    {
     "data": {
      "text/plain": [
       "['Data Science Ma', 'ter', '']"
      ]
     },
     "execution_count": 99,
     "metadata": {},
     "output_type": "execute_result"
    }
   ],
   "source": [
    "#split function just split all argument which mention in cmd\n",
    "course_name.split('s')"
   ]
  },
  {
   "cell_type": "code",
   "execution_count": 101,
   "id": "d33fa316-3720-4a97-82f5-addfafb73995",
   "metadata": {},
   "outputs": [
    {
     "data": {
      "text/plain": [
       "('Data ', 'S', 'cience Masters')"
      ]
     },
     "execution_count": 101,
     "metadata": {},
     "output_type": "execute_result"
    }
   ],
   "source": [
    "#its partition only first word\n",
    "course_name.partition('S')"
   ]
  },
  {
   "cell_type": "code",
   "execution_count": 102,
   "id": "257a3e60-0850-4371-a357-f67bfe5e5809",
   "metadata": {},
   "outputs": [
    {
     "data": {
      "text/plain": [
       "'DATA SCIENCE MASTERS'"
      ]
     },
     "execution_count": 102,
     "metadata": {},
     "output_type": "execute_result"
    }
   ],
   "source": [
    "course_name.upper()"
   ]
  },
  {
   "cell_type": "code",
   "execution_count": 103,
   "id": "8eae6d71-907c-40a8-9959-b2c7a369601a",
   "metadata": {},
   "outputs": [
    {
     "data": {
      "text/plain": [
       "'data science masters'"
      ]
     },
     "execution_count": 103,
     "metadata": {},
     "output_type": "execute_result"
    }
   ],
   "source": [
    "course_name.lower()"
   ]
  },
  {
   "cell_type": "code",
   "execution_count": 104,
   "id": "7eb6f717-2946-4ae6-8303-97881a537092",
   "metadata": {},
   "outputs": [
    {
     "data": {
      "text/plain": [
       "'dATA sCIENCE mASTERS'"
      ]
     },
     "execution_count": 104,
     "metadata": {},
     "output_type": "execute_result"
    }
   ],
   "source": [
    "course_name.swapcase()"
   ]
  },
  {
   "cell_type": "code",
   "execution_count": 105,
   "id": "717dbc1f-e142-487a-8e41-f4b3fbdc2c41",
   "metadata": {},
   "outputs": [
    {
     "data": {
      "text/plain": [
       "'Data Science Masters'"
      ]
     },
     "execution_count": 105,
     "metadata": {},
     "output_type": "execute_result"
    }
   ],
   "source": [
    "course_name.title()"
   ]
  },
  {
   "cell_type": "code",
   "execution_count": 106,
   "id": "af3c0edb-dd2a-45b5-b1dc-04269b0fee26",
   "metadata": {},
   "outputs": [],
   "source": [
    "name=\"Maddy Negi\""
   ]
  },
  {
   "cell_type": "code",
   "execution_count": 107,
   "id": "65eb2437-78f9-4952-bd26-5f1345f86402",
   "metadata": {},
   "outputs": [
    {
     "data": {
      "text/plain": [
       "'Maddy Negi'"
      ]
     },
     "execution_count": 107,
     "metadata": {},
     "output_type": "execute_result"
    }
   ],
   "source": [
    "name.title()"
   ]
  },
  {
   "cell_type": "code",
   "execution_count": 110,
   "id": "b07d4c49-3bee-4ee3-a850-d4f50c74b799",
   "metadata": {},
   "outputs": [
    {
     "data": {
      "text/plain": [
       "'-0b10'"
      ]
     },
     "execution_count": 110,
     "metadata": {},
     "output_type": "execute_result"
    }
   ],
   "source": [
    "bin(-2)"
   ]
  },
  {
   "cell_type": "code",
   "execution_count": null,
   "id": "1021ec38-fd05-417d-aeb6-f2f8e71f2840",
   "metadata": {},
   "outputs": [],
   "source": []
  }
 ],
 "metadata": {
  "kernelspec": {
   "display_name": "Python 3 (ipykernel)",
   "language": "python",
   "name": "python3"
  },
  "language_info": {
   "codemirror_mode": {
    "name": "ipython",
    "version": 3
   },
   "file_extension": ".py",
   "mimetype": "text/x-python",
   "name": "python",
   "nbconvert_exporter": "python",
   "pygments_lexer": "ipython3",
   "version": "3.10.8"
  }
 },
 "nbformat": 4,
 "nbformat_minor": 5
}
