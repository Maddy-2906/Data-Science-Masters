{
 "cells": [
  {
   "cell_type": "markdown",
   "id": "38e42646-d122-45c4-9eff-ecf7df0eb2d9",
   "metadata": {},
   "source": [
    "#very very important\n",
    "# function"
   ]
  },
  {
   "cell_type": "code",
   "execution_count": 1,
   "id": "a6f6d783-95f1-485e-994f-0c8149c3942c",
   "metadata": {},
   "outputs": [
    {
     "name": "stdout",
     "output_type": "stream",
     "text": [
      "This is my programe\n"
     ]
    }
   ],
   "source": [
    "#print always return nontype by default,not return datatype\n",
    "print(\"This is my programe\")"
   ]
  },
  {
   "cell_type": "code",
   "execution_count": 2,
   "id": "816a37bf-6e67-4556-b2b2-5c6d4e525341",
   "metadata": {},
   "outputs": [],
   "source": [
    "l=[1,2,3,4,5,6]"
   ]
  },
  {
   "cell_type": "code",
   "execution_count": 3,
   "id": "556b0702-fbc5-4e56-9206-1159fbe7419f",
   "metadata": {},
   "outputs": [
    {
     "data": {
      "text/plain": [
       "6"
      ]
     },
     "execution_count": 3,
     "metadata": {},
     "output_type": "execute_result"
    }
   ],
   "source": [
    "len(l)"
   ]
  },
  {
   "cell_type": "code",
   "execution_count": 5,
   "id": "3a598f10-cd2c-4b3f-9a88-547ce3ce2286",
   "metadata": {},
   "outputs": [],
   "source": [
    "#to create a function by def,\n",
    "def test():\n",
    "    pass # write pass to complete the operation without giving any kind of defination"
   ]
  },
  {
   "cell_type": "code",
   "execution_count": 6,
   "id": "9ec8313e-8ded-4638-aa17-f2600aba6df9",
   "metadata": {},
   "outputs": [],
   "source": [
    "def test():\n",
    "    print(\"this is my very first function\")"
   ]
  },
  {
   "cell_type": "code",
   "execution_count": 10,
   "id": "ae4c9461-0414-4596-82b2-dcd898587fa4",
   "metadata": {},
   "outputs": [
    {
     "name": "stdout",
     "output_type": "stream",
     "text": [
      "this is my very first function\n"
     ]
    }
   ],
   "source": [
    "#whatever i wrote in defination it will show in output\n",
    "test()"
   ]
  },
  {
   "cell_type": "code",
   "execution_count": 12,
   "id": "288ea44f-d951-4fd2-87f7-e3df1ac6da94",
   "metadata": {},
   "outputs": [
    {
     "name": "stdout",
     "output_type": "stream",
     "text": [
      "this is my very first function\n"
     ]
    }
   ],
   "source": [
    "#recall the function\n",
    "test()"
   ]
  },
  {
   "cell_type": "code",
   "execution_count": 13,
   "id": "5dc5a837-25de-45b8-b5bf-01c9c6aefe3e",
   "metadata": {},
   "outputs": [
    {
     "name": "stdout",
     "output_type": "stream",
     "text": [
      "this is my very first function\n"
     ]
    },
    {
     "ename": "TypeError",
     "evalue": "unsupported operand type(s) for +: 'NoneType' and 'str'",
     "output_type": "error",
     "traceback": [
      "\u001b[0;31m---------------------------------------------------------------------------\u001b[0m",
      "\u001b[0;31mTypeError\u001b[0m                                 Traceback (most recent call last)",
      "Cell \u001b[0;32mIn[13], line 2\u001b[0m\n\u001b[1;32m      1\u001b[0m \u001b[38;5;66;03m#can not be concatatenation operation\u001b[39;00m\n\u001b[0;32m----> 2\u001b[0m \u001b[43mtest\u001b[49m\u001b[43m(\u001b[49m\u001b[43m)\u001b[49m\u001b[38;5;241;43m+\u001b[39;49m\u001b[43m \u001b[49m\u001b[38;5;124;43m\"\u001b[39;49m\u001b[38;5;124;43mMaddy\u001b[39;49m\u001b[38;5;124;43m\"\u001b[39;49m\n",
      "\u001b[0;31mTypeError\u001b[0m: unsupported operand type(s) for +: 'NoneType' and 'str'"
     ]
    }
   ],
   "source": [
    "#can not be concatatenation operation\n",
    "test()+ \"Maddy\""
   ]
  },
  {
   "cell_type": "code",
   "execution_count": 14,
   "id": "5eeb6c34-a49c-4b0a-b6d6-74e5f34287bc",
   "metadata": {},
   "outputs": [],
   "source": [
    "def test1():\n",
    "    return \"This is my Function with return\""
   ]
  },
  {
   "cell_type": "code",
   "execution_count": 15,
   "id": "17c50792-e31b-40f5-b75b-5f00302fb250",
   "metadata": {},
   "outputs": [
    {
     "data": {
      "text/plain": [
       "'This is my Function with return'"
      ]
     },
     "execution_count": 15,
     "metadata": {},
     "output_type": "execute_result"
    }
   ],
   "source": [
    "test1()"
   ]
  },
  {
   "cell_type": "code",
   "execution_count": 16,
   "id": "7692d0f9-be69-4848-8677-13872c9bab1e",
   "metadata": {},
   "outputs": [
    {
     "data": {
      "text/plain": [
       "'This is my Function with returnMaddy'"
      ]
     },
     "execution_count": 16,
     "metadata": {},
     "output_type": "execute_result"
    }
   ],
   "source": [
    "#in nontype we can not perform any primitive opertaion\n",
    "#we used return not print in function\n",
    "test1()+\"Maddy\""
   ]
  },
  {
   "cell_type": "code",
   "execution_count": 17,
   "id": "7b462797-28f6-4f8d-b06e-64417fde94f7",
   "metadata": {},
   "outputs": [],
   "source": [
    "def test3():\n",
    "    return 1,4,\"PWSkills\",24.56"
   ]
  },
  {
   "cell_type": "code",
   "execution_count": 18,
   "id": "d33fd249-b27a-4199-b1e6-50eef4bf5bb1",
   "metadata": {},
   "outputs": [
    {
     "data": {
      "text/plain": [
       "(1, 4, 'PWSkills', 24.56)"
      ]
     },
     "execution_count": 18,
     "metadata": {},
     "output_type": "execute_result"
    }
   ],
   "source": [
    "test3()"
   ]
  },
  {
   "cell_type": "code",
   "execution_count": 19,
   "id": "68a8c20f-cb17-4b8b-a1f7-3a3db56d2345",
   "metadata": {},
   "outputs": [],
   "source": [
    "a=1,2,3,4,5,6"
   ]
  },
  {
   "cell_type": "code",
   "execution_count": 20,
   "id": "eef0c748-45c3-4048-abb0-5332c1a53a8e",
   "metadata": {},
   "outputs": [
    {
     "data": {
      "text/plain": [
       "(1, 2, 3, 4, 5, 6)"
      ]
     },
     "execution_count": 20,
     "metadata": {},
     "output_type": "execute_result"
    }
   ],
   "source": [
    "a"
   ]
  },
  {
   "cell_type": "code",
   "execution_count": 21,
   "id": "2b553b17-c754-4325-a675-a8948e7a7525",
   "metadata": {},
   "outputs": [],
   "source": [
    "#i m able to return multiple data\n",
    "a,b,c,d=1,2,34.56,True"
   ]
  },
  {
   "cell_type": "code",
   "execution_count": 22,
   "id": "613a2cc7-7fb7-41a9-8356-a83eff7f94f1",
   "metadata": {},
   "outputs": [
    {
     "data": {
      "text/plain": [
       "True"
      ]
     },
     "execution_count": 22,
     "metadata": {},
     "output_type": "execute_result"
    }
   ],
   "source": [
    "d"
   ]
  },
  {
   "cell_type": "code",
   "execution_count": 23,
   "id": "d3528ce1-b0ab-4d0b-bed1-a6d7042c81a7",
   "metadata": {},
   "outputs": [
    {
     "data": {
      "text/plain": [
       "(1, 4, 'PWSkills', 24.56)"
      ]
     },
     "execution_count": 23,
     "metadata": {},
     "output_type": "execute_result"
    }
   ],
   "source": [
    "#it will return data in tuple from\n",
    "test3()"
   ]
  },
  {
   "cell_type": "code",
   "execution_count": 25,
   "id": "21dbddd8-3019-45c4-82a0-f6dcf290104e",
   "metadata": {},
   "outputs": [
    {
     "data": {
      "text/plain": [
       "1"
      ]
     },
     "execution_count": 25,
     "metadata": {},
     "output_type": "execute_result"
    }
   ],
   "source": [
    "#functions is suppose return to somethings,then i ll fullfill my object any time\n",
    "test3()[0]"
   ]
  },
  {
   "cell_type": "code",
   "execution_count": 28,
   "id": "32139cf3-73a8-440f-929b-1c9e2daac119",
   "metadata": {},
   "outputs": [
    {
     "data": {
      "text/plain": [
       "4"
      ]
     },
     "execution_count": 28,
     "metadata": {},
     "output_type": "execute_result"
    }
   ],
   "source": [
    "test3()[1]"
   ]
  },
  {
   "cell_type": "code",
   "execution_count": 30,
   "id": "a7221c1b-b039-4c52-9449-57045235e9dd",
   "metadata": {},
   "outputs": [
    {
     "data": {
      "text/plain": [
       "24.56"
      ]
     },
     "execution_count": 30,
     "metadata": {},
     "output_type": "execute_result"
    }
   ],
   "source": [
    "test3()[3]"
   ]
  },
  {
   "cell_type": "code",
   "execution_count": 31,
   "id": "3b6a33ab-6226-454e-a751-40185ae64da0",
   "metadata": {},
   "outputs": [
    {
     "data": {
      "text/plain": [
       "True"
      ]
     },
     "execution_count": 31,
     "metadata": {},
     "output_type": "execute_result"
    }
   ],
   "source": [
    "d"
   ]
  },
  {
   "cell_type": "code",
   "execution_count": 32,
   "id": "c52b7a33-f250-4121-94be-a1892c5f513a",
   "metadata": {},
   "outputs": [
    {
     "data": {
      "text/plain": [
       "34.56"
      ]
     },
     "execution_count": 32,
     "metadata": {},
     "output_type": "execute_result"
    }
   ],
   "source": [
    "c"
   ]
  },
  {
   "cell_type": "code",
   "execution_count": 35,
   "id": "e280377d-2790-41b9-9b87-ea58f899f083",
   "metadata": {},
   "outputs": [],
   "source": [
    "#apart from that whenever you try create a function & want to pass data\n",
    "def test4():\n",
    "    a=3*4+5\n",
    "    return a"
   ]
  },
  {
   "cell_type": "code",
   "execution_count": 37,
   "id": "4f1ffb98-ca3f-486b-95c3-f4fd27669f27",
   "metadata": {},
   "outputs": [
    {
     "data": {
      "text/plain": [
       "int"
      ]
     },
     "execution_count": 37,
     "metadata": {},
     "output_type": "execute_result"
    }
   ],
   "source": [
    "type(test4())"
   ]
  },
  {
   "cell_type": "code",
   "execution_count": 38,
   "id": "915abe45-3aa0-461d-9c10-6cb5231bf509",
   "metadata": {},
   "outputs": [],
   "source": [
    "# a,b is argument\n",
    "def test5(a,b):\n",
    "    c=a+b\n",
    "    return c"
   ]
  },
  {
   "cell_type": "code",
   "execution_count": 40,
   "id": "109d8ff5-8d86-4205-ab24-22905ab69654",
   "metadata": {},
   "outputs": [
    {
     "data": {
      "text/plain": [
       "4"
      ]
     },
     "execution_count": 40,
     "metadata": {},
     "output_type": "execute_result"
    }
   ],
   "source": [
    "test5(1,3)"
   ]
  },
  {
   "cell_type": "code",
   "execution_count": 42,
   "id": "d8a6f947-6841-4dae-b470-4da5821be531",
   "metadata": {},
   "outputs": [
    {
     "data": {
      "text/plain": [
       "'MaddyNegi'"
      ]
     },
     "execution_count": 42,
     "metadata": {},
     "output_type": "execute_result"
    }
   ],
   "source": [
    "test5(\"Maddy\",\"Negi\")"
   ]
  },
  {
   "cell_type": "code",
   "execution_count": 43,
   "id": "b3b570c2-bbd1-411c-b8ec-c9a411af6e05",
   "metadata": {},
   "outputs": [
    {
     "data": {
      "text/plain": [
       "[1, 2, 3, 4, 5, 6, 7, 8, 9]"
      ]
     },
     "execution_count": 43,
     "metadata": {},
     "output_type": "execute_result"
    }
   ],
   "source": [
    "#concatenation\n",
    "test5([1,2,3,4,5],[6,7,8,9])"
   ]
  },
  {
   "cell_type": "code",
   "execution_count": 46,
   "id": "8aeb5f9f-3579-44e4-a377-90a53c2c5fe8",
   "metadata": {},
   "outputs": [
    {
     "data": {
      "text/plain": [
       "'NegiMaddy'"
      ]
     },
     "execution_count": 46,
     "metadata": {},
     "output_type": "execute_result"
    }
   ],
   "source": [
    "#name parameter i ll be able pass data inside in my function in any time\n",
    "test5(b=\"Maddy\",a=\"Negi\")"
   ]
  },
  {
   "cell_type": "code",
   "execution_count": 48,
   "id": "72ee0b74-f77d-4540-8651-7d73d3413c46",
   "metadata": {},
   "outputs": [],
   "source": [
    "l=[1,2,3,4,5,\"Maddy\",\"PWSkills\",[6,7,8,9,10]]"
   ]
  },
  {
   "cell_type": "code",
   "execution_count": 49,
   "id": "45ef74d8-d3fd-41e9-83e0-d274747ab872",
   "metadata": {},
   "outputs": [],
   "source": [
    "#create a function will take list as a input & give me a final list with all the numerivalue\n",
    "def test6(a): #a=entire list\n",
    "    n=[] #blank list\n",
    "    for i in a: #for loop go entire blank list\n",
    "        if type (i)==int or type (i)==float: # everytype of dta type i want to extract\n",
    "            n.append(i) #\n",
    "    return n"
   ]
  },
  {
   "cell_type": "code",
   "execution_count": 50,
   "id": "cede4295-2f04-4f8c-ad79-bfdb706a4f5e",
   "metadata": {},
   "outputs": [
    {
     "data": {
      "text/plain": [
       "[1, 2, 3, 4, 5]"
      ]
     },
     "execution_count": 50,
     "metadata": {},
     "output_type": "execute_result"
    }
   ],
   "source": [
    "test6(l)"
   ]
  },
  {
   "cell_type": "code",
   "execution_count": 51,
   "id": "d6ca3a47-c024-46bf-acca-9ed1de88dbdc",
   "metadata": {},
   "outputs": [
    {
     "data": {
      "text/plain": [
       "[1, 2, 3, 4, 5, 'Maddy', 'PWSkills', [6, 7, 8, 9, 10]]"
      ]
     },
     "execution_count": 51,
     "metadata": {},
     "output_type": "execute_result"
    }
   ],
   "source": [
    "l\n"
   ]
  },
  {
   "cell_type": "code",
   "execution_count": 63,
   "id": "cb993d91-7064-4f7f-b05b-06bbaa69f857",
   "metadata": {},
   "outputs": [],
   "source": [
    "def test7(a) :\n",
    "    n = []\n",
    "    for i in a :\n",
    "        if type(i) == list :\n",
    "            for j in i : #iterate through it\n",
    "                if type(j) == int or type(j) == float:\n",
    "                    n.append(j)\n",
    "    else:\n",
    "         if type(i) == int or type(i) == float:\n",
    "            n.append(i)\n",
    "    return n"
   ]
  },
  {
   "cell_type": "code",
   "execution_count": 64,
   "id": "8d94771d-7582-425d-a5ab-d97b46a05d0b",
   "metadata": {},
   "outputs": [
    {
     "data": {
      "text/plain": [
       "[6, 7, 8, 9, 10]"
      ]
     },
     "execution_count": 64,
     "metadata": {},
     "output_type": "execute_result"
    }
   ],
   "source": [
    "test7(l)"
   ]
  },
  {
   "cell_type": "code",
   "execution_count": 60,
   "id": "8224d28f-505c-4754-bead-fc1776680f91",
   "metadata": {},
   "outputs": [
    {
     "data": {
      "text/plain": [
       "[1, 2, 3, 4, 5, 'Maddy', 'PWSkills', [6, 7, 8, 9, 10]]"
      ]
     },
     "execution_count": 60,
     "metadata": {},
     "output_type": "execute_result"
    }
   ],
   "source": [
    "l"
   ]
  },
  {
   "cell_type": "code",
   "execution_count": 65,
   "id": "ae7eed51-fecc-4fac-9e55-fd1299a623f6",
   "metadata": {},
   "outputs": [
    {
     "data": {
      "text/plain": [
       "[1, 2, 3, 4, 5, 'Maddy', 'PWSkills', [6, 7, 8, 9, 10]]"
      ]
     },
     "execution_count": 65,
     "metadata": {},
     "output_type": "execute_result"
    }
   ],
   "source": [
    "l"
   ]
  },
  {
   "cell_type": "code",
   "execution_count": null,
   "id": "be34fafe-40de-4497-8896-620a76fc5aeb",
   "metadata": {},
   "outputs": [],
   "source": [
    "def test7(a) :\n",
    "    n = []\n",
    "    if type(i) == list :\n",
    "        for j in i :\n",
    "            if type(j) == int or type(j) == float :\n",
    "                n.append(j)\n",
    "        else:\n",
    "            if type(i) == int or type (i) == float :\n",
    "                n.append(i)\n",
    "    return n\n",
    "    "
   ]
  },
  {
   "cell_type": "code",
   "execution_count": 66,
   "id": "f5b0db0a-412a-49c2-8721-733de9d14689",
   "metadata": {},
   "outputs": [
    {
     "data": {
      "text/plain": [
       "[6, 7, 8, 9, 10]"
      ]
     },
     "execution_count": 66,
     "metadata": {},
     "output_type": "execute_result"
    }
   ],
   "source": [
    "test7(l)"
   ]
  },
  {
   "cell_type": "code",
   "execution_count": 67,
   "id": "a7a43822-7870-46ad-9562-ce386e287f90",
   "metadata": {},
   "outputs": [],
   "source": [
    "#\n",
    "def test8(a,b,c,d,e):\n",
    "    pass"
   ]
  },
  {
   "cell_type": "code",
   "execution_count": 68,
   "id": "f99ffe05-9a8a-4fb8-969c-aef5129e0246",
   "metadata": {},
   "outputs": [
    {
     "data": {
      "text/plain": [
       "2"
      ]
     },
     "execution_count": 68,
     "metadata": {},
     "output_type": "execute_result"
    }
   ],
   "source": [
    "2"
   ]
  },
  {
   "cell_type": "code",
   "execution_count": 69,
   "id": "0c65baa0-d246-48f1-bff3-2f91949bc430",
   "metadata": {},
   "outputs": [
    {
     "data": {
      "text/plain": [
       "125"
      ]
     },
     "execution_count": 69,
     "metadata": {},
     "output_type": "execute_result"
    }
   ],
   "source": [
    "125"
   ]
  },
  {
   "cell_type": "code",
   "execution_count": 70,
   "id": "1669fef4-f37d-4372-9586-0f7ba4fced1a",
   "metadata": {},
   "outputs": [],
   "source": [
    "test8(1,2,3,4,5)"
   ]
  },
  {
   "cell_type": "code",
   "execution_count": 71,
   "id": "12a3767e-0470-4f13-a819-beeacf27a07b",
   "metadata": {},
   "outputs": [],
   "source": [
    "def test9(*args):\n",
    "    return args"
   ]
  },
  {
   "cell_type": "code",
   "execution_count": 72,
   "id": "aed9e3d1-0bb6-4cf8-95d9-aa3de18861a4",
   "metadata": {},
   "outputs": [
    {
     "data": {
      "text/plain": [
       "(5,)"
      ]
     },
     "execution_count": 72,
     "metadata": {},
     "output_type": "execute_result"
    }
   ],
   "source": [
    "test9(5)"
   ]
  },
  {
   "cell_type": "code",
   "execution_count": 75,
   "id": "124e00b6-9831-4e0e-b4a9-83271ef912c9",
   "metadata": {},
   "outputs": [
    {
     "data": {
      "text/plain": [
       "('Maddy', [1, 2, 3, 4, 5], (1, 2, 3, 4, 5))"
      ]
     },
     "execution_count": 75,
     "metadata": {},
     "output_type": "execute_result"
    }
   ],
   "source": [
    "test8\n",
    "(\"Maddy\",[1,2,3,4,5],(1,2,3,4,5))"
   ]
  },
  {
   "cell_type": "code",
   "execution_count": 80,
   "id": "bbefecee-1739-42fd-abdd-8b56c29694ae",
   "metadata": {},
   "outputs": [],
   "source": [
    "def test9(*Maddy): #n numbers of input\n",
    "    return Maddy"
   ]
  },
  {
   "cell_type": "code",
   "execution_count": 82,
   "id": "cd70d323-3ff0-4de3-8e47-135f1e21e8d7",
   "metadata": {},
   "outputs": [
    {
     "data": {
      "text/plain": [
       "(2, 3, 4, 5)"
      ]
     },
     "execution_count": 82,
     "metadata": {},
     "output_type": "execute_result"
    }
   ],
   "source": [
    "test9(2,3,4,5)"
   ]
  },
  {
   "cell_type": "code",
   "execution_count": 83,
   "id": "85c4ff8a-2097-4d29-b116-2f8cbf03b5b9",
   "metadata": {},
   "outputs": [],
   "source": [
    "def test11(*args,a):\n",
    "    return args,a"
   ]
  },
  {
   "cell_type": "code",
   "execution_count": 84,
   "id": "4002215f-865b-4836-9b7c-ab2c04f0fae4",
   "metadata": {},
   "outputs": [
    {
     "ename": "TypeError",
     "evalue": "test11() missing 1 required keyword-only argument: 'a'",
     "output_type": "error",
     "traceback": [
      "\u001b[0;31m---------------------------------------------------------------------------\u001b[0m",
      "\u001b[0;31mTypeError\u001b[0m                                 Traceback (most recent call last)",
      "Cell \u001b[0;32mIn[84], line 1\u001b[0m\n\u001b[0;32m----> 1\u001b[0m \u001b[43mtest11\u001b[49m\u001b[43m(\u001b[49m\u001b[38;5;241;43m3\u001b[39;49m\u001b[43m)\u001b[49m\n",
      "\u001b[0;31mTypeError\u001b[0m: test11() missing 1 required keyword-only argument: 'a'"
     ]
    }
   ],
   "source": [
    "test11(3)"
   ]
  },
  {
   "cell_type": "code",
   "execution_count": 85,
   "id": "039b599b-33d6-4123-bbe1-4a0aebc83f60",
   "metadata": {},
   "outputs": [
    {
     "data": {
      "text/plain": [
       "((1, 2, 3, 4), 'Maddy')"
      ]
     },
     "execution_count": 85,
     "metadata": {},
     "output_type": "execute_result"
    }
   ],
   "source": [
    "test11(1,2,3,4,a=\"Maddy\")"
   ]
  },
  {
   "cell_type": "code",
   "execution_count": 86,
   "id": "01cf33a9-6ce2-42a5-aa66-a7de4c20a27f",
   "metadata": {},
   "outputs": [],
   "source": [
    "def test12(*args): # args will be basically tuple (hold multiplr data)\n",
    "    l= []\n",
    "    for i in args:\n",
    "        if type(i) == list :\n",
    "            l.append(i)\n",
    "            return l"
   ]
  },
  {
   "cell_type": "code",
   "execution_count": 93,
   "id": "11101d85-cc18-4f48-9302-10b8a17a0353",
   "metadata": {},
   "outputs": [
    {
     "data": {
      "text/plain": [
       "[[11, 12, 13, 14, 15]]"
      ]
     },
     "execution_count": 93,
     "metadata": {},
     "output_type": "execute_result"
    }
   ],
   "source": [
    "test12(1,2,3,45,6,7,[11,12,13,14,15],(21,22,23,24,25,26),\"Maddy\",[41,42,43],[8,9,10])"
   ]
  },
  {
   "cell_type": "code",
   "execution_count": 92,
   "id": "76cf512a-9e53-49c1-9b78-5f51333ff179",
   "metadata": {},
   "outputs": [
    {
     "data": {
      "text/plain": [
       "[1, 2, 3, 4, 5, 'Maddy', 'PWSkills', [6, 7, 8, 9, 10]]"
      ]
     },
     "execution_count": 92,
     "metadata": {},
     "output_type": "execute_result"
    }
   ],
   "source": [
    "l"
   ]
  },
  {
   "cell_type": "code",
   "execution_count": 94,
   "id": "4592ab5b-5635-4b1b-862e-82a30e99a3df",
   "metadata": {},
   "outputs": [],
   "source": [
    "#dealing with dict\n",
    "def test13(**kwargs): # it takes n number of input in form of key & value\n",
    "    return kwargs"
   ]
  },
  {
   "cell_type": "code",
   "execution_count": 95,
   "id": "d2a7172a-81ef-4ce5-9468-86e7514ba235",
   "metadata": {},
   "outputs": [
    {
     "data": {
      "text/plain": [
       "<function __main__.test13(**kwargs)>"
      ]
     },
     "execution_count": 95,
     "metadata": {},
     "output_type": "execute_result"
    }
   ],
   "source": [
    "test13"
   ]
  },
  {
   "cell_type": "code",
   "execution_count": 96,
   "id": "e4d42d70-8eff-4042-b040-5f1c47a33d84",
   "metadata": {},
   "outputs": [
    {
     "data": {
      "text/plain": [
       "dict"
      ]
     },
     "execution_count": 96,
     "metadata": {},
     "output_type": "execute_result"
    }
   ],
   "source": [
    "type(test13())"
   ]
  },
  {
   "cell_type": "code",
   "execution_count": 97,
   "id": "fcc55471-5302-4811-8ac6-65986f9bb1a5",
   "metadata": {},
   "outputs": [
    {
     "data": {
      "text/plain": [
       "{'a': 24, 'b': 45, 'c': [1, 2, 3, 4], 'd': ('Maddy', 'PWSkills')}"
      ]
     },
     "execution_count": 97,
     "metadata": {},
     "output_type": "execute_result"
    }
   ],
   "source": [
    "#a=key, 34=value\n",
    "test13(a=24,b=45,c=[1,2,3,4],d=(\"Maddy\",\"PWSkills\"))"
   ]
  },
  {
   "cell_type": "code",
   "execution_count": 98,
   "id": "661a6665-7c94-4fb9-a791-fa554b237ed8",
   "metadata": {},
   "outputs": [],
   "source": [
    "#extract\n",
    "def test14(**kwargs):\n",
    "    for i in kwargs.keys():\n",
    "        if type(kwargs[i]) == list:\n",
    "            return i,kwargs[i]"
   ]
  },
  {
   "cell_type": "code",
   "execution_count": 99,
   "id": "3e575fc5-ad2f-4255-b709-d01d4fe7578f",
   "metadata": {},
   "outputs": [
    {
     "data": {
      "text/plain": [
       "<function __main__.test14(**kwargs)>"
      ]
     },
     "execution_count": 99,
     "metadata": {},
     "output_type": "execute_result"
    }
   ],
   "source": [
    "test14"
   ]
  },
  {
   "cell_type": "code",
   "execution_count": 100,
   "id": "c6f6b7f9-4c56-4a42-8fb6-621172441757",
   "metadata": {},
   "outputs": [
    {
     "data": {
      "text/plain": [
       "<function __main__.test13(**kwargs)>"
      ]
     },
     "execution_count": 100,
     "metadata": {},
     "output_type": "execute_result"
    }
   ],
   "source": [
    "test13"
   ]
  },
  {
   "cell_type": "code",
   "execution_count": 101,
   "id": "4828cda8-bda4-4d8b-8554-1e70bde3de77",
   "metadata": {},
   "outputs": [
    {
     "data": {
      "text/plain": [
       "('c', [1, 2, 3, 4])"
      ]
     },
     "execution_count": 101,
     "metadata": {},
     "output_type": "execute_result"
    }
   ],
   "source": [
    "test14(a=24,b=45,c=[1,2,3,4],d=(\"Maddy\",\"PWSkills\"))"
   ]
  },
  {
   "cell_type": "code",
   "execution_count": 102,
   "id": "a8578feb-2eaa-4ac6-baf5-a978b2561669",
   "metadata": {},
   "outputs": [],
   "source": [
    "def test15(*args,**kwargs):\n",
    "    return args,kwargs"
   ]
  },
  {
   "cell_type": "code",
   "execution_count": 103,
   "id": "5240032e-db9e-424e-b9ba-82bb6cfb4566",
   "metadata": {},
   "outputs": [
    {
     "data": {
      "text/plain": [
       "((2, 3, 4, 5), {'a': 12, 'b': 99})"
      ]
     },
     "execution_count": 103,
     "metadata": {},
     "output_type": "execute_result"
    }
   ],
   "source": [
    "#tuple & #dictionary\n",
    "test15(2,3,4,5,a=12,b=99)"
   ]
  },
  {
   "cell_type": "markdown",
   "id": "7b073b3a-c305-4efe-bf49-f371894d3230",
   "metadata": {},
   "source": [
    "##### Generator Functions"
   ]
  },
  {
   "cell_type": "code",
   "execution_count": 123,
   "id": "43a1e21d-e012-4e35-885a-affdde6ae85f",
   "metadata": {},
   "outputs": [
    {
     "data": {
      "text/plain": [
       "range(1, 10)"
      ]
     },
     "execution_count": 123,
     "metadata": {},
     "output_type": "execute_result"
    }
   ],
   "source": [
    "#rage give me a data one by one,not generate\n",
    "#test give me a data\n",
    "range(1,10)"
   ]
  },
  {
   "cell_type": "code",
   "execution_count": 105,
   "id": "5a5f63e1-d3dd-41cf-8813-0b2a76dc64aa",
   "metadata": {},
   "outputs": [
    {
     "name": "stdout",
     "output_type": "stream",
     "text": [
      "1\n",
      "2\n",
      "3\n",
      "4\n",
      "5\n",
      "6\n",
      "7\n",
      "8\n",
      "9\n"
     ]
    }
   ],
   "source": [
    "#yield use to generate this type of function\n",
    "for i in range(1,10):\n",
    "    print(i)"
   ]
  },
  {
   "cell_type": "code",
   "execution_count": 116,
   "id": "461612d8-c20c-4add-a4d9-671ef90d507a",
   "metadata": {},
   "outputs": [
    {
     "data": {
      "text/plain": [
       "[]"
      ]
     },
     "execution_count": 116,
     "metadata": {},
     "output_type": "execute_result"
    }
   ],
   "source": [
    "test1([1,2,3,4,5,6,7,8,\"Maddy\",\"PWSkills\"])"
   ]
  },
  {
   "cell_type": "code",
   "execution_count": 107,
   "id": "dedbb32a-1de8-473e-8492-cc061702022c",
   "metadata": {},
   "outputs": [],
   "source": [
    "l=[1,2,3,4,5,6,7,8,\"Maddy\",\"PWSkills\"]"
   ]
  },
  {
   "cell_type": "code",
   "execution_count": 121,
   "id": "7fe5ee9d-891f-4a15-b021-52739da320eb",
   "metadata": {},
   "outputs": [],
   "source": [
    "def test1(a):\n",
    "    n = []\n",
    "    for i in a:\n",
    "        if type(i) == int :\n",
    "            n.append(i)\n",
    "    return n"
   ]
  },
  {
   "cell_type": "code",
   "execution_count": 122,
   "id": "b5c50512-cf57-4b4d-9721-90ed14efcc0b",
   "metadata": {},
   "outputs": [
    {
     "data": {
      "text/plain": [
       "[1, 2, 3, 4, 5, 6, 7, 8]"
      ]
     },
     "execution_count": 122,
     "metadata": {},
     "output_type": "execute_result"
    }
   ],
   "source": [
    "#its never terminate itself\n",
    "#we accomadate million of data entity\n",
    "#its not store data,its provide one by one ,remember only last data\n",
    "test1(l)"
   ]
  },
  {
   "cell_type": "code",
   "execution_count": 124,
   "id": "5ca3636e-fffa-4ebb-82c4-32161b5c8a0a",
   "metadata": {},
   "outputs": [
    {
     "ename": "SyntaxError",
     "evalue": "invalid syntax (3153486308.py, line 4)",
     "output_type": "error",
     "traceback": [
      "\u001b[0;36m  Cell \u001b[0;32mIn[124], line 4\u001b[0;36m\u001b[0m\n\u001b[0;31m    Fibonacci :\u001b[0m\n\u001b[0m               ^\u001b[0m\n\u001b[0;31mSyntaxError\u001b[0m\u001b[0;31m:\u001b[0m invalid syntax\n"
     ]
    }
   ],
   "source": [
    "#not hold the whole data in memory\n",
    "# give output & forgot (not remember previous ,save lots of memeory)\n",
    "# range is a generator function\n",
    "Fibonacci :\n",
    "    0,1,1,2,3,5,8,13,21,34"
   ]
  },
  {
   "cell_type": "code",
   "execution_count": 125,
   "id": "04cf2fb3-a545-4b85-b880-1f0f8d33eafc",
   "metadata": {},
   "outputs": [],
   "source": [
    "#fibonacci logic\n",
    "def test_fib(n):\n",
    "    a,b=0,1\n",
    "    for i in range(0,n): #(iterate n times)\n",
    "        yield a #to give me record one by one\n",
    "        a,b=b,a+b #logic"
   ]
  },
  {
   "cell_type": "code",
   "execution_count": 126,
   "id": "87874513-35c7-4f61-8426-ec5a5871d34c",
   "metadata": {},
   "outputs": [
    {
     "data": {
      "text/plain": [
       "<generator object test_fib at 0x7f1ee03834c0>"
      ]
     },
     "execution_count": 126,
     "metadata": {},
     "output_type": "execute_result"
    }
   ],
   "source": [
    "test_fib(10)"
   ]
  },
  {
   "cell_type": "code",
   "execution_count": 127,
   "id": "95b52003-73ac-48cd-88b3-6d441936798a",
   "metadata": {},
   "outputs": [
    {
     "name": "stdout",
     "output_type": "stream",
     "text": [
      "0\n",
      "1\n",
      "1\n",
      "2\n",
      "3\n",
      "5\n",
      "8\n",
      "13\n",
      "21\n",
      "34\n"
     ]
    }
   ],
   "source": [
    "for i in test_fib(10):\n",
    "    print(i)"
   ]
  },
  {
   "cell_type": "code",
   "execution_count": null,
   "id": "66c9a01a-f705-4f32-933f-86a852867801",
   "metadata": {},
   "outputs": [
    {
     "name": "stderr",
     "output_type": "stream",
     "text": [
      "IOPub data rate exceeded.\n",
      "The Jupyter server will temporarily stop sending output\n",
      "to the client in order to avoid crashing it.\n",
      "To change this limit, set the config variable\n",
      "`--ServerApp.iopub_data_rate_limit`.\n",
      "\n",
      "Current values:\n",
      "ServerApp.iopub_data_rate_limit=1000000.0 (bytes/sec)\n",
      "ServerApp.rate_limit_window=3.0 (secs)\n",
      "\n"
     ]
    }
   ],
   "source": [
    "for i in test_fib(10000):\n",
    "    print(i)"
   ]
  },
  {
   "cell_type": "code",
   "execution_count": 129,
   "id": "762f7155-8e87-4f38-82f7-23d877c95fb4",
   "metadata": {},
   "outputs": [
    {
     "name": "stdout",
     "output_type": "stream",
     "text": [
      "sonali is a pretty girl\n"
     ]
    }
   ],
   "source": [
    "print(\"sonali is a pretty girl\")"
   ]
  },
  {
   "cell_type": "code",
   "execution_count": null,
   "id": "ec401a3a-400f-4300-99cf-ed36990411c6",
   "metadata": {},
   "outputs": [],
   "source": []
  }
 ],
 "metadata": {
  "kernelspec": {
   "display_name": "Python 3 (ipykernel)",
   "language": "python",
   "name": "python3"
  },
  "language_info": {
   "codemirror_mode": {
    "name": "ipython",
    "version": 3
   },
   "file_extension": ".py",
   "mimetype": "text/x-python",
   "name": "python",
   "nbconvert_exporter": "python",
   "pygments_lexer": "ipython3",
   "version": "3.10.8"
  }
 },
 "nbformat": 4,
 "nbformat_minor": 5
}
