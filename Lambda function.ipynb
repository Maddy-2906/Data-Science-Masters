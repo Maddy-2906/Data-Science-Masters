{
 "cells": [
  {
   "cell_type": "markdown",
   "id": "27ae44d7-78df-46aa-9d38-8e3808b6a303",
   "metadata": {},
   "source": [
    "# lambda Function"
   ]
  },
  {
   "cell_type": "code",
   "execution_count": 1,
   "id": "582f7068-54bd-4087-a26d-da8d4e291ef1",
   "metadata": {},
   "outputs": [],
   "source": [
    "n=3\n",
    "p=2"
   ]
  },
  {
   "cell_type": "code",
   "execution_count": 2,
   "id": "d0383c2f-47c8-487d-bce0-1805ef653efb",
   "metadata": {},
   "outputs": [],
   "source": [
    "def  test(n,p):\n",
    "    return n**p #square"
   ]
  },
  {
   "cell_type": "code",
   "execution_count": 3,
   "id": "92411253-3690-4ec4-8387-b1c4650d186e",
   "metadata": {},
   "outputs": [
    {
     "data": {
      "text/plain": [
       "9"
      ]
     },
     "execution_count": 3,
     "metadata": {},
     "output_type": "execute_result"
    }
   ],
   "source": [
    "test(3,2)"
   ]
  },
  {
   "cell_type": "code",
   "execution_count": 4,
   "id": "d93dd483-31d4-4211-a1bf-841739a65b6c",
   "metadata": {},
   "outputs": [
    {
     "data": {
      "text/plain": [
       "6561"
      ]
     },
     "execution_count": 4,
     "metadata": {},
     "output_type": "execute_result"
    }
   ],
   "source": [
    "test(9,4)"
   ]
  },
  {
   "cell_type": "code",
   "execution_count": null,
   "id": "44ecc88d-0091-4ccd-95a5-a095bd037988",
   "metadata": {},
   "outputs": [],
   "source": [
    "#anomouse funstion, a function without name\n",
    "a=lambda n,p:n**p"
   ]
  },
  {
   "cell_type": "code",
   "execution_count": 8,
   "id": "2141dfac-d4f1-4b07-a583-af610185eef0",
   "metadata": {},
   "outputs": [
    {
     "data": {
      "text/plain": [
       "9"
      ]
     },
     "execution_count": 8,
     "metadata": {},
     "output_type": "execute_result"
    }
   ],
   "source": [
    "a(3,2)"
   ]
  },
  {
   "cell_type": "code",
   "execution_count": 9,
   "id": "8a1ca116-6bf2-4f80-80d4-0f45adbaf86f",
   "metadata": {},
   "outputs": [
    {
     "data": {
      "text/plain": [
       "16"
      ]
     },
     "execution_count": 9,
     "metadata": {},
     "output_type": "execute_result"
    }
   ],
   "source": [
    "a(2,4)"
   ]
  },
  {
   "cell_type": "code",
   "execution_count": 11,
   "id": "c63dc26f-7bb3-4c9d-9d5c-e792c70ae45a",
   "metadata": {},
   "outputs": [],
   "source": [
    "#short hand function,one liner function\n",
    "add=lambda x,y :x+y"
   ]
  },
  {
   "cell_type": "code",
   "execution_count": 13,
   "id": "13959fdd-cf01-45b6-ba9e-da400c616a45",
   "metadata": {},
   "outputs": [
    {
     "data": {
      "text/plain": [
       "1111"
      ]
     },
     "execution_count": 13,
     "metadata": {},
     "output_type": "execute_result"
    }
   ],
   "source": [
    "add(453,658)"
   ]
  },
  {
   "cell_type": "code",
   "execution_count": 14,
   "id": "6553425e-13d1-49e7-8313-330c0b9c7888",
   "metadata": {},
   "outputs": [],
   "source": [
    "c_to_f=lambda c :(9/5)*c+32"
   ]
  },
  {
   "cell_type": "code",
   "execution_count": 15,
   "id": "c0f78298-111b-4f60-b362-367a096a54bd",
   "metadata": {},
   "outputs": [
    {
     "data": {
      "text/plain": [
       "98.60000000000001"
      ]
     },
     "execution_count": 15,
     "metadata": {},
     "output_type": "execute_result"
    }
   ],
   "source": [
    "c_to_f(37)"
   ]
  },
  {
   "cell_type": "code",
   "execution_count": 22,
   "id": "e82134b1-7a78-4afb-bf5c-e1511ce6ce21",
   "metadata": {},
   "outputs": [],
   "source": [
    "max_two = lambda x,y : x if x>y else y"
   ]
  },
  {
   "cell_type": "code",
   "execution_count": 24,
   "id": "649a4ac4-0411-4ae5-8c90-bbadc4352d04",
   "metadata": {},
   "outputs": [
    {
     "data": {
      "text/plain": [
       "5"
      ]
     },
     "execution_count": 24,
     "metadata": {},
     "output_type": "execute_result"
    }
   ],
   "source": [
    "max_two(4,5)"
   ]
  },
  {
   "cell_type": "code",
   "execution_count": 28,
   "id": "214781db-b37d-48c4-b620-c034ab64a0da",
   "metadata": {},
   "outputs": [],
   "source": [
    "s=\"PwSkills\""
   ]
  },
  {
   "cell_type": "code",
   "execution_count": 26,
   "id": "5d531127-27ce-4526-ad76-238d0e026e12",
   "metadata": {},
   "outputs": [],
   "source": [
    "len_str = lambda s : len(s)"
   ]
  },
  {
   "cell_type": "code",
   "execution_count": 29,
   "id": "45390a0e-8ae1-47a1-ab00-82184f818111",
   "metadata": {},
   "outputs": [
    {
     "data": {
      "text/plain": [
       "8"
      ]
     },
     "execution_count": 29,
     "metadata": {},
     "output_type": "execute_result"
    }
   ],
   "source": [
    "len_str(s)"
   ]
  },
  {
   "cell_type": "markdown",
   "id": "13abf626-4c3d-41e3-a479-dceb4d2d9925",
   "metadata": {},
   "source": [
    "#### Map,Reduce,filter Function"
   ]
  },
  {
   "cell_type": "code",
   "execution_count": 30,
   "id": "cbe74ddd-08dc-4506-86cd-59e29d6cd895",
   "metadata": {},
   "outputs": [],
   "source": [
    "#iterable means list,string,tuple\n",
    "l=[1,2,3,4,5,6]"
   ]
  },
  {
   "cell_type": "code",
   "execution_count": 38,
   "id": "1bb7dcdb-6c1d-4a5f-a5ef-2a73c67b31a1",
   "metadata": {},
   "outputs": [],
   "source": [
    "def test(l):\n",
    "    l1=[]\n",
    "    for i in l:\n",
    "        l1.append(i**2)\n",
    "    return l1"
   ]
  },
  {
   "cell_type": "code",
   "execution_count": 39,
   "id": "83b50c2e-7c1b-44e5-ad97-247a10516722",
   "metadata": {},
   "outputs": [
    {
     "data": {
      "text/plain": [
       "[1, 4, 9, 16, 25, 36]"
      ]
     },
     "execution_count": 39,
     "metadata": {},
     "output_type": "execute_result"
    }
   ],
   "source": [
    "test(l)"
   ]
  },
  {
   "cell_type": "code",
   "execution_count": 42,
   "id": "bc59ac4e-0376-4867-8e99-fe62a12cc401",
   "metadata": {},
   "outputs": [],
   "source": [
    "def sq(x):\n",
    "   return x**2"
   ]
  },
  {
   "cell_type": "code",
   "execution_count": 43,
   "id": "42b4033b-c3a5-4222-9d0b-1546236289fc",
   "metadata": {},
   "outputs": [
    {
     "data": {
      "text/plain": [
       "[1, 4, 9, 16, 25, 36]"
      ]
     },
     "execution_count": 43,
     "metadata": {},
     "output_type": "execute_result"
    }
   ],
   "source": [
    "list(map(sq,l))"
   ]
  },
  {
   "cell_type": "code",
   "execution_count": 44,
   "id": "ae59d9da-61b8-4e10-a5ba-ea2b1de831a7",
   "metadata": {},
   "outputs": [
    {
     "data": {
      "text/plain": [
       "[1, 4, 9, 16, 25, 36]"
      ]
     },
     "execution_count": 44,
     "metadata": {},
     "output_type": "execute_result"
    }
   ],
   "source": [
    "#mapper function\n",
    "list(map(lambda x:x**2,l))"
   ]
  },
  {
   "cell_type": "code",
   "execution_count": 45,
   "id": "974f092f-800c-4cf6-85f6-e330213cfe9d",
   "metadata": {},
   "outputs": [
    {
     "data": {
      "text/plain": [
       "['1', '2', '3', '4', '5', '6']"
      ]
     },
     "execution_count": 45,
     "metadata": {},
     "output_type": "execute_result"
    }
   ],
   "source": [
    "list(map(lambda x:str(x),l))"
   ]
  },
  {
   "cell_type": "code",
   "execution_count": 46,
   "id": "3eb86636-02de-4409-81dd-93cf80f5f84c",
   "metadata": {},
   "outputs": [],
   "source": [
    "l1=[1,2,3,4,5]\n",
    "l2=[6,7,8,9,10]"
   ]
  },
  {
   "cell_type": "code",
   "execution_count": 47,
   "id": "af172db7-207e-4fab-82f2-09ba405cdf5b",
   "metadata": {},
   "outputs": [
    {
     "data": {
      "text/plain": [
       "[7, 9, 11, 13, 15]"
      ]
     },
     "execution_count": 47,
     "metadata": {},
     "output_type": "execute_result"
    }
   ],
   "source": [
    "list(map(lambda x,y : x+y , l1,l2))"
   ]
  },
  {
   "cell_type": "code",
   "execution_count": 48,
   "id": "5a983b2c-5303-4843-b239-0b8d82ce7c9d",
   "metadata": {},
   "outputs": [
    {
     "data": {
      "text/plain": [
       "[6, 14, 24, 36, 50]"
      ]
     },
     "execution_count": 48,
     "metadata": {},
     "output_type": "execute_result"
    }
   ],
   "source": [
    "list(map(lambda x,y : x*y , l1,l2))"
   ]
  },
  {
   "cell_type": "code",
   "execution_count": 49,
   "id": "d3cb058e-3d0c-428d-b90c-df9cb357c3d4",
   "metadata": {},
   "outputs": [],
   "source": [
    "f=lambda x,y : x+y"
   ]
  },
  {
   "cell_type": "code",
   "execution_count": 50,
   "id": "a0c11e69-3060-4006-ba17-8934d6d2eeea",
   "metadata": {},
   "outputs": [],
   "source": [
    "s=\"PWSkills\""
   ]
  },
  {
   "cell_type": "code",
   "execution_count": 51,
   "id": "46d17198-38b2-489e-8d20-3cd0b856e15e",
   "metadata": {},
   "outputs": [
    {
     "data": {
      "text/plain": [
       "['P', 'W', 'S', 'K', 'I', 'L', 'L', 'S']"
      ]
     },
     "execution_count": 51,
     "metadata": {},
     "output_type": "execute_result"
    }
   ],
   "source": [
    "list(map(lambda x: x.upper(),s))"
   ]
  },
  {
   "cell_type": "markdown",
   "id": "6f68af01-0167-4e0a-95a1-f9320a379659",
   "metadata": {},
   "source": [
    "#### Reduce Function"
   ]
  },
  {
   "cell_type": "code",
   "execution_count": 52,
   "id": "a87ffba2-9d13-43ef-8056-4e0e00fcc986",
   "metadata": {},
   "outputs": [],
   "source": [
    "#Reduce not avaiable in Python its import from liberary\n",
    "from functools import reduce"
   ]
  },
  {
   "cell_type": "code",
   "execution_count": 53,
   "id": "f2d4ac79-d591-462d-8fc9-6ae6fa28d135",
   "metadata": {},
   "outputs": [],
   "source": [
    "l=[1,2,3,4,5,6]"
   ]
  },
  {
   "cell_type": "code",
   "execution_count": 54,
   "id": "fa2ed25e-ec05-4588-9415-efdd0a6046eb",
   "metadata": {},
   "outputs": [
    {
     "data": {
      "text/plain": [
       "21"
      ]
     },
     "execution_count": 54,
     "metadata": {},
     "output_type": "execute_result"
    }
   ],
   "source": [
    "#give a one result\n",
    "reduce(lambda x,y : x+y , l)"
   ]
  },
  {
   "cell_type": "code",
   "execution_count": null,
   "id": "3509ca8f-2a02-4e6e-81ff-c9d3f44aee01",
   "metadata": {},
   "outputs": [],
   "source": [
    "s=\"Data Science masters\""
   ]
  },
  {
   "cell_type": "code",
   "execution_count": 56,
   "id": "58ab137c-0026-4d68-925a-835c160b0e8f",
   "metadata": {},
   "outputs": [],
   "source": [
    "def add(x,y):\n",
    "    return x*y"
   ]
  },
  {
   "cell_type": "code",
   "execution_count": 57,
   "id": "09c02601-5108-49d6-9914-afef8393a51f",
   "metadata": {},
   "outputs": [
    {
     "data": {
      "text/plain": [
       "720"
      ]
     },
     "execution_count": 57,
     "metadata": {},
     "output_type": "execute_result"
    }
   ],
   "source": [
    "reduce(add,l)"
   ]
  },
  {
   "cell_type": "code",
   "execution_count": 60,
   "id": "dc25d78a-c990-4cf3-8cb4-4d87291b999d",
   "metadata": {},
   "outputs": [
    {
     "data": {
      "text/plain": [
       "[1, 2, 3, 4, 5, 6]"
      ]
     },
     "execution_count": 60,
     "metadata": {},
     "output_type": "execute_result"
    }
   ],
   "source": [
    "reduce(lambda x, y :x*y , [l])"
   ]
  },
  {
   "cell_type": "code",
   "execution_count": 61,
   "id": "10819bc9-7b91-4692-9bd4-a4ceecad6f1f",
   "metadata": {},
   "outputs": [
    {
     "data": {
      "text/plain": [
       "6"
      ]
     },
     "execution_count": 61,
     "metadata": {},
     "output_type": "execute_result"
    }
   ],
   "source": [
    "reduce(lambda x,y : x if x>y else y,l)"
   ]
  },
  {
   "cell_type": "markdown",
   "id": "f052902a-a325-4f23-bbb1-def05caac099",
   "metadata": {},
   "source": [
    "#### Filter Function"
   ]
  },
  {
   "cell_type": "code",
   "execution_count": 64,
   "id": "6ca88d1d-148f-45e5-84c5-91d06cee6be0",
   "metadata": {},
   "outputs": [
    {
     "data": {
      "text/plain": [
       "[1, 2, 3, 4, 5, 6]"
      ]
     },
     "execution_count": 64,
     "metadata": {},
     "output_type": "execute_result"
    }
   ],
   "source": [
    "l"
   ]
  },
  {
   "cell_type": "code",
   "execution_count": 67,
   "id": "c54b2f00-eaba-4f7f-a65a-deb5fad58257",
   "metadata": {},
   "outputs": [
    {
     "data": {
      "text/plain": [
       "[2, 4, 6]"
      ]
     },
     "execution_count": 67,
     "metadata": {},
     "output_type": "execute_result"
    }
   ],
   "source": [
    "list(filter(lambda x: x % 2== 0,l))"
   ]
  },
  {
   "cell_type": "code",
   "execution_count": 68,
   "id": "fb09a6fe-896f-4348-9384-109805166753",
   "metadata": {},
   "outputs": [
    {
     "data": {
      "text/plain": [
       "[1, 3, 5]"
      ]
     },
     "execution_count": 68,
     "metadata": {},
     "output_type": "execute_result"
    }
   ],
   "source": [
    "list(filter(lambda x :x%2!=0,l))"
   ]
  },
  {
   "cell_type": "code",
   "execution_count": 73,
   "id": "56c7d3c0-a8be-43e2-85c8-ca9241e3c431",
   "metadata": {},
   "outputs": [],
   "source": [
    "l1=[1,-2,-3,5,-7,9,-8,-12]"
   ]
  },
  {
   "cell_type": "code",
   "execution_count": 74,
   "id": "c13262ef-22ae-4e22-8b1d-c6fb061d4eca",
   "metadata": {},
   "outputs": [
    {
     "data": {
      "text/plain": [
       "[-2, -3, -7, -8, -12]"
      ]
     },
     "execution_count": 74,
     "metadata": {},
     "output_type": "execute_result"
    }
   ],
   "source": [
    "list(filter(lambda x : x < 0 ,l1))"
   ]
  },
  {
   "cell_type": "code",
   "execution_count": 75,
   "id": "5b0acfee-0dc5-4957-81b0-79be90e6aa73",
   "metadata": {},
   "outputs": [
    {
     "data": {
      "text/plain": [
       "[1, 5, 9]"
      ]
     },
     "execution_count": 75,
     "metadata": {},
     "output_type": "execute_result"
    }
   ],
   "source": [
    "list(filter(lambda x : x >= 0 ,l1))"
   ]
  },
  {
   "cell_type": "code",
   "execution_count": 76,
   "id": "6298e37c-33ba-4af6-8e12-9cf9d442a4ec",
   "metadata": {},
   "outputs": [],
   "source": [
    "l2=['Maddy','krish','Oppo','STE','Rishikesh']"
   ]
  },
  {
   "cell_type": "code",
   "execution_count": 77,
   "id": "3e8ea750-4923-47a5-b3d9-fb65c40f4a9d",
   "metadata": {},
   "outputs": [
    {
     "data": {
      "text/plain": [
       "['Maddy', 'krish', 'Oppo', 'STE']"
      ]
     },
     "execution_count": 77,
     "metadata": {},
     "output_type": "execute_result"
    }
   ],
   "source": [
    "list(filter(lambda x: len(x)<6,l2))"
   ]
  },
  {
   "cell_type": "code",
   "execution_count": 78,
   "id": "9210e0ec-bbc2-4dd8-83a9-472ba6a589ae",
   "metadata": {},
   "outputs": [
    {
     "data": {
      "text/plain": [
       "['Rishikesh']"
      ]
     },
     "execution_count": 78,
     "metadata": {},
     "output_type": "execute_result"
    }
   ],
   "source": [
    "list(filter(lambda x: len(x)>6,l2))"
   ]
  },
  {
   "cell_type": "code",
   "execution_count": 82,
   "id": "6874bc33-1bf1-4ca2-bafe-7b98c7f6d675",
   "metadata": {},
   "outputs": [
    {
     "name": "stdout",
     "output_type": "stream",
     "text": [
      "[2, 4]\n"
     ]
    }
   ],
   "source": [
    "numbers = [1, 2, 3, 4, 5]\n",
    "\n",
    "even_numbers = filter(lambda x: x%2 == 0, numbers)\n",
    "\n",
    "print(list(even_numbers))"
   ]
  },
  {
   "cell_type": "code",
   "execution_count": null,
   "id": "b35e8f6f-6898-4359-a0f5-c5363c7395bd",
   "metadata": {},
   "outputs": [],
   "source": [
    "numbers = [1, 2, 3, 4, 5]\n",
    "\n",
    "product = reduce(lambda x, y: x*y, numbers)\n",
    "\n",
    "print(product)"
   ]
  },
  {
   "cell_type": "code",
   "execution_count": 3,
   "id": "86f02483-8c5f-4c4c-a261-d77324f99bba",
   "metadata": {},
   "outputs": [],
   "source": [
    "l=[1,2,3,4,5,6,7,8,9,10]"
   ]
  },
  {
   "cell_type": "code",
   "execution_count": 4,
   "id": "6b716f76-d466-4f72-9e31-1cee21420b4b",
   "metadata": {},
   "outputs": [
    {
     "data": {
      "text/plain": [
       "[2, 4, 6, 8, 10]"
      ]
     },
     "execution_count": 4,
     "metadata": {},
     "output_type": "execute_result"
    }
   ],
   "source": [
    "list(filter(lambda x: x % 2== 0,l))"
   ]
  },
  {
   "cell_type": "code",
   "execution_count": null,
   "id": "6a45351d-7bd4-484f-a11f-44401b01474d",
   "metadata": {},
   "outputs": [],
   "source": [
    "list(map(lambda x : x**2 , l))"
   ]
  },
  {
   "cell_type": "code",
   "execution_count": null,
   "id": "d5742db3-79ba-4528-a839-2f9cb87df64c",
   "metadata": {},
   "outputs": [],
   "source": []
  }
 ],
 "metadata": {
  "kernelspec": {
   "display_name": "Python 3 (ipykernel)",
   "language": "python",
   "name": "python3"
  },
  "language_info": {
   "codemirror_mode": {
    "name": "ipython",
    "version": 3
   },
   "file_extension": ".py",
   "mimetype": "text/x-python",
   "name": "python",
   "nbconvert_exporter": "python",
   "pygments_lexer": "ipython3",
   "version": "3.10.8"
  }
 },
 "nbformat": 4,
 "nbformat_minor": 5
}
