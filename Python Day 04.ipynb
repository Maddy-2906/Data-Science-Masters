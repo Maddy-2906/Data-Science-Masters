{
 "cells": [
  {
   "cell_type": "code",
   "execution_count": 4,
   "id": "33a5b489-cede-45b2-a92b-52c01230da82",
   "metadata": {},
   "outputs": [
    {
     "name": "stdout",
     "output_type": "stream",
     "text": [
      "Welcome the 4th Day of Data Science course\n"
     ]
    }
   ],
   "source": [
    "print(\"Welcome the 4th Day of Data Science course\")"
   ]
  },
  {
   "cell_type": "code",
   "execution_count": null,
   "id": "d09169d6-159c-4f4f-bf51-faaa891393c9",
   "metadata": {},
   "outputs": [],
   "source": [
    "#focus on logical Building"
   ]
  },
  {
   "cell_type": "code",
   "execution_count": 7,
   "id": "97d23263-112c-42b6-bfba-d1e5da47e669",
   "metadata": {},
   "outputs": [],
   "source": [
    "name=\"Data Science Masters\""
   ]
  },
  {
   "cell_type": "code",
   "execution_count": 8,
   "id": "c42402af-e66d-4f72-b6c5-3a7d69ec8d5a",
   "metadata": {},
   "outputs": [
    {
     "data": {
      "text/plain": [
       "'dATA sCIENCE mASTERS'"
      ]
     },
     "execution_count": 8,
     "metadata": {},
     "output_type": "execute_result"
    }
   ],
   "source": [
    "name.swapcase()"
   ]
  },
  {
   "cell_type": "code",
   "execution_count": 9,
   "id": "ba5f0bab-58f7-4f41-9116-4eee8f28fb8d",
   "metadata": {},
   "outputs": [
    {
     "data": {
      "text/plain": [
       "'Data Science Masters'"
      ]
     },
     "execution_count": 9,
     "metadata": {},
     "output_type": "execute_result"
    }
   ],
   "source": [
    "#first letter convert in capital\n",
    "name.title()"
   ]
  },
  {
   "cell_type": "code",
   "execution_count": 11,
   "id": "a8510044-c383-4a4c-b688-a7408e7d94b8",
   "metadata": {},
   "outputs": [
    {
     "data": {
      "text/plain": [
       "'Data science masters'"
      ]
     },
     "execution_count": 11,
     "metadata": {},
     "output_type": "execute_result"
    }
   ],
   "source": [
    "#only first letter convert capital rest in small letter\n",
    "name.capitalize()"
   ]
  },
  {
   "cell_type": "markdown",
   "id": "3959b8db-9905-4f5e-90c6-3f733579a3fa",
   "metadata": {},
   "source": [
    "# Reversing a String"
   ]
  },
  {
   "cell_type": "code",
   "execution_count": 12,
   "id": "16792705-0384-49bb-b3ce-6c7e43cae4c1",
   "metadata": {},
   "outputs": [
    {
     "data": {
      "text/plain": [
       "<reversed at 0x7f5340c36f80>"
      ]
     },
     "execution_count": 12,
     "metadata": {},
     "output_type": "execute_result"
    }
   ],
   "source": [
    "reversed(name)"
   ]
  },
  {
   "cell_type": "code",
   "execution_count": 13,
   "id": "ec693602-1ca0-45a8-804d-9393bad9e351",
   "metadata": {},
   "outputs": [
    {
     "data": {
      "text/plain": [
       "'sretsaM ecneicS ataD'"
      ]
     },
     "execution_count": 13,
     "metadata": {},
     "output_type": "execute_result"
    }
   ],
   "source": [
    "name[::-1]"
   ]
  },
  {
   "cell_type": "code",
   "execution_count": 14,
   "id": "6cf3a27e-4085-4d40-b09e-45bcb7141595",
   "metadata": {},
   "outputs": [
    {
     "data": {
      "text/plain": [
       "'s r e t s a M   e c n e i c S   a t a D'"
      ]
     },
     "execution_count": 14,
     "metadata": {},
     "output_type": "execute_result"
    }
   ],
   "source": [
    "#\n",
    "' '.join (reversed(name))"
   ]
  },
  {
   "cell_type": "code",
   "execution_count": 15,
   "id": "6b9b77d3-81f8-4298-9f72-ebf6e127dbd0",
   "metadata": {},
   "outputs": [
    {
     "data": {
      "text/plain": [
       "'NMaddyeMaddygMaddyi'"
      ]
     },
     "execution_count": 15,
     "metadata": {},
     "output_type": "execute_result"
    }
   ],
   "source": [
    "#\n",
    "\"Maddy\".join(\"Negi\")"
   ]
  },
  {
   "cell_type": "code",
   "execution_count": 17,
   "id": "866b83c9-a850-42e5-aa75-0d1ec087faf6",
   "metadata": {},
   "outputs": [
    {
     "data": {
      "text/plain": [
       "'t n a'"
      ]
     },
     "execution_count": 17,
     "metadata": {},
     "output_type": "execute_result"
    }
   ],
   "source": [
    "' '.join(reversed(\"ant\"))"
   ]
  },
  {
   "cell_type": "code",
   "execution_count": 19,
   "id": "39cdaf80-e1c8-4598-b0a0-8d03a6def628",
   "metadata": {},
   "outputs": [
    {
     "data": {
      "text/plain": [
       "'ant'"
      ]
     },
     "execution_count": 19,
     "metadata": {},
     "output_type": "execute_result"
    }
   ],
   "source": [
    "''.join(\"ant\")"
   ]
  },
  {
   "cell_type": "code",
   "execution_count": 22,
   "id": "c50ad1bd-9983-4f0d-b1db-e53039860c79",
   "metadata": {},
   "outputs": [
    {
     "data": {
      "text/plain": [
       "'t PWskills n PWskills a'"
      ]
     },
     "execution_count": 22,
     "metadata": {},
     "output_type": "execute_result"
    }
   ],
   "source": [
    "# when you give space the  its priovide space if not the add together each word\n",
    "' PWskills '.join(reversed(\"ant\"))"
   ]
  },
  {
   "cell_type": "code",
   "execution_count": 23,
   "id": "5d721581-46e1-4c06-b75c-fe33ed7f02ad",
   "metadata": {},
   "outputs": [],
   "source": [
    "#string can not be reverse\n",
    "str1=\"PW is a Good company\""
   ]
  },
  {
   "cell_type": "code",
   "execution_count": 26,
   "id": "06d33bb8-6d6e-4a9c-9a53-fdbd0a97a2a7",
   "metadata": {},
   "outputs": [
    {
     "data": {
      "text/plain": [
       "['t', 'n', 'a']"
      ]
     },
     "execution_count": 26,
     "metadata": {},
     "output_type": "execute_result"
    }
   ],
   "source": [
    "#typecasting\n",
    "list(reversed(\"ant\"))"
   ]
  },
  {
   "cell_type": "code",
   "execution_count": 28,
   "id": "d5feb857-61fe-42f3-98d0-a579521bafc5",
   "metadata": {},
   "outputs": [
    {
     "name": "stdout",
     "output_type": "stream",
     "text": [
      "sretsaM ecneicS ataD"
     ]
    }
   ],
   "source": [
    "for i in list(reversed(name)):\n",
    "    print(i,end='')"
   ]
  },
  {
   "cell_type": "code",
   "execution_count": null,
   "id": "80f60dac-06b7-4372-95c3-ee549a7c336d",
   "metadata": {},
   "outputs": [],
   "source": [
    "#removing character from the end of the string"
   ]
  },
  {
   "cell_type": "code",
   "execution_count": 29,
   "id": "08774cc7-121f-431d-9735-0ca94b4f4e2e",
   "metadata": {},
   "outputs": [],
   "source": [
    "string_a=\"PWskills\""
   ]
  },
  {
   "cell_type": "code",
   "execution_count": 30,
   "id": "0b8d574c-6e03-4c49-a21f-3864debd72ce",
   "metadata": {},
   "outputs": [
    {
     "data": {
      "text/plain": [
       "'PWskills'"
      ]
     },
     "execution_count": 30,
     "metadata": {},
     "output_type": "execute_result"
    }
   ],
   "source": [
    "string_a.strip(\" \")"
   ]
  },
  {
   "cell_type": "code",
   "execution_count": 31,
   "id": "86370113-08f2-4b8e-9365-6376ba4dddf9",
   "metadata": {},
   "outputs": [
    {
     "data": {
      "text/plain": [
       "'PWskills'"
      ]
     },
     "execution_count": 31,
     "metadata": {},
     "output_type": "execute_result"
    }
   ],
   "source": [
    "string_a.lstrip(\" \")"
   ]
  },
  {
   "cell_type": "code",
   "execution_count": 32,
   "id": "608f2620-3df2-4c12-9ab3-35a291cedbef",
   "metadata": {},
   "outputs": [
    {
     "data": {
      "text/plain": [
       "'PWskills'"
      ]
     },
     "execution_count": 32,
     "metadata": {},
     "output_type": "execute_result"
    }
   ],
   "source": [
    "string_a.rstrip(\" \")"
   ]
  },
  {
   "cell_type": "code",
   "execution_count": 35,
   "id": "c9d0e9f5-b5cc-44ee-8f5d-d7433d8fe5bb",
   "metadata": {},
   "outputs": [
    {
     "data": {
      "text/plain": [
       "'Greeting to PWskills'"
      ]
     },
     "execution_count": 37,
     "metadata": {},
     "output_type": "execute_result"
    }
   ],
   "source": [
    "#we can not replace charcter,we replace word-immutable\n",
    "#its completely replace word to word\n",
    "#replace function create a new string,its is not update any charcter,its create a new string\n",
    "string_n=\"Greeting to PWskills\"\n",
    "string_n.replace(\"to\",\"from\")"
   ]
  },
  {
   "cell_type": "code",
   "execution_count": 38,
   "id": "fcdfcedb-06e8-40b7-a1e9-b868dfe0c732",
   "metadata": {},
   "outputs": [],
   "source": [
    "string_n=\"greeting to PWskills\"\n",
    "var_a=string_n.replace(\"G\",\"T\")"
   ]
  },
  {
   "cell_type": "code",
   "execution_count": 40,
   "id": "1e22d4ce-93a0-42ff-b7ac-9ce65fcdba18",
   "metadata": {},
   "outputs": [
    {
     "name": "stdout",
     "output_type": "stream",
     "text": [
      "139994977497088\n",
      "139994977497088\n"
     ]
    }
   ],
   "source": [
    "print(id(string_n))\n",
    "print(id(var_a))"
   ]
  },
  {
   "cell_type": "code",
   "execution_count": 43,
   "id": "13576b8c-5c5d-4114-9b83-15b35caf96e7",
   "metadata": {},
   "outputs": [
    {
     "data": {
      "text/plain": [
       "'testgmail.com'"
      ]
     },
     "execution_count": 43,
     "metadata": {},
     "output_type": "execute_result"
    }
   ],
   "source": [
    "string_n=\"test@gmail.com\"\n",
    "var_a=string_n.replace(\"@\",\"\")\n",
    "var_a"
   ]
  },
  {
   "cell_type": "code",
   "execution_count": 45,
   "id": "02569902-95ea-4b4f-a501-55864eabcbdf",
   "metadata": {},
   "outputs": [],
   "source": [
    "str1=\"Welecome to pwskills.welcome to Dat cience Masters\""
   ]
  },
  {
   "cell_type": "code",
   "execution_count": 47,
   "id": "5f332f3a-2cf5-4e95-9dab-0a73beff15a1",
   "metadata": {},
   "outputs": [
    {
     "data": {
      "text/plain": [
       "'Welecome to pwskills.welcome to Data Science Masters'"
      ]
     },
     "execution_count": 47,
     "metadata": {},
     "output_type": "execute_result"
    }
   ],
   "source": [
    "str1.replace(\"Dat\",\"Data\").replace(\"cience\",\"Science\")\n",
    "             "
   ]
  },
  {
   "cell_type": "code",
   "execution_count": 51,
   "id": "12cd28dc-b3da-46c7-8d56-b6de4e6302d9",
   "metadata": {},
   "outputs": [],
   "source": [
    "str1=\"MADDY\""
   ]
  },
  {
   "cell_type": "code",
   "execution_count": 52,
   "id": "fa8317b8-3d75-4ce0-b2ea-1ca9f0c95748",
   "metadata": {},
   "outputs": [
    {
     "data": {
      "text/plain": [
       "True"
      ]
     },
     "execution_count": 52,
     "metadata": {},
     "output_type": "execute_result"
    }
   ],
   "source": [
    "#its print alphabate capital or small\n",
    "str1.isupper()"
   ]
  },
  {
   "cell_type": "code",
   "execution_count": 50,
   "id": "6020e627-9786-4b52-bb4a-9bd7661176c1",
   "metadata": {},
   "outputs": [
    {
     "data": {
      "text/plain": [
       "False"
      ]
     },
     "execution_count": 50,
     "metadata": {},
     "output_type": "execute_result"
    }
   ],
   "source": [
    "str1.islower()"
   ]
  },
  {
   "cell_type": "code",
   "execution_count": 53,
   "id": "d8c93873-9caa-426d-9a4d-b7766a3a0e54",
   "metadata": {},
   "outputs": [
    {
     "name": "stdout",
     "output_type": "stream",
     "text": [
      "Hello\n"
     ]
    }
   ],
   "source": [
    "if \" \".isspace():\n",
    "    print(\"Hello\")"
   ]
  },
  {
   "cell_type": "code",
   "execution_count": 54,
   "id": "f4aac599-14b7-458f-ac7c-23cbb1bb0372",
   "metadata": {},
   "outputs": [],
   "source": [
    "str2=\"PWSkills\""
   ]
  },
  {
   "cell_type": "code",
   "execution_count": 58,
   "id": "24630398-8745-46b1-af8d-8decb3700739",
   "metadata": {},
   "outputs": [
    {
     "data": {
      "text/plain": [
       "True"
      ]
     },
     "execution_count": 58,
     "metadata": {},
     "output_type": "execute_result"
    }
   ],
   "source": [
    "str2.endswith('s')"
   ]
  },
  {
   "cell_type": "code",
   "execution_count": 59,
   "id": "f4b2b396-8e4d-4d7d-bd0d-aeebfa0b4833",
   "metadata": {},
   "outputs": [
    {
     "data": {
      "text/plain": [
       "False"
      ]
     },
     "execution_count": 59,
     "metadata": {},
     "output_type": "execute_result"
    }
   ],
   "source": [
    "str2.endswith('p')"
   ]
  },
  {
   "cell_type": "code",
   "execution_count": 60,
   "id": "fc35603c-71d7-4e9a-a195-8e8e0551245a",
   "metadata": {},
   "outputs": [
    {
     "data": {
      "text/plain": [
       "True"
      ]
     },
     "execution_count": 60,
     "metadata": {},
     "output_type": "execute_result"
    }
   ],
   "source": [
    "## check if all the character in string are alphanumeric\n",
    "a=\"abcd1234\"\n",
    "a.isalnum()"
   ]
  },
  {
   "cell_type": "code",
   "execution_count": 65,
   "id": "b533e895-8e1f-4f3c-9a14-aea76b10a34b",
   "metadata": {},
   "outputs": [
    {
     "name": "stdout",
     "output_type": "stream",
     "text": [
      "8\n"
     ]
    }
   ],
   "source": [
    "##to count the number of the character in the strings\n",
    "count=0\n",
    "for i in str2:\n",
    "    count=count+1\n",
    "    \n",
    "print(count)"
   ]
  },
  {
   "cell_type": "code",
   "execution_count": 66,
   "id": "4fcbe73f-b168-4d71-ac68-402ba94545a7",
   "metadata": {},
   "outputs": [
    {
     "data": {
      "text/plain": [
       "8"
      ]
     },
     "execution_count": 66,
     "metadata": {},
     "output_type": "execute_result"
    }
   ],
   "source": [
    "len(str2)"
   ]
  },
  {
   "cell_type": "code",
   "execution_count": 67,
   "id": "83141b20-c56e-4c3d-a40b-5078981580ad",
   "metadata": {},
   "outputs": [
    {
     "data": {
      "text/plain": [
       "'PWSkills'"
      ]
     },
     "execution_count": 67,
     "metadata": {},
     "output_type": "execute_result"
    }
   ],
   "source": [
    "str2"
   ]
  },
  {
   "cell_type": "code",
   "execution_count": 70,
   "id": "a516e326-7ea0-40ca-a492-0ca696418c32",
   "metadata": {},
   "outputs": [
    {
     "name": "stdout",
     "output_type": "stream",
     "text": [
      "P\n",
      "W\n",
      "S\n",
      "k\n",
      "i\n",
      "l\n",
      "l\n",
      "s\n"
     ]
    }
   ],
   "source": [
    "for i in str2:\n",
    "    print(i)"
   ]
  },
  {
   "cell_type": "code",
   "execution_count": 73,
   "id": "f3faa0c9-8ae8-409f-8827-3b74f7f6ab22",
   "metadata": {},
   "outputs": [
    {
     "name": "stdout",
     "output_type": "stream",
     "text": [
      "0 = P\n",
      "1 = W\n",
      "2 = S\n",
      "3 = k\n",
      "4 = i\n",
      "5 = l\n",
      "6 = l\n",
      "7 = s\n"
     ]
    }
   ],
   "source": [
    "for i in range(len(str2)):\n",
    "    print(i,\"=\",str2[i])"
   ]
  },
  {
   "cell_type": "code",
   "execution_count": null,
   "id": "5867f1a6-8bd4-48ee-8070-4db43e1044d1",
   "metadata": {},
   "outputs": [],
   "source": [
    "#we can use index to iterate string reverse direction"
   ]
  },
  {
   "cell_type": "code",
   "execution_count": 74,
   "id": "23b4aac9-52bd-41a1-844e-4bce481a98ff",
   "metadata": {},
   "outputs": [
    {
     "name": "stdout",
     "output_type": "stream",
     "text": [
      "s\n",
      "l\n",
      "l\n",
      "i\n",
      "k\n",
      "S\n",
      "W\n",
      "P\n"
     ]
    }
   ],
   "source": [
    "for i in range(len(str2)-1,-1,-1):\n",
    "    print(str2[i])"
   ]
  },
  {
   "cell_type": "code",
   "execution_count": 80,
   "id": "227aab86-c3e3-4ca7-ad54-cee1f5d957b9",
   "metadata": {},
   "outputs": [
    {
     "name": "stdout",
     "output_type": "stream",
     "text": [
      "s\n",
      "l\n",
      "l\n",
      "i\n",
      "k\n",
      "s\n",
      "w\n",
      "P\n"
     ]
    }
   ],
   "source": [
    "string=\"Pwskills\"\n",
    "ch=len(string)-1\n",
    "while ch>=0:\n",
    "    print(string[ch])\n",
    "    ch=ch-1"
   ]
  },
  {
   "cell_type": "code",
   "execution_count": 88,
   "id": "6b35fb93-c2c5-4a58-8672-108280afd5cc",
   "metadata": {},
   "outputs": [
    {
     "data": {
      "text/plain": [
       "('s', 'l', 'l', 'i', 'k', 's', 'w', 'P')"
      ]
     },
     "execution_count": 88,
     "metadata": {},
     "output_type": "execute_result"
    }
   ],
   "source": [
    "string[7],string[6],string[5],string[4],string[3],string[2],string[1],string[0]"
   ]
  },
  {
   "cell_type": "code",
   "execution_count": 84,
   "id": "2bb2354c-b75b-488f-80cb-0a9178c1ab29",
   "metadata": {},
   "outputs": [],
   "source": [
    "Name=\"pwskills\"\n",
    "vowels=\"AaEeIiOoUu\""
   ]
  },
  {
   "cell_type": "code",
   "execution_count": 86,
   "id": "9ee130f5-1dc2-4ae7-a712-03a14f7c5817",
   "metadata": {},
   "outputs": [
    {
     "name": "stdout",
     "output_type": "stream",
     "text": [
      "p is not a vowel\n",
      "w is not a vowel\n",
      "s is not a vowel\n",
      "k is not a vowel\n",
      "i is a vowel\n",
      "l is not a vowel\n",
      "l is not a vowel\n",
      "s is not a vowel\n"
     ]
    }
   ],
   "source": [
    "for ch in Name:\n",
    "    if ch in vowels:\n",
    "        print(\"{} is a vowel\".format(ch))\n",
    "    else:\n",
    "        print(\"{} is not a vowel\".format(ch))"
   ]
  },
  {
   "cell_type": "markdown",
   "id": "8f481193-0e7e-46f1-8c44-2860b13cb378",
   "metadata": {},
   "source": [
    "# List"
   ]
  },
  {
   "cell_type": "code",
   "execution_count": 89,
   "id": "14d18c2f-3b62-4f28-846f-66808024d638",
   "metadata": {},
   "outputs": [
    {
     "data": {
      "text/plain": [
       "list"
      ]
     },
     "execution_count": 89,
     "metadata": {},
     "output_type": "execute_result"
    }
   ],
   "source": [
    "#empty bracket is called list\n",
    "#its a collection of order\n",
    "#string & list is iterable\n",
    "type([])"
   ]
  },
  {
   "cell_type": "code",
   "execution_count": 90,
   "id": "f8ca0bac-4e8f-4eca-adad-29cdee3eeae7",
   "metadata": {},
   "outputs": [
    {
     "data": {
      "text/plain": [
       "['Maddy', 'Negi', 'Oppo', 30]"
      ]
     },
     "execution_count": 90,
     "metadata": {},
     "output_type": "execute_result"
    }
   ],
   "source": [
    "[\"Maddy\",\"Negi\",\"Oppo\",30]"
   ]
  },
  {
   "cell_type": "code",
   "execution_count": 92,
   "id": "db8a1d9a-25fd-48d6-8bd3-cac8607a283a",
   "metadata": {},
   "outputs": [
    {
     "data": {
      "text/plain": [
       "[1, 2, 3, 4, 5]"
      ]
     },
     "execution_count": 92,
     "metadata": {},
     "output_type": "execute_result"
    }
   ],
   "source": [
    "list([1,2,3,4,5])"
   ]
  },
  {
   "cell_type": "code",
   "execution_count": 93,
   "id": "e8aed182-5fd9-4b09-952c-1280feea9950",
   "metadata": {},
   "outputs": [],
   "source": [
    "str1=\"PW skills Data Science Masters\""
   ]
  },
  {
   "cell_type": "code",
   "execution_count": 95,
   "id": "617a06b2-9897-4c4d-bb63-e2cb652e15e4",
   "metadata": {},
   "outputs": [
    {
     "data": {
      "text/plain": [
       "['PW', 'skills', 'Data', 'Science', 'Masters']"
      ]
     },
     "execution_count": 95,
     "metadata": {},
     "output_type": "execute_result"
    }
   ],
   "source": [
    "list(str1.split(\" \"))"
   ]
  },
  {
   "cell_type": "code",
   "execution_count": 111,
   "id": "9eb33df5-43a9-4362-99d5-a3173bc232db",
   "metadata": {},
   "outputs": [
    {
     "data": {
      "text/plain": [
       "['PW', 'skills', 'Data', 'Science', 'Masters']"
      ]
     },
     "execution_count": 111,
     "metadata": {},
     "output_type": "execute_result"
    }
   ],
   "source": [
    "str1.split(\" \")"
   ]
  },
  {
   "cell_type": "code",
   "execution_count": 113,
   "id": "ca774797-c555-4c84-9f4d-929cadb064f7",
   "metadata": {},
   "outputs": [
    {
     "ename": "NameError",
     "evalue": "name 'lst1' is not defined",
     "output_type": "error",
     "traceback": [
      "\u001b[0;31m---------------------------------------------------------------------------\u001b[0m",
      "\u001b[0;31mNameError\u001b[0m                                 Traceback (most recent call last)",
      "Cell \u001b[0;32mIn[113], line 1\u001b[0m\n\u001b[0;32m----> 1\u001b[0m \u001b[43mlst1\u001b[49m[\u001b[38;5;124m\"\u001b[39m\u001b[38;5;124mPW skills Data Science Masters\u001b[39m\u001b[38;5;124m\"\u001b[39m]\n",
      "\u001b[0;31mNameError\u001b[0m: name 'lst1' is not defined"
     ]
    }
   ],
   "source": []
  },
  {
   "cell_type": "code",
   "execution_count": 110,
   "id": "34295966-ee12-4a01-91a1-3a9879a11b73",
   "metadata": {},
   "outputs": [
    {
     "ename": "SyntaxError",
     "evalue": "Missing parentheses in call to 'print'. Did you mean print(...)? (198713407.py, line 1)",
     "output_type": "error",
     "traceback": [
      "\u001b[0;36m  Cell \u001b[0;32mIn[110], line 1\u001b[0;36m\u001b[0m\n\u001b[0;31m    print lst1\u001b[0m\n\u001b[0m    ^\u001b[0m\n\u001b[0;31mSyntaxError\u001b[0m\u001b[0;31m:\u001b[0m Missing parentheses in call to 'print'. Did you mean print(...)?\n"
     ]
    }
   ],
   "source": []
  },
  {
   "cell_type": "code",
   "execution_count": 119,
   "id": "fe23dd4e-c6cf-4b41-9d6c-4953776f9776",
   "metadata": {},
   "outputs": [
    {
     "data": {
      "text/plain": [
       "['PW skills Data Science Masters', 'new element', 3]"
      ]
     },
     "execution_count": 119,
     "metadata": {},
     "output_type": "execute_result"
    }
   ],
   "source": [
    "#concatenation operations\n",
    "lst1 + ['new element',3]"
   ]
  },
  {
   "cell_type": "code",
   "execution_count": 114,
   "id": "71640fe2-dfc6-4d51-8f38-ddad2229ee5e",
   "metadata": {},
   "outputs": [
    {
     "name": "stdout",
     "output_type": "stream",
     "text": [
      "[4, 4, 4, 4]\n"
     ]
    }
   ],
   "source": [
    "def func(lst):\n",
    "    for i in range(len(lst)):\n",
    "        lst[i] = lst[i - 1]\n",
    "    return lst\n",
    "\n",
    "\n",
    "print(func([1, 2, 3, 4]))"
   ]
  },
  {
   "cell_type": "code",
   "execution_count": 116,
   "id": "482064e5-d079-4011-be33-8db56d45c9f1",
   "metadata": {},
   "outputs": [],
   "source": [
    "lst=[1,2,3,4,5]"
   ]
  },
  {
   "cell_type": "code",
   "execution_count": 118,
   "id": "0a2bd693-14b7-4be0-aad5-ed6f862046e5",
   "metadata": {},
   "outputs": [],
   "source": [
    "lst1=[\"PW skills Data Science Masters\"]"
   ]
  },
  {
   "cell_type": "markdown",
   "id": "8f502e4a-e3d4-4f1e-9269-a125caa1bfe8",
   "metadata": {},
   "source": [
    "## append\n"
   ]
  },
  {
   "cell_type": "code",
   "execution_count": 120,
   "id": "1c198857-f242-4de3-929e-a7948a0e7d98",
   "metadata": {},
   "outputs": [],
   "source": [
    "#append is updatation operation\n",
    "lst=[1,2,3,4,5,6]"
   ]
  },
  {
   "cell_type": "code",
   "execution_count": 121,
   "id": "d27253b1-1ee3-411f-bb60-8b1a3f6e36a0",
   "metadata": {},
   "outputs": [
    {
     "data": {
      "text/plain": [
       "[1, 2, 3, 4, 5, 6]"
      ]
     },
     "execution_count": 121,
     "metadata": {},
     "output_type": "execute_result"
    }
   ],
   "source": [
    "lst"
   ]
  },
  {
   "cell_type": "code",
   "execution_count": 122,
   "id": "54ae789e-4110-4875-92fb-ec3cb5ffb0b8",
   "metadata": {},
   "outputs": [],
   "source": [
    "lst.append(\"PWskills\")"
   ]
  },
  {
   "cell_type": "code",
   "execution_count": 123,
   "id": "33c0d5f3-61f6-4c3a-ab23-c6e26a59f58f",
   "metadata": {},
   "outputs": [
    {
     "data": {
      "text/plain": [
       "[1, 2, 3, 4, 5, 6, 'PWskills']"
      ]
     },
     "execution_count": 123,
     "metadata": {},
     "output_type": "execute_result"
    }
   ],
   "source": [
    "lst"
   ]
  },
  {
   "cell_type": "code",
   "execution_count": 124,
   "id": "5d4a6dac-3872-45d3-91f2-40d1669c9826",
   "metadata": {},
   "outputs": [],
   "source": [
    "lst.append(['Data','Science','Masters'])"
   ]
  },
  {
   "cell_type": "code",
   "execution_count": 125,
   "id": "d0cb2022-609e-43f0-a252-e13601adef3a",
   "metadata": {},
   "outputs": [
    {
     "data": {
      "text/plain": [
       "[1, 2, 3, 4, 5, 6, 'PWskills', ['Data', 'Science', 'Masters']]"
      ]
     },
     "execution_count": 125,
     "metadata": {},
     "output_type": "execute_result"
    }
   ],
   "source": [
    "lst"
   ]
  },
  {
   "cell_type": "code",
   "execution_count": 126,
   "id": "39898094-5099-4da0-956e-326e79bde8a7",
   "metadata": {},
   "outputs": [],
   "source": [
    "lst1=[\"Zebra\",\"Monkey\",\"Donkey\",\"Lion\"]"
   ]
  },
  {
   "cell_type": "code",
   "execution_count": 127,
   "id": "fdd5f859-9f70-40e3-89aa-a4380a19fe91",
   "metadata": {},
   "outputs": [
    {
     "data": {
      "text/plain": [
       "'Donkey'"
      ]
     },
     "execution_count": 127,
     "metadata": {},
     "output_type": "execute_result"
    }
   ],
   "source": [
    "lst1.pop(2)"
   ]
  },
  {
   "cell_type": "code",
   "execution_count": 128,
   "id": "60ce738e-3e46-4e83-8f8c-abd52592dd43",
   "metadata": {},
   "outputs": [
    {
     "data": {
      "text/plain": [
       "['Zebra', 'Monkey', 'Lion']"
      ]
     },
     "execution_count": 128,
     "metadata": {},
     "output_type": "execute_result"
    }
   ],
   "source": [
    "lst1"
   ]
  },
  {
   "cell_type": "code",
   "execution_count": 129,
   "id": "735fdc7b-1be1-4338-9925-df096f754711",
   "metadata": {},
   "outputs": [],
   "source": [
    "lst1=[\"Zebra\",\"Monkey\",\"Donkey\",\"Lion\"]"
   ]
  },
  {
   "cell_type": "code",
   "execution_count": 130,
   "id": "8b1a0b9e-47ee-441c-bbd7-344c85e0cdfd",
   "metadata": {},
   "outputs": [],
   "source": [
    "removed_element=lst1.pop(0)"
   ]
  },
  {
   "cell_type": "code",
   "execution_count": 131,
   "id": "f1d35d9b-4d58-4054-b803-403d13f68551",
   "metadata": {},
   "outputs": [],
   "source": [
    "#sorting & Reverse method in list"
   ]
  },
  {
   "cell_type": "code",
   "execution_count": 132,
   "id": "d531df2e-eae5-4c74-a729-4a121337c1b2",
   "metadata": {},
   "outputs": [],
   "source": [
    "new_list=['q','t','e','y','u']"
   ]
  },
  {
   "cell_type": "code",
   "execution_count": 133,
   "id": "e2c3c34d-9e98-456c-aba8-b702e3066c49",
   "metadata": {},
   "outputs": [
    {
     "data": {
      "text/plain": [
       "[1, 2, 3, 4, 5, 6, 'PWskills', ['Data', 'Science', 'Masters']]"
      ]
     },
     "execution_count": 133,
     "metadata": {},
     "output_type": "execute_result"
    }
   ],
   "source": [
    "lst"
   ]
  },
  {
   "cell_type": "code",
   "execution_count": 134,
   "id": "aa9d9c8a-b90c-4187-b78a-08eb26ed2740",
   "metadata": {},
   "outputs": [
    {
     "data": {
      "text/plain": [
       "['q', 't', 'e', 'y', 'u']"
      ]
     },
     "execution_count": 134,
     "metadata": {},
     "output_type": "execute_result"
    }
   ],
   "source": [
    "new_list"
   ]
  },
  {
   "cell_type": "code",
   "execution_count": 136,
   "id": "84c78b80-d84f-4b22-a476-fe2bac0c07be",
   "metadata": {},
   "outputs": [],
   "source": [
    "new_list.sort()"
   ]
  },
  {
   "cell_type": "markdown",
   "id": "cc59a4ee-6573-4eec-b783-27e15a1cd30a",
   "metadata": {},
   "source": [
    "## Nested List"
   ]
  },
  {
   "cell_type": "code",
   "execution_count": 139,
   "id": "0fcd52fc-deb0-4dac-b60c-f9578e400864",
   "metadata": {},
   "outputs": [],
   "source": [
    "lst=[1,2,3,4,5,6,7,8,9]"
   ]
  },
  {
   "cell_type": "code",
   "execution_count": null,
   "id": "a33e4205-3bb5-436e-983b-dc37baf3141b",
   "metadata": {},
   "outputs": [],
   "source": [
    "even_sum=sum([])"
   ]
  },
  {
   "cell_type": "code",
   "execution_count": 1,
   "id": "c644feec-50d1-4a05-a152-f20795600247",
   "metadata": {},
   "outputs": [
    {
     "data": {
      "text/plain": [
       "(-1+3j)"
      ]
     },
     "execution_count": 1,
     "metadata": {},
     "output_type": "execute_result"
    }
   ],
   "source": [
    "num1= 23\n",
    "\n",
    "num2= 44\n",
    "\n",
    "num2= 2+3j\n",
    "\n",
    "num1= num2.imag\n",
    "\n",
    "num2-num1"
   ]
  },
  {
   "cell_type": "code",
   "execution_count": 25,
   "id": "db2fcb0e-9b2f-4bbb-b2ef-5c2a93c01fb6",
   "metadata": {},
   "outputs": [],
   "source": [
    "name=\"pwskills\""
   ]
  },
  {
   "cell_type": "code",
   "execution_count": 26,
   "id": "5aec423c-dd21-448a-8780-1ce1e1cbd2b0",
   "metadata": {},
   "outputs": [
    {
     "ename": "SyntaxError",
     "evalue": "invalid character '‘' (U+2018) (3643665153.py, line 1)",
     "output_type": "error",
     "traceback": [
      "\u001b[0;36m  Cell \u001b[0;32mIn[26], line 1\u001b[0;36m\u001b[0m\n\u001b[0;31m    ‘pwskills’.upper().lower().isalnum()\u001b[0m\n\u001b[0m    ^\u001b[0m\n\u001b[0;31mSyntaxError\u001b[0m\u001b[0;31m:\u001b[0m invalid character '‘' (U+2018)\n"
     ]
    }
   ],
   "source": [
    "‘pwskills’.upper().lower().isalnum()"
   ]
  },
  {
   "cell_type": "code",
   "execution_count": 19,
   "id": "5f356612-622e-4fc5-acdb-ae9ece64fc01",
   "metadata": {},
   "outputs": [
    {
     "name": "stdout",
     "output_type": "stream",
     "text": [
      "{1, 4, 9, 16, 25}\n"
     ]
    }
   ],
   "source": [
    "numbers = (1,2,3,4,5, 5,4,3,2,1)\n",
    "\n",
    "list=[]\n",
    "\n",
    "for number in numbers:\n",
    "\n",
    "   list.append(number**2)\n",
    "\n",
    "print(set(list))"
   ]
  },
  {
   "cell_type": "code",
   "execution_count": 20,
   "id": "53f7af13-c830-4a57-9c7c-c99c3e490457",
   "metadata": {},
   "outputs": [
    {
     "name": "stdout",
     "output_type": "stream",
     "text": [
      "['0', '10', '20', '30', '40', '50']\n"
     ]
    }
   ],
   "source": [
    "list_out=[]\n",
    "\n",
    "for i in range(0,51,10):\n",
    "\n",
    "    list_out.append(str(i))\n",
    "\n",
    "print(list_out)"
   ]
  },
  {
   "cell_type": "code",
   "execution_count": null,
   "id": "db521488-c209-492d-ac63-78092720bed8",
   "metadata": {},
   "outputs": [],
   "source": []
  }
 ],
 "metadata": {
  "kernelspec": {
   "display_name": "Python 3 (ipykernel)",
   "language": "python",
   "name": "python3"
  },
  "language_info": {
   "codemirror_mode": {
    "name": "ipython",
    "version": 3
   },
   "file_extension": ".py",
   "mimetype": "text/x-python",
   "name": "python",
   "nbconvert_exporter": "python",
   "pygments_lexer": "ipython3",
   "version": "3.10.8"
  }
 },
 "nbformat": 4,
 "nbformat_minor": 5
}
