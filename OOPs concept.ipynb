{
 "cells": [
  {
   "cell_type": "markdown",
   "id": "fb79a623-4cf7-4a4b-ade9-7968dc60abb9",
   "metadata": {},
   "source": [
    "#### OOPS Concept\n",
    "Object-Oriented Programming System"
   ]
  },
  {
   "cell_type": "code",
   "execution_count": 1,
   "id": "1862ed48-51a9-451c-8f0f-5b473939d094",
   "metadata": {},
   "outputs": [],
   "source": [
    "a=1"
   ]
  },
  {
   "cell_type": "code",
   "execution_count": 2,
   "id": "78836c3e-9219-48eb-8a9f-9256926f2456",
   "metadata": {},
   "outputs": [
    {
     "name": "stdout",
     "output_type": "stream",
     "text": [
      "<class 'int'>\n"
     ]
    }
   ],
   "source": [
    "print(type(a))"
   ]
  },
  {
   "cell_type": "code",
   "execution_count": 5,
   "id": "76e47d38-ac23-4888-acc7-5e5725744227",
   "metadata": {},
   "outputs": [
    {
     "name": "stdout",
     "output_type": "stream",
     "text": [
      "<class 'str'>\n"
     ]
    }
   ],
   "source": [
    "#its shows us given arguments belongs whgich class of Python\n",
    "print(type(\"PWSkills\"))"
   ]
  },
  {
   "cell_type": "code",
   "execution_count": 6,
   "id": "bc9f85b7-5e31-4670-9187-76ae0d8805f2",
   "metadata": {},
   "outputs": [],
   "source": [
    "#create a class in Python\n",
    "class test:\n",
    "    pass"
   ]
  },
  {
   "cell_type": "code",
   "execution_count": 10,
   "id": "426c942c-159b-4269-bac3-2bbee48605b4",
   "metadata": {},
   "outputs": [],
   "source": [
    "# create a object of class\n",
    "a=test()"
   ]
  },
  {
   "cell_type": "code",
   "execution_count": 9,
   "id": "dff24dbf-c94d-4a14-8b49-5bc7537bde9b",
   "metadata": {},
   "outputs": [
    {
     "name": "stdout",
     "output_type": "stream",
     "text": [
      "<class '__main__.test'>\n"
     ]
    }
   ],
   "source": [
    "print(type(a))"
   ]
  },
  {
   "cell_type": "code",
   "execution_count": 20,
   "id": "9ec8f452-80a3-4502-a273-67331546197e",
   "metadata": {},
   "outputs": [],
   "source": [
    "class pwskills:\n",
    "    def welcome_msg(self): #whenever we create any function inside the class we can give to  pointer\n",
    "        print(\"welcome to pwskills\")"
   ]
  },
  {
   "cell_type": "code",
   "execution_count": 18,
   "id": "58bb33eb-9342-4588-900a-6fb2c59101ca",
   "metadata": {},
   "outputs": [],
   "source": [
    "Maddy=pwskills()"
   ]
  },
  {
   "cell_type": "code",
   "execution_count": 23,
   "id": "b7cee2f0-1786-4d66-a5b3-1aa7e49d7df6",
   "metadata": {},
   "outputs": [
    {
     "name": "stdout",
     "output_type": "stream",
     "text": [
      "welcome to pwskills\n"
     ]
    }
   ],
   "source": [
    "Maddy.welcome_msg()"
   ]
  },
  {
   "cell_type": "code",
   "execution_count": 26,
   "id": "1cdf846a-8360-4795-b050-8fb299d575e9",
   "metadata": {},
   "outputs": [],
   "source": [
    "Krish=pwskills()"
   ]
  },
  {
   "cell_type": "code",
   "execution_count": 27,
   "id": "6eff720c-5329-432e-849a-399527a9a283",
   "metadata": {},
   "outputs": [
    {
     "name": "stdout",
     "output_type": "stream",
     "text": [
      "welcome to pwskills\n"
     ]
    }
   ],
   "source": [
    "Krish.welcome_msg()"
   ]
  },
  {
   "cell_type": "code",
   "execution_count": 28,
   "id": "fa7001da-ab9b-4294-9f6a-931b35b4efa3",
   "metadata": {},
   "outputs": [],
   "source": [
    "#pass to different data\n",
    "a=1"
   ]
  },
  {
   "cell_type": "code",
   "execution_count": 29,
   "id": "59761bf6-0cc2-45aa-9b3a-861825ac53f4",
   "metadata": {},
   "outputs": [],
   "source": [
    "b=2"
   ]
  },
  {
   "cell_type": "code",
   "execution_count": 30,
   "id": "85b4be6f-3b03-4f12-a921-5921a8781d82",
   "metadata": {},
   "outputs": [
    {
     "data": {
      "text/plain": [
       "1"
      ]
     },
     "execution_count": 30,
     "metadata": {},
     "output_type": "execute_result"
    }
   ],
   "source": [
    "a"
   ]
  },
  {
   "cell_type": "code",
   "execution_count": 31,
   "id": "6ea5dcd4-5b2b-4f7a-b2f5-d4b7528938a5",
   "metadata": {},
   "outputs": [
    {
     "data": {
      "text/plain": [
       "2"
      ]
     },
     "execution_count": 31,
     "metadata": {},
     "output_type": "execute_result"
    }
   ],
   "source": [
    "b"
   ]
  },
  {
   "cell_type": "code",
   "execution_count": 116,
   "id": "3b691e36-413c-45e2-8faa-fcfaff1bd191",
   "metadata": {},
   "outputs": [],
   "source": [
    "#init is constructor\n",
    "class pwskills:\n",
    "   \n",
    "    def __init__(self,phone_number,email_id,student_id):\n",
    "    \n",
    "        self.phone_number = phone_number\n",
    "        self.email_id = email_id\n",
    "        self.student_id = student_id\n",
    "    \n",
    "    def return_student_details(self):\n",
    "        return self.phone_number,self.email_id,self.student_id"
   ]
  },
  {
   "cell_type": "code",
   "execution_count": 117,
   "id": "28ead43b-e98b-42d9-88f1-48971a000fcf",
   "metadata": {},
   "outputs": [],
   "source": [
    "Maddy = pwskills(8057651372,\"mandeepnegiktw@gmail.com\",109)"
   ]
  },
  {
   "cell_type": "code",
   "execution_count": 82,
   "id": "fdb3d41d-c650-42cf-b300-c92fb6d51936",
   "metadata": {},
   "outputs": [
    {
     "data": {
      "text/plain": [
       "8057651372"
      ]
     },
     "execution_count": 82,
     "metadata": {},
     "output_type": "execute_result"
    }
   ],
   "source": [
    "Maddy.phone_number"
   ]
  },
  {
   "cell_type": "code",
   "execution_count": 83,
   "id": "5251f983-e6d4-43a7-b069-3224987c4bc0",
   "metadata": {},
   "outputs": [
    {
     "data": {
      "text/plain": [
       "'mandeepnegiktw@gmail.com'"
      ]
     },
     "execution_count": 83,
     "metadata": {},
     "output_type": "execute_result"
    }
   ],
   "source": [
    "Maddy.email_id"
   ]
  },
  {
   "cell_type": "code",
   "execution_count": 84,
   "id": "39527449-6ddf-44ab-b054-a1c01710a485",
   "metadata": {},
   "outputs": [
    {
     "data": {
      "text/plain": [
       "109"
      ]
     },
     "execution_count": 84,
     "metadata": {},
     "output_type": "execute_result"
    }
   ],
   "source": [
    "Maddy.student_id"
   ]
  },
  {
   "cell_type": "code",
   "execution_count": 128,
   "id": "936e1be2-ee94-4576-9e48-f5e4082233c6",
   "metadata": {},
   "outputs": [
    {
     "data": {
      "text/plain": [
       "(8057651372, 'mandeepnegiktw@gmail.com', 109)"
      ]
     },
     "execution_count": 128,
     "metadata": {},
     "output_type": "execute_result"
    }
   ],
   "source": [
    "Maddy.return_student_details()"
   ]
  },
  {
   "cell_type": "code",
   "execution_count": 118,
   "id": "94d7687e-dbea-40a3-8ae7-a386d386f2df",
   "metadata": {},
   "outputs": [
    {
     "data": {
      "text/plain": [
       "(8057651372, 'mandeepnegiktw@gmail.com', 109)"
      ]
     },
     "execution_count": 118,
     "metadata": {},
     "output_type": "execute_result"
    }
   ],
   "source": [
    "Maddy.return_student_details()"
   ]
  },
  {
   "cell_type": "code",
   "execution_count": 119,
   "id": "2e67d8af-089a-4f4c-b51a-bd5b9df48707",
   "metadata": {},
   "outputs": [],
   "source": [
    "class pwskills3:\n",
    "    \n",
    "    def __init__(Maddy ,phone_number , email_id, student_id ):\n",
    "        \n",
    "        Maddy.phone_number1 = phone_number\n",
    "        Maddy.email_id = email_id\n",
    "        Maddy.student_id = student_id\n",
    "        \n",
    "    \n",
    "    def return_student_detials(Maddy):\n",
    "        return Maddy.phone_number1, Maddy.email_id , Maddy.student_id"
   ]
  },
  {
   "cell_type": "code",
   "execution_count": 90,
   "id": "411b5443-6163-44e3-ae4c-e4006c0f8d79",
   "metadata": {},
   "outputs": [],
   "source": [
    "rohan = pwskills3(999735,\"rohan@gmail.com\" , 123)"
   ]
  },
  {
   "cell_type": "code",
   "execution_count": 91,
   "id": "5315025e-a76d-4d16-b9d7-b7ca1b6e4d88",
   "metadata": {},
   "outputs": [
    {
     "data": {
      "text/plain": [
       "(999735, 'rohan@gmail.com', 123)"
      ]
     },
     "execution_count": 91,
     "metadata": {},
     "output_type": "execute_result"
    }
   ],
   "source": [
    "rohan.return_student_detials()"
   ]
  },
  {
   "cell_type": "code",
   "execution_count": 99,
   "id": "1fd91b54-257e-47ca-af7b-a3624b46ed20",
   "metadata": {},
   "outputs": [
    {
     "data": {
      "text/plain": [
       "(999735, 'rohan@gmail.com', 123)"
      ]
     },
     "execution_count": 99,
     "metadata": {},
     "output_type": "execute_result"
    }
   ],
   "source": [
    "rohan.return_student_detials()"
   ]
  },
  {
   "cell_type": "code",
   "execution_count": 105,
   "id": "2a4698b6-4862-44fb-89c0-2f1fd72c6001",
   "metadata": {},
   "outputs": [],
   "source": [
    "class pwskills1:\n",
    "    \n",
    "    def __init__(self ,phone_number , email_id, student_id ):\n",
    "        \n",
    "        self.phone_number = phone_number\n",
    "        self.email_id = email_id\n",
    "        self.student_id = student_id\n",
    "        \n",
    "    \n",
    "    def return_student_detials(self):\n",
    "        return self.phone_number, self.email_id , self.student_id"
   ]
  },
  {
   "cell_type": "code",
   "execution_count": 114,
   "id": "c1c2d5ea-e983-4458-b2b2-488c489e7424",
   "metadata": {},
   "outputs": [],
   "source": [
    "maddy = pwskills1(999679869 , \"sohan@gmail.com\" , 102)"
   ]
  },
  {
   "cell_type": "code",
   "execution_count": 115,
   "id": "7ce7b76f-c9b9-49db-ad08-5d52fa7fd2ce",
   "metadata": {},
   "outputs": [
    {
     "data": {
      "text/plain": [
       "(999679869, 'sohan@gmail.com', 102)"
      ]
     },
     "execution_count": 115,
     "metadata": {},
     "output_type": "execute_result"
    }
   ],
   "source": [
    "maddy.return_student_detials()"
   ]
  },
  {
   "cell_type": "code",
   "execution_count": 133,
   "id": "d1fd48eb-5bf3-47bb-8eee-ca575d0599c0",
   "metadata": {},
   "outputs": [],
   "source": [
    "class Class10:\n",
    "    \n",
    "    def __init__(self,phone_number,email_id,student_id):\n",
    "        \n",
    "        self.phone_number = phone_number\n",
    "        self.email_id = email_id\n",
    "        self.student_id = student_id\n",
    "        \n",
    "    \n",
    "    def return_student_details(Class10):\n",
    "            return self.phone_number,self.email_id,self.student.id\n",
    "        \n",
    "        "
   ]
  },
  {
   "cell_type": "code",
   "execution_count": 123,
   "id": "5bd63bdb-60bf-4f90-bfad-dcf61c83a076",
   "metadata": {},
   "outputs": [],
   "source": [
    "sonali = Class10(9690957084, \"soanlifeb2@gmail.com\",1101)"
   ]
  },
  {
   "cell_type": "code",
   "execution_count": 124,
   "id": "481284a7-6e24-426f-80d2-0de3ff20f43b",
   "metadata": {},
   "outputs": [
    {
     "data": {
      "text/plain": [
       "9690957084"
      ]
     },
     "execution_count": 124,
     "metadata": {},
     "output_type": "execute_result"
    }
   ],
   "source": [
    "sonali.phone_number"
   ]
  },
  {
   "cell_type": "code",
   "execution_count": 125,
   "id": "3375b7b6-a350-4c50-b5da-537f5fff7935",
   "metadata": {},
   "outputs": [
    {
     "data": {
      "text/plain": [
       "'soanlifeb2@gmail.com'"
      ]
     },
     "execution_count": 125,
     "metadata": {},
     "output_type": "execute_result"
    }
   ],
   "source": [
    "sonali.email_id"
   ]
  },
  {
   "cell_type": "code",
   "execution_count": 131,
   "id": "4614ae9f-5954-441a-ad2e-d5f4eb831545",
   "metadata": {},
   "outputs": [
    {
     "data": {
      "text/plain": [
       "1101"
      ]
     },
     "execution_count": 131,
     "metadata": {},
     "output_type": "execute_result"
    }
   ],
   "source": [
    "sonali.student_id"
   ]
  },
  {
   "cell_type": "code",
   "execution_count": 134,
   "id": "8eab873b-2457-4c34-bbc1-dd87728fea1d",
   "metadata": {},
   "outputs": [
    {
     "ename": "AttributeError",
     "evalue": "'Class10' object has no attribute 'return_student_details'",
     "output_type": "error",
     "traceback": [
      "\u001b[0;31m---------------------------------------------------------------------------\u001b[0m",
      "\u001b[0;31mAttributeError\u001b[0m                            Traceback (most recent call last)",
      "Cell \u001b[0;32mIn[134], line 1\u001b[0m\n\u001b[0;32m----> 1\u001b[0m \u001b[43msonali\u001b[49m\u001b[38;5;241;43m.\u001b[39;49m\u001b[43mreturn_student_details\u001b[49m()\n",
      "\u001b[0;31mAttributeError\u001b[0m: 'Class10' object has no attribute 'return_student_details'"
     ]
    }
   ],
   "source": [
    "sonali.return_student_details()"
   ]
  },
  {
   "cell_type": "code",
   "execution_count": null,
   "id": "7be2c0ee-70a6-411b-b359-5fe2d0493e16",
   "metadata": {},
   "outputs": [],
   "source": []
  }
 ],
 "metadata": {
  "kernelspec": {
   "display_name": "Python 3 (ipykernel)",
   "language": "python",
   "name": "python3"
  },
  "language_info": {
   "codemirror_mode": {
    "name": "ipython",
    "version": 3
   },
   "file_extension": ".py",
   "mimetype": "text/x-python",
   "name": "python",
   "nbconvert_exporter": "python",
   "pygments_lexer": "ipython3",
   "version": "3.10.8"
  }
 },
 "nbformat": 4,
 "nbformat_minor": 5
}
