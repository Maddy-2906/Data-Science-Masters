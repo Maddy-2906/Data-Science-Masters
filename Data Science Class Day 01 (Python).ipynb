{
 "cells": [
  {
   "cell_type": "code",
   "execution_count": null,
   "id": "79dc4af8-b7ea-4e1f-872c-4789e8b40783",
   "metadata": {},
   "outputs": [],
   "source": []
  },
  {
   "cell_type": "code",
   "execution_count": null,
   "id": "68844ae0-44a0-4b86-aecf-e319c32508d5",
   "metadata": {},
   "outputs": [],
   "source": []
  },
  {
   "cell_type": "code",
   "execution_count": 7,
   "id": "95283dbf-f90c-4333-ae06-d2d5db39eff3",
   "metadata": {},
   "outputs": [
    {
     "name": "stdout",
     "output_type": "stream",
     "text": [
      "this is my first lecture for data science\n"
     ]
    }
   ],
   "source": [
    "print(\"this is my first lecture for data science\")"
   ]
  },
  {
   "cell_type": "markdown",
   "id": "a4276070-82d3-4f19-bd95-de04912dd2d7",
   "metadata": {},
   "source": [
    "# print(10)"
   ]
  },
  {
   "cell_type": "code",
   "execution_count": 8,
   "id": "18499f15-3f18-4f29-b4a1-67a6fb98fb5c",
   "metadata": {},
   "outputs": [
    {
     "data": {
      "text/plain": [
       "2"
      ]
     },
     "execution_count": 8,
     "metadata": {},
     "output_type": "execute_result"
    }
   ],
   "source": [
    "1+1"
   ]
  },
  {
   "cell_type": "code",
   "execution_count": 9,
   "id": "7a4a473b-ba35-43fe-b80d-7bc6642756c6",
   "metadata": {},
   "outputs": [],
   "source": [
    "a=10"
   ]
  },
  {
   "cell_type": "code",
   "execution_count": 10,
   "id": "538d30aa-62b8-4649-bf71-10bb6880fa26",
   "metadata": {},
   "outputs": [
    {
     "name": "stdout",
     "output_type": "stream",
     "text": [
      "10\n"
     ]
    }
   ],
   "source": [
    "print(a)"
   ]
  },
  {
   "cell_type": "code",
   "execution_count": 18,
   "id": "52307221-5ee7-42cc-ad0c-e659b6f15867",
   "metadata": {},
   "outputs": [
    {
     "data": {
      "text/plain": [
       "20"
      ]
     },
     "execution_count": 18,
     "metadata": {},
     "output_type": "execute_result"
    }
   ],
   "source": [
    "##single line comments for coder acknoweldege\n",
    "###this is my first python programe\n",
    "##this is a functions\n",
    "#this a magic\n",
    "#markdown use for as a highligher or heading or writting\n",
    "#web development gaming gui data science machine learning web scapping robotics automation many more\n",
    "a=20\n",
    "a\n"
   ]
  },
  {
   "cell_type": "code",
   "execution_count": 13,
   "id": "56c77580-c7c6-40f3-b8e0-8c59da9c7852",
   "metadata": {},
   "outputs": [
    {
     "data": {
      "text/plain": [
       "99"
      ]
     },
     "execution_count": 13,
     "metadata": {},
     "output_type": "execute_result"
    }
   ],
   "source": [
    "\"\"\" welcome to python world\"\"\"\n",
    "\"\"\"multiline comments\"\"\"\n",
    "a=99\n",
    "a"
   ]
  },
  {
   "cell_type": "markdown",
   "id": "aaf1f2d1-e3fd-4e7c-8758-9f34b5b764db",
   "metadata": {},
   "source": [
    "# hello"
   ]
  },
  {
   "cell_type": "markdown",
   "id": "8b658134-3d3b-45d0-805d-c0f2df886ed3",
   "metadata": {},
   "source": [
    "# hello coder how are you"
   ]
  },
  {
   "cell_type": "markdown",
   "id": "59efb415-0b3e-40ec-855e-987de09604fa",
   "metadata": {},
   "source": [
    "# hello1"
   ]
  },
  {
   "cell_type": "markdown",
   "id": "3c63a659-60b9-4635-bfc2-c7be635c0d3f",
   "metadata": {},
   "source": [
    "# hello\n",
    "## hello1\n",
    "### hello coder having fun\n",
    "1 highlight headings"
   ]
  },
  {
   "cell_type": "markdown",
   "id": "592c0c35-22a9-49b5-a735-94874920037a",
   "metadata": {},
   "source": [
    "##numbers"
   ]
  },
  {
   "cell_type": "markdown",
   "id": "e1cf8153-41ca-4656-85a4-b322d2ed2373",
   "metadata": {},
   "source": [
    "# Numbers"
   ]
  },
  {
   "cell_type": "code",
   "execution_count": 19,
   "id": "4f16f965-407b-42fd-8bf1-92bf733c3994",
   "metadata": {},
   "outputs": [
    {
     "data": {
      "text/plain": [
       "7"
      ]
     },
     "execution_count": 19,
     "metadata": {},
     "output_type": "execute_result"
    }
   ],
   "source": [
    "1+6"
   ]
  },
  {
   "cell_type": "code",
   "execution_count": 22,
   "id": "19d87a74-cbd0-4516-a265-772dea192126",
   "metadata": {},
   "outputs": [
    {
     "name": "stdout",
     "output_type": "stream",
     "text": [
      "7\n"
     ]
    }
   ],
   "source": [
    "#whenever write be print this section output console (monitor)\n",
    "#print command showing display somethings\n",
    "print(1+6) \n"
   ]
  },
  {
   "cell_type": "code",
   "execution_count": 24,
   "id": "3e5940ee-8cc5-4f81-90fd-df500e753e6a",
   "metadata": {},
   "outputs": [
    {
     "name": "stdout",
     "output_type": "stream",
     "text": [
      "hello data scienctist my name is Maddy \n",
      " i'm working with OPPO\n",
      "crytal clear\n"
     ]
    }
   ],
   "source": [
    "#printstatement\n",
    "# shift+tab \\n new line\n",
    "print(\"hello data scienctist my name is Maddy \\n i'm working with OPPO\")\n",
    "print(\"crytal clear\")"
   ]
  },
  {
   "cell_type": "markdown",
   "id": "d8aecb5c-fb59-4c93-91d4-7ac943f389af",
   "metadata": {},
   "source": [
    "# variables Assigment"
   ]
  },
  {
   "cell_type": "code",
   "execution_count": 27,
   "id": "4b8c62d1-9f15-49da-8c09-74bf5141129f",
   "metadata": {},
   "outputs": [],
   "source": [
    "name=\"Maddy\"\n",
    "company=\"OPPO\"\n",
    "#it is stored this data as a memory\n"
   ]
  },
  {
   "cell_type": "code",
   "execution_count": 29,
   "id": "c656e8d4-2468-4c5e-8c6f-d87b56568201",
   "metadata": {},
   "outputs": [],
   "source": [
    "name=\"bala\""
   ]
  },
  {
   "cell_type": "code",
   "execution_count": null,
   "id": "14596154-e612-4ef7-b9c3-3b4a41a3ccd6",
   "metadata": {},
   "outputs": [],
   "source": []
  },
  {
   "cell_type": "code",
   "execution_count": 30,
   "id": "54a293cf-8356-4767-8021-03f1f4ee02e3",
   "metadata": {},
   "outputs": [
    {
     "data": {
      "text/plain": [
       "'bala'"
      ]
     },
     "execution_count": 30,
     "metadata": {},
     "output_type": "execute_result"
    }
   ],
   "source": [
    "name"
   ]
  },
  {
   "cell_type": "code",
   "execution_count": 31,
   "id": "1a1f2698-cac0-4fd4-a132-5536a9764f76",
   "metadata": {},
   "outputs": [],
   "source": [
    "number=20"
   ]
  },
  {
   "cell_type": "code",
   "execution_count": 32,
   "id": "97e0c8cf-06ef-49fa-b1fb-42c33770dbf1",
   "metadata": {},
   "outputs": [
    {
     "data": {
      "text/plain": [
       "20"
      ]
     },
     "execution_count": 32,
     "metadata": {},
     "output_type": "execute_result"
    }
   ],
   "source": [
    "number"
   ]
  },
  {
   "cell_type": "code",
   "execution_count": 34,
   "id": "346f8fb0-a7c4-4352-bb16-2bbb040d53ff",
   "metadata": {},
   "outputs": [
    {
     "data": {
      "text/plain": [
       "str"
      ]
     },
     "execution_count": 34,
     "metadata": {},
     "output_type": "execute_result"
    }
   ],
   "source": [
    "type(\"str\")\n",
    "#string is a class it always single or double qoutes,use inbuilt function type"
   ]
  },
  {
   "cell_type": "code",
   "execution_count": 35,
   "id": "8c8f0b78-a7a5-4557-8995-fff65a9bff4a",
   "metadata": {},
   "outputs": [
    {
     "data": {
      "text/plain": [
       "str"
      ]
     },
     "execution_count": 35,
     "metadata": {},
     "output_type": "execute_result"
    }
   ],
   "source": [
    "type(name)"
   ]
  },
  {
   "cell_type": "code",
   "execution_count": 36,
   "id": "0438f0db-7918-41e9-b388-58bc7ea2057a",
   "metadata": {},
   "outputs": [
    {
     "data": {
      "text/plain": [
       "int"
      ]
     },
     "execution_count": 36,
     "metadata": {},
     "output_type": "execute_result"
    }
   ],
   "source": [
    "type(number)"
   ]
  },
  {
   "cell_type": "code",
   "execution_count": 39,
   "id": "1df576e8-a00b-4e45-bca1-e160c65e92c9",
   "metadata": {},
   "outputs": [],
   "source": [
    "decimal_num=32.2"
   ]
  },
  {
   "cell_type": "code",
   "execution_count": null,
   "id": "1f370611-d82f-442d-825e-aab3317e6f68",
   "metadata": {},
   "outputs": [],
   "source": []
  },
  {
   "cell_type": "code",
   "execution_count": 40,
   "id": "d3f4eeb9-c21d-4ff6-8562-1ff7f65169ac",
   "metadata": {},
   "outputs": [
    {
     "data": {
      "text/plain": [
       "float"
      ]
     },
     "execution_count": 40,
     "metadata": {},
     "output_type": "execute_result"
    }
   ],
   "source": [
    "type(decimal_num)\n",
    "#write dec & press tab button"
   ]
  },
  {
   "cell_type": "code",
   "execution_count": 41,
   "id": "71a93027-f76e-47ba-92a4-e2c19e6ef39d",
   "metadata": {},
   "outputs": [
    {
     "data": {
      "text/plain": [
       "32.2"
      ]
     },
     "execution_count": 41,
     "metadata": {},
     "output_type": "execute_result"
    }
   ],
   "source": [
    "decimal_num"
   ]
  },
  {
   "cell_type": "code",
   "execution_count": 42,
   "id": "5314a97d-2f8e-46c6-aa2a-4fc7233b9562",
   "metadata": {},
   "outputs": [
    {
     "data": {
      "text/plain": [
       "complex"
      ]
     },
     "execution_count": 42,
     "metadata": {},
     "output_type": "execute_result"
    }
   ],
   "source": [
    "type(1+2j)"
   ]
  },
  {
   "cell_type": "code",
   "execution_count": 44,
   "id": "f0a1339d-9d4d-47db-bc3f-45652dc56dce",
   "metadata": {},
   "outputs": [
    {
     "data": {
      "text/plain": [
       "complex"
      ]
     },
     "execution_count": 44,
     "metadata": {},
     "output_type": "execute_result"
    }
   ],
   "source": [
    "complex\n"
   ]
  },
  {
   "cell_type": "code",
   "execution_count": 45,
   "id": "b6773c5d-c675-4bd7-b8b1-5c9bff0c6f82",
   "metadata": {},
   "outputs": [],
   "source": [
    "# dont start the variable name with numbers\n",
    "1a\n",
    "3numbers"
   ]
  },
  {
   "cell_type": "code",
   "execution_count": 46,
   "id": "b2fa0cd0-18d9-4846-b9e0-7a955affb4a6",
   "metadata": {},
   "outputs": [],
   "source": [
    "numbers1=23"
   ]
  },
  {
   "cell_type": "code",
   "execution_count": 48,
   "id": "2f161192-e2d3-4a9a-939d-9304ace7ff92",
   "metadata": {},
   "outputs": [
    {
     "name": "stdout",
     "output_type": "stream",
     "text": [
      "oppo\n",
      "vivo\n"
     ]
    }
   ],
   "source": [
    "#variable are case sensitive\n",
    "company1=\"oppo\"\n",
    "company2=\"vivo\"\n",
    "print(company1)\n",
    "print(company2)"
   ]
  },
  {
   "cell_type": "code",
   "execution_count": 49,
   "id": "f6174214-ef6b-4cda-aae3-b4e2ef4e5eec",
   "metadata": {},
   "outputs": [
    {
     "data": {
      "text/plain": [
       "True"
      ]
     },
     "execution_count": 49,
     "metadata": {},
     "output_type": "execute_result"
    }
   ],
   "source": [
    "##Resereved keywords (inbuilt)\n",
    "\"\"\"int,float,len,complex,bool,str,return,yield\"\"\"\n",
    "#boolean is just  true & false statement\n",
    "bool (1)"
   ]
  },
  {
   "cell_type": "code",
   "execution_count": 51,
   "id": "967822bc-0332-4920-911b-7f4c1ae9781d",
   "metadata": {},
   "outputs": [
    {
     "data": {
      "text/plain": [
       "'true'"
      ]
     },
     "execution_count": 51,
     "metadata": {},
     "output_type": "execute_result"
    }
   ],
   "source": [
    "'true' or false"
   ]
  },
  {
   "cell_type": "code",
   "execution_count": 52,
   "id": "2061c337-70e7-4d1e-9fb5-d79b7cbf10c9",
   "metadata": {},
   "outputs": [
    {
     "data": {
      "text/plain": [
       "True"
      ]
     },
     "execution_count": 52,
     "metadata": {},
     "output_type": "execute_result"
    }
   ],
   "source": [
    "True or false"
   ]
  },
  {
   "cell_type": "code",
   "execution_count": 53,
   "id": "cbf91727-ac62-4d7a-8fc8-e8484d9df234",
   "metadata": {},
   "outputs": [
    {
     "data": {
      "text/plain": [
       "True"
      ]
     },
     "execution_count": 53,
     "metadata": {},
     "output_type": "execute_result"
    }
   ],
   "source": [
    "True"
   ]
  },
  {
   "cell_type": "code",
   "execution_count": 54,
   "id": "834987ef-59bc-42a3-8069-f9c26e8d311f",
   "metadata": {},
   "outputs": [
    {
     "data": {
      "text/plain": [
       "False"
      ]
     },
     "execution_count": 54,
     "metadata": {},
     "output_type": "execute_result"
    }
   ],
   "source": [
    "False"
   ]
  },
  {
   "cell_type": "code",
   "execution_count": 55,
   "id": "ff40a035-4d9b-4e4a-b5a7-823be5fcc358",
   "metadata": {},
   "outputs": [
    {
     "data": {
      "text/plain": [
       "False"
      ]
     },
     "execution_count": 55,
     "metadata": {},
     "output_type": "execute_result"
    }
   ],
   "source": [
    "False and false"
   ]
  },
  {
   "cell_type": "code",
   "execution_count": 57,
   "id": "6d3aff9b-2b32-46a0-ac34-999d503bdf5f",
   "metadata": {},
   "outputs": [
    {
     "data": {
      "text/plain": [
       "bool"
      ]
     },
     "execution_count": 57,
     "metadata": {},
     "output_type": "execute_result"
    }
   ],
   "source": [
    "type(not False)"
   ]
  },
  {
   "cell_type": "code",
   "execution_count": 68,
   "id": "90d9d5ab-ffdd-44e1-a8d1-df53fa9270da",
   "metadata": {},
   "outputs": [
    {
     "data": {
      "text/plain": [
       "True"
      ]
     },
     "execution_count": 68,
     "metadata": {},
     "output_type": "execute_result"
    }
   ],
   "source": [
    "#typecasting\n",
    "bool(1)"
   ]
  },
  {
   "cell_type": "code",
   "execution_count": 78,
   "id": "4a074a01-224d-4d3b-bad2-ce029be56f66",
   "metadata": {},
   "outputs": [
    {
     "data": {
      "text/plain": [
       "False"
      ]
     },
     "execution_count": 78,
     "metadata": {},
     "output_type": "execute_result"
    }
   ],
   "source": [
    "bool(0)"
   ]
  },
  {
   "cell_type": "code",
   "execution_count": 83,
   "id": "e974521d-deb3-4e96-9069-066604776296",
   "metadata": {},
   "outputs": [
    {
     "data": {
      "text/plain": [
       "False"
      ]
     },
     "execution_count": 83,
     "metadata": {},
     "output_type": "execute_result"
    }
   ],
   "source": [
    "type(bool(a))==1"
   ]
  },
  {
   "cell_type": "code",
   "execution_count": 88,
   "id": "a711ba99-bf5e-4b4d-aa2d-ba99f98ff94f",
   "metadata": {},
   "outputs": [
    {
     "name": "stdout",
     "output_type": "stream",
     "text": [
      "true\n"
     ]
    }
   ],
   "source": [
    "a=1\n",
    "bool(a)==1;\n",
    "print(\"true\")"
   ]
  },
  {
   "cell_type": "code",
   "execution_count": 89,
   "id": "65743e4a-2d64-4205-9c1c-d7b27089ac32",
   "metadata": {},
   "outputs": [
    {
     "data": {
      "text/plain": [
       "'23'"
      ]
     },
     "execution_count": 89,
     "metadata": {},
     "output_type": "execute_result"
    }
   ],
   "source": [
    "str(23)"
   ]
  },
  {
   "cell_type": "code",
   "execution_count": 90,
   "id": "153c0404-1a95-4bc2-8614-b1f4fbacc4bf",
   "metadata": {},
   "outputs": [
    {
     "data": {
      "text/plain": [
       "23"
      ]
     },
     "execution_count": 90,
     "metadata": {},
     "output_type": "execute_result"
    }
   ],
   "source": [
    "int(23)"
   ]
  },
  {
   "cell_type": "markdown",
   "id": "7e232751-8002-40e3-82d7-2c79ac6cf053",
   "metadata": {},
   "source": [
    "# Dynamic Typing"
   ]
  },
  {
   "cell_type": "code",
   "execution_count": 91,
   "id": "2a6953cc-26b7-450a-96a7-3dfedc96b221",
   "metadata": {},
   "outputs": [],
   "source": [
    "#the complier on the run time understand\n",
    "a=12\n",
    "str1=\"maddy\"\n",
    "a=\"var\"\n"
   ]
  },
  {
   "cell_type": "code",
   "execution_count": 92,
   "id": "11f6c6bc-67dd-47ba-9a58-f4cce8a4ad77",
   "metadata": {},
   "outputs": [
    {
     "name": "stdout",
     "output_type": "stream",
     "text": [
      "<class 'str'>\n"
     ]
    }
   ],
   "source": [
    "print(type(a))"
   ]
  },
  {
   "cell_type": "code",
   "execution_count": 93,
   "id": "0d60b035-f266-4f62-ac69-f755e1533769",
   "metadata": {},
   "outputs": [
    {
     "data": {
      "text/plain": [
       "1"
      ]
     },
     "execution_count": 93,
     "metadata": {},
     "output_type": "execute_result"
    }
   ],
   "source": [
    "int(1.54)"
   ]
  },
  {
   "cell_type": "code",
   "execution_count": 94,
   "id": "4ad30f23-aea2-4a6d-98f6-e55d6e72891f",
   "metadata": {},
   "outputs": [],
   "source": [
    "##conxatenation between diffrent types"
   ]
  },
  {
   "cell_type": "code",
   "execution_count": 95,
   "id": "933f95fd-406a-4e72-aa4a-b028c86f4fa9",
   "metadata": {},
   "outputs": [
    {
     "data": {
      "text/plain": [
       "'1111111111111111111111111111111111111111111111111111111111111111111111111111111111111111111111111111'"
      ]
     },
     "execution_count": 95,
     "metadata": {},
     "output_type": "execute_result"
    }
   ],
   "source": [
    "\"1\"*100"
   ]
  },
  {
   "cell_type": "code",
   "execution_count": null,
   "id": "16149d76-1e04-48c0-a1f9-1f34d1ed1fef",
   "metadata": {},
   "outputs": [],
   "source": []
  }
 ],
 "metadata": {
  "kernelspec": {
   "display_name": "Python 3 (ipykernel)",
   "language": "python",
   "name": "python3"
  },
  "language_info": {
   "codemirror_mode": {
    "name": "ipython",
    "version": 3
   },
   "file_extension": ".py",
   "mimetype": "text/x-python",
   "name": "python",
   "nbconvert_exporter": "python",
   "pygments_lexer": "ipython3",
   "version": "3.10.8"
  }
 },
 "nbformat": 4,
 "nbformat_minor": 5
}
