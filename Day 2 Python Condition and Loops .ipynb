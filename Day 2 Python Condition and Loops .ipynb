{
 "cells": [
  {
   "cell_type": "code",
   "execution_count": 25,
   "id": "9e971a90-0a45-4a8d-ac69-f77197f59b40",
   "metadata": {},
   "outputs": [],
   "source": [
    "a=10"
   ]
  },
  {
   "cell_type": "code",
   "execution_count": 26,
   "id": "12fbbff6-9dc3-44c6-87d4-e66e5ea471a8",
   "metadata": {},
   "outputs": [],
   "source": [
    "a='c'"
   ]
  },
  {
   "cell_type": "code",
   "execution_count": 4,
   "id": "b693dab3-a1d1-4954-987b-68de07500477",
   "metadata": {},
   "outputs": [
    {
     "data": {
      "text/plain": [
       "str"
      ]
     },
     "execution_count": 4,
     "metadata": {},
     "output_type": "execute_result"
    }
   ],
   "source": [
    "type(a)"
   ]
  },
  {
   "cell_type": "code",
   "execution_count": 7,
   "id": "da9214bb-c0a9-46d7-9a95-4152a388c331",
   "metadata": {},
   "outputs": [
    {
     "data": {
      "text/plain": [
       "123"
      ]
     },
     "execution_count": 7,
     "metadata": {},
     "output_type": "execute_result"
    }
   ],
   "source": [
    "int('123')"
   ]
  },
  {
   "cell_type": "code",
   "execution_count": 8,
   "id": "2534e91d-5b19-4a17-84a3-26a72d73081c",
   "metadata": {},
   "outputs": [
    {
     "ename": "ValueError",
     "evalue": "invalid literal for int() with base 10: 'abcd'",
     "output_type": "error",
     "traceback": [
      "\u001b[0;31m---------------------------------------------------------------------------\u001b[0m",
      "\u001b[0;31mValueError\u001b[0m                                Traceback (most recent call last)",
      "Cell \u001b[0;32mIn[8], line 1\u001b[0m\n\u001b[0;32m----> 1\u001b[0m \u001b[38;5;28;43mint\u001b[39;49m\u001b[43m(\u001b[49m\u001b[38;5;124;43m'\u001b[39;49m\u001b[38;5;124;43mabcd\u001b[39;49m\u001b[38;5;124;43m'\u001b[39;49m\u001b[43m)\u001b[49m\n",
      "\u001b[0;31mValueError\u001b[0m: invalid literal for int() with base 10: 'abcd'"
     ]
    }
   ],
   "source": [
    "int('abcd')"
   ]
  },
  {
   "cell_type": "code",
   "execution_count": 9,
   "id": "84dc4185-d700-4766-8dca-b44b8e26845f",
   "metadata": {},
   "outputs": [
    {
     "name": "stdout",
     "output_type": "stream",
     "text": [
      "Hello World\n"
     ]
    }
   ],
   "source": [
    "print(\"Hello World\")"
   ]
  },
  {
   "cell_type": "code",
   "execution_count": 10,
   "id": "fadf09ba-5413-4c72-83db-8a3c2de35b22",
   "metadata": {},
   "outputs": [
    {
     "name": "stdout",
     "output_type": "stream",
     "text": [
      "123\n"
     ]
    }
   ],
   "source": [
    "print(123)"
   ]
  },
  {
   "cell_type": "code",
   "execution_count": 11,
   "id": "70e0568d-9824-4da0-a01a-87f9e138368a",
   "metadata": {},
   "outputs": [
    {
     "name": "stdout",
     "output_type": "stream",
     "text": [
      "Hello World\n"
     ]
    }
   ],
   "source": [
    "print('Hello World')"
   ]
  },
  {
   "cell_type": "code",
   "execution_count": 13,
   "id": "83bd21cc-31b4-4b4d-a73c-dcd7af68f217",
   "metadata": {},
   "outputs": [
    {
     "name": "stdout",
     "output_type": "stream",
     "text": [
      "My age is: 32\n"
     ]
    }
   ],
   "source": [
    "age=32\n",
    "print(\"My age is:\",age)"
   ]
  },
  {
   "cell_type": "code",
   "execution_count": 16,
   "id": "e250b48e-4c39-488a-aec0-ea4ff54ba69b",
   "metadata": {},
   "outputs": [
    {
     "name": "stdout",
     "output_type": "stream",
     "text": [
      "My age is: 32\n"
     ]
    }
   ],
   "source": [
    "##  f string\n",
    "print(f\"My age is: {age}\")"
   ]
  },
  {
   "cell_type": "code",
   "execution_count": 17,
   "id": "6ff6137c-f76c-40fb-ac7a-9e0759df6c71",
   "metadata": {},
   "outputs": [
    {
     "name": "stdout",
     "output_type": "stream",
     "text": [
      "My name is Krish and age is 32\n"
     ]
    }
   ],
   "source": [
    "## format()\n",
    "name=\"Krish\"\n",
    "age=32\n",
    "print(\"My name is {} and age is {}\".format(name,age))"
   ]
  },
  {
   "cell_type": "code",
   "execution_count": 18,
   "id": "bd510f5a-3e80-413d-866b-bdc8d24987c8",
   "metadata": {},
   "outputs": [
    {
     "name": "stdout",
     "output_type": "stream",
     "text": [
      "My name is 32 and age is Krish\n"
     ]
    }
   ],
   "source": [
    "print(\"My name is {} and age is {}\".format(age,name))"
   ]
  },
  {
   "cell_type": "code",
   "execution_count": 20,
   "id": "a4b07305-78e5-4c64-901f-2ed2f29be593",
   "metadata": {},
   "outputs": [
    {
     "name": "stdout",
     "output_type": "stream",
     "text": [
      "My name is Krish and age is 32\n"
     ]
    }
   ],
   "source": [
    "##placeholder\n",
    "print(\"My name is {firstname} and age is {firstage}\".format(firstage=age,firstname=name))"
   ]
  },
  {
   "cell_type": "code",
   "execution_count": null,
   "id": "9eb9c60d-dcfc-4d3a-919c-c6e5b83298a1",
   "metadata": {},
   "outputs": [],
   "source": [
    "name=\"Krish Naik\"\n",
    "age=32\n",
    "degree=\"BE\"\n",
    "\n",
    "\" My age is 32 and i have completed: my degree of BE with the name of Krish Naik\""
   ]
  },
  {
   "cell_type": "code",
   "execution_count": null,
   "id": "56690822-9b0b-43b0-9956-2347334c7fdd",
   "metadata": {},
   "outputs": [],
   "source": [
    "print(\"My age is {} and i have completed: my degree {} with the name of {}\".format(age,degree,name))\n"
   ]
  },
  {
   "cell_type": "code",
   "execution_count": null,
   "id": "e140e3e8-bfe5-4514-9ece-7649f5aac0ff",
   "metadata": {},
   "outputs": [],
   "source": [
    "print(f\"My age is {age} and I have completed: my degree of {degree} with the name of {name}\")\n"
   ]
  },
  {
   "cell_type": "code",
   "execution_count": 28,
   "id": "21fa06d5-2659-49e9-8c6c-0e1a76cc573f",
   "metadata": {},
   "outputs": [
    {
     "name": "stdout",
     "output_type": "stream",
     "text": [
      "You are eligible to vote\n"
     ]
    }
   ],
   "source": [
    "## If Statements\n",
    "age=18\n",
    "if age>=18:\n",
    "    print(\"You are eligible to vote\")\n",
    "    "
   ]
  },
  {
   "cell_type": "code",
   "execution_count": 34,
   "id": "8dcd857e-ce45-4935-b80f-45b1ee62803b",
   "metadata": {},
   "outputs": [
    {
     "name": "stdout",
     "output_type": "stream",
     "text": [
      "You are not eligible to vote\n"
     ]
    }
   ],
   "source": [
    "## If Statements\n",
    "age=17\n",
    "if age<18:\n",
    "    print(\"You are not eligible to vote\")"
   ]
  },
  {
   "cell_type": "code",
   "execution_count": 33,
   "id": "c67056d6-a61b-46ec-960c-32e1a8120fbd",
   "metadata": {},
   "outputs": [
    {
     "data": {
      "text/plain": [
       "True"
      ]
     },
     "execution_count": 33,
     "metadata": {},
     "output_type": "execute_result"
    }
   ],
   "source": [
    "18<=18"
   ]
  },
  {
   "cell_type": "code",
   "execution_count": 41,
   "id": "5e75d089-42f3-4a33-bc87-164ef45746f0",
   "metadata": {},
   "outputs": [
    {
     "name": "stdin",
     "output_type": "stream",
     "text": [
      "Enter the name krish naik\n"
     ]
    }
   ],
   "source": [
    "name=input(\"Enter the name\")"
   ]
  },
  {
   "cell_type": "code",
   "execution_count": 42,
   "id": "3cc379bf-785a-4a16-9c53-1bfb722b2ca1",
   "metadata": {},
   "outputs": [
    {
     "data": {
      "text/plain": [
       "'krish naik'"
      ]
     },
     "execution_count": 42,
     "metadata": {},
     "output_type": "execute_result"
    }
   ],
   "source": [
    "name"
   ]
  },
  {
   "cell_type": "code",
   "execution_count": 38,
   "id": "50bd3a20-8e98-4e26-afa0-e995189bdb7d",
   "metadata": {},
   "outputs": [
    {
     "name": "stdin",
     "output_type": "stream",
     "text": [
      "Enter your age 32\n"
     ]
    }
   ],
   "source": [
    "age=int(input(\"Enter your age\"))"
   ]
  },
  {
   "cell_type": "code",
   "execution_count": 40,
   "id": "e29d6b6c-dc90-4193-a6ab-23440487e092",
   "metadata": {},
   "outputs": [
    {
     "data": {
      "text/plain": [
       "int"
      ]
     },
     "execution_count": 40,
     "metadata": {},
     "output_type": "execute_result"
    }
   ],
   "source": [
    "type(age)"
   ]
  },
  {
   "cell_type": "code",
   "execution_count": null,
   "id": "c9f25139-0ed4-4f6a-b65b-42574870029a",
   "metadata": {},
   "outputs": [],
   "source": [
    "##Task\n",
    "## Take a input of age\n",
    "## check whether age >=18 and age<=45\n",
    "## display a message you are young blood"
   ]
  },
  {
   "cell_type": "code",
   "execution_count": 43,
   "id": "e3e2bf14-d052-4440-a1a6-ca220498c7f2",
   "metadata": {},
   "outputs": [
    {
     "data": {
      "text/plain": [
       "False"
      ]
     },
     "execution_count": 43,
     "metadata": {},
     "output_type": "execute_result"
    }
   ],
   "source": [
    "True and False"
   ]
  },
  {
   "cell_type": "code",
   "execution_count": 52,
   "id": "6dbd8004-ba80-4771-b47f-cef36461615b",
   "metadata": {},
   "outputs": [
    {
     "name": "stdin",
     "output_type": "stream",
     "text": [
      "Enter the age 22\n"
     ]
    },
    {
     "name": "stdout",
     "output_type": "stream",
     "text": [
      "You are young blood\n"
     ]
    }
   ],
   "source": [
    "age=int(input(\"Enter the age\"))\n",
    "if  age>=18 and age <=45:\n",
    "    print(\"You are young blood\")"
   ]
  },
  {
   "cell_type": "code",
   "execution_count": 47,
   "id": "ce0d69b2-f519-4010-800e-8c14fbebb4d0",
   "metadata": {},
   "outputs": [
    {
     "data": {
      "text/plain": [
       "True"
      ]
     },
     "execution_count": 47,
     "metadata": {},
     "output_type": "execute_result"
    }
   ],
   "source": [
    "22>=18 and 22<=45"
   ]
  },
  {
   "cell_type": "code",
   "execution_count": 46,
   "id": "65bb2146-3b16-4d0c-8314-73c2a5d3552d",
   "metadata": {},
   "outputs": [
    {
     "data": {
      "text/plain": [
       "True"
      ]
     },
     "execution_count": 46,
     "metadata": {},
     "output_type": "execute_result"
    }
   ],
   "source": [
    "22<=42"
   ]
  },
  {
   "cell_type": "code",
   "execution_count": 53,
   "id": "283f842c-24ed-4ded-ab4c-b0108d93df83",
   "metadata": {},
   "outputs": [
    {
     "name": "stdin",
     "output_type": "stream",
     "text": [
      "Enter the age 55\n"
     ]
    }
   ],
   "source": [
    "age=int(input(\"Enter the age\"))\n",
    "if  age>=18 and age <=45:\n",
    "    print(\"You are young blood\")"
   ]
  },
  {
   "cell_type": "code",
   "execution_count": 55,
   "id": "eb3a4bfb-54cb-400e-88ee-c5deca913146",
   "metadata": {},
   "outputs": [
    {
     "name": "stdin",
     "output_type": "stream",
     "text": [
      "Enter the age 56\n"
     ]
    },
    {
     "name": "stdout",
     "output_type": "stream",
     "text": [
      "Thank you your we will let you know\n"
     ]
    }
   ],
   "source": [
    "## if else satetements\n",
    "age=int(input(\"Enter the age\"))\n",
    "if  age>=18 and age <=45:\n",
    "    print(\"You are young blood\")\n",
    "else:\n",
    "    print(\"Thank you your we will let you know\")"
   ]
  },
  {
   "cell_type": "code",
   "execution_count": null,
   "id": "de1c96e8-f315-4fab-a051-03e0a50384a0",
   "metadata": {},
   "outputs": [],
   "source": [
    "## mall - input the product price\n",
    "## product >1000 rs 20% off\n",
    "## print the product price after removing the discount\n",
    "## product <=1000 rs 30% off\n",
    "## print the product price after removing the discount\n"
   ]
  },
  {
   "cell_type": "code",
   "execution_count": 60,
   "id": "cae3f380-2f96-4d67-9f4b-0871f59fc917",
   "metadata": {},
   "outputs": [
    {
     "name": "stdin",
     "output_type": "stream",
     "text": [
      "Enter the price 10\n"
     ]
    },
    {
     "name": "stdout",
     "output_type": "stream",
     "text": [
      "The price of the product is 7.0\n"
     ]
    }
   ],
   "source": [
    "product_price=int(input(\"Enter the price\"))\n",
    "if product_price>1000:\n",
    "    print(\"The price of the product is {}\".format(product_price*0.8))\n",
    "else:\n",
    "    print(\"The price of the product is {}\".format(product_price*0.7))"
   ]
  },
  {
   "cell_type": "code",
   "execution_count": 59,
   "id": "d2959de0-ce8b-491f-8e5a-d269f4a86e64",
   "metadata": {},
   "outputs": [
    {
     "data": {
      "text/plain": [
       "1000"
      ]
     },
     "execution_count": 59,
     "metadata": {},
     "output_type": "execute_result"
    }
   ],
   "source": [
    "int((20/100)*5000)"
   ]
  },
  {
   "cell_type": "code",
   "execution_count": 61,
   "id": "f28759c4-7d53-4277-8382-5f84405640cf",
   "metadata": {},
   "outputs": [
    {
     "name": "stdin",
     "output_type": "stream",
     "text": [
      "Enter the price 2000\n"
     ]
    },
    {
     "name": "stdout",
     "output_type": "stream",
     "text": [
      "The price of the product is 1600.0\n"
     ]
    }
   ],
   "source": [
    "product_price=int(input(\"Enter the price\"))\n",
    "if product_price>1000:\n",
    "    print(f\"The price of the product is {product_price*0.8}\")\n",
    "else:\n",
    "    print(\"The price of the product is {}\".format(product_price*0.7))"
   ]
  },
  {
   "cell_type": "code",
   "execution_count": null,
   "id": "566ad314-b292-47df-bac7-e5b8b4b9f2b3",
   "metadata": {},
   "outputs": [],
   "source": [
    "## mall - input the product price\n",
    "## product >3000 rs 20% off\n",
    "## price is ==4000 you get a trip to Goa\n",
    "## print the product price after removing the discount\n",
    "## product >=2000 rs and <=3000 30% off\n",
    "## print the product price after removing the discount\n",
    "## price ==2999  u will get adiitional gift\n",
    "## product 100 rs and <=2000 40% off\n",
    "## print the product price after removing the discount"
   ]
  },
  {
   "cell_type": "code",
   "execution_count": 69,
   "id": "f5a76f5b-2a4a-4e21-ad95-c981b2ce03d1",
   "metadata": {},
   "outputs": [
    {
     "name": "stdin",
     "output_type": "stream",
     "text": [
      "Enter the price 2000\n"
     ]
    },
    {
     "name": "stdout",
     "output_type": "stream",
     "text": [
      "The price of the product is 1400.0\n"
     ]
    }
   ],
   "source": [
    "product_price=int(input(\"Enter the price\"))\n",
    "if product_price>3000:\n",
    "    if product_price==4000:\n",
    "        print(\"Congratulations you get a Goa Trip\")\n",
    "    print(f\"The price of the product is {product_price*0.8}\")\n",
    "elif product_price>=2000 and product_price<=3000:\n",
    "    if product_price==2999:\n",
    "        print(\"Congratulations you get an additional gift\")\n",
    "    print(f\"The price of the product is {product_price*0.7}\")\n",
    "elif product_price>=100 and product_price<2000:\n",
    "    print(f\"The price of the product is {product_price*0.6}\")\n",
    "else:\n",
    "    print(\"Lets drink tea\")\n",
    "    print(\"I will also be there\")\n",
    "    "
   ]
  },
  {
   "cell_type": "code",
   "execution_count": 66,
   "id": "fa450496-a013-4a8a-994e-e93ceb5335e9",
   "metadata": {},
   "outputs": [
    {
     "data": {
      "text/plain": [
       "True"
      ]
     },
     "execution_count": 66,
     "metadata": {},
     "output_type": "execute_result"
    }
   ],
   "source": [
    "#comaprission operator\n",
    "True==True"
   ]
  },
  {
   "cell_type": "code",
   "execution_count": 71,
   "id": "24d70ba3-174c-4ab1-b524-b6fb4c937a3d",
   "metadata": {},
   "outputs": [
    {
     "name": "stdin",
     "output_type": "stream",
     "text": [
      "Enter the number 1000\n"
     ]
    },
    {
     "name": "stdout",
     "output_type": "stream",
     "text": [
      "Go Home\n"
     ]
    }
   ],
   "source": [
    "## Single statement Suites\n",
    "val=int(input('Enter the number'))\n",
    "if(val<=999):print(\"Value is less than equal to 999\")\n",
    "else:\n",
    "    print(\"Go Home\")"
   ]
  },
  {
   "cell_type": "markdown",
   "id": "38e18955-1f9e-4b5a-9674-16e5602eaf98",
   "metadata": {},
   "source": [
    "## Loops statements\n",
    "1. while loop\n",
    "2. for loop\n",
    "3. nested loops\n",
    "4. Loop control(break,continue,pass)"
   ]
  },
  {
   "cell_type": "code",
   "execution_count": 74,
   "id": "5af77a71-ea79-4120-88ba-8fdb5c46382c",
   "metadata": {},
   "outputs": [
    {
     "name": "stdout",
     "output_type": "stream",
     "text": [
      "25\n",
      "26\n",
      "27\n",
      "28\n",
      "29\n",
      "30\n",
      "31\n",
      "32\n",
      "33\n",
      "34\n",
      "35\n",
      "36\n",
      "37\n",
      "38\n",
      "39\n",
      "40\n",
      "41\n",
      "42\n",
      "43\n",
      "44\n",
      "45\n",
      "46\n",
      "47\n",
      "48\n",
      "49\n",
      "50\n",
      "51\n",
      "52\n",
      "53\n",
      "54\n",
      "55\n",
      "56\n",
      "57\n",
      "58\n",
      "59\n",
      "60\n",
      "Its time for retirement\n"
     ]
    }
   ],
   "source": [
    "# while loop while-else\n",
    "joining_age=25\n",
    "while joining_age<=60:\n",
    "    print(joining_age)\n",
    "    joining_age=joining_age+1\n",
    "    \n",
    "else:\n",
    "    print(\"Its time for retirement\")\n",
    "\n"
   ]
  },
  {
   "cell_type": "code",
   "execution_count": 81,
   "id": "3ac6e35d-baec-4eb0-8b90-5ba77de7d4fe",
   "metadata": {},
   "outputs": [
    {
     "name": "stdout",
     "output_type": "stream",
     "text": [
      "1000\n",
      "900\n",
      "800\n",
      "700\n",
      "600\n",
      "500\n",
      "400\n",
      "300\n",
      "200\n",
      "100\n",
      "Put more money bank people\n",
      "Hello All\n"
     ]
    }
   ],
   "source": [
    "### Atm machine with 1000 rs\n",
    "total_amount=1000\n",
    "while total_amount!=0:\n",
    "    print(total_amount)\n",
    "    total_amount=total_amount-100\n",
    "else:\n",
    "    print(\"Put more money bank people\")\n",
    "    \n",
    "print(\"Hello All\")\n",
    "    "
   ]
  },
  {
   "cell_type": "markdown",
   "id": "b2a9ea39-c927-4717-b4c6-bbc12da4f82a",
   "metadata": {},
   "source": [
    "## For Loop"
   ]
  },
  {
   "cell_type": "code",
   "execution_count": 82,
   "id": "be6ed02f-ed0d-4296-905c-26358227e62b",
   "metadata": {},
   "outputs": [],
   "source": [
    "lst=[\"Krish\",1,2,3,4,\"apple\",\"banana\"]"
   ]
  },
  {
   "cell_type": "code",
   "execution_count": 83,
   "id": "6937007c-1411-4ad9-9796-7df9fdf62f55",
   "metadata": {},
   "outputs": [
    {
     "data": {
      "text/plain": [
       "list"
      ]
     },
     "execution_count": 83,
     "metadata": {},
     "output_type": "execute_result"
    }
   ],
   "source": [
    "type(lst)"
   ]
  },
  {
   "cell_type": "code",
   "execution_count": 85,
   "id": "bc0a3c5d-287b-433f-90f7-63301ca68fe5",
   "metadata": {},
   "outputs": [
    {
     "data": {
      "text/plain": [
       "4"
      ]
     },
     "execution_count": 85,
     "metadata": {},
     "output_type": "execute_result"
    }
   ],
   "source": [
    "lst[4]"
   ]
  },
  {
   "cell_type": "code",
   "execution_count": 87,
   "id": "81f419f4-2335-415b-b209-e914865bae85",
   "metadata": {},
   "outputs": [
    {
     "data": {
      "text/plain": [
       "['Krish', 1, 2, 3, 4, 'apple', 'banana']"
      ]
     },
     "execution_count": 87,
     "metadata": {},
     "output_type": "execute_result"
    }
   ],
   "source": [
    "lst"
   ]
  },
  {
   "cell_type": "code",
   "execution_count": 88,
   "id": "bea79ecb-8f33-4829-9b78-bb116e7cbfb1",
   "metadata": {},
   "outputs": [
    {
     "name": "stdout",
     "output_type": "stream",
     "text": [
      "Krish\n",
      "1\n",
      "2\n",
      "3\n",
      "4\n",
      "apple\n",
      "banana\n"
     ]
    }
   ],
   "source": [
    "for x in lst:\n",
    "    print(x)"
   ]
  },
  {
   "cell_type": "code",
   "execution_count": 89,
   "id": "a676b171-a273-499f-89cd-0ba1e5d9882f",
   "metadata": {},
   "outputs": [],
   "source": [
    "fruits_list = [\"Mango\",\"Cherry\",\"Apple\",\"Papaya\",\"Banana\"]"
   ]
  },
  {
   "cell_type": "code",
   "execution_count": 95,
   "id": "f0d5c558-d765-4ff1-8a65-1229a62445c8",
   "metadata": {},
   "outputs": [
    {
     "name": "stdout",
     "output_type": "stream",
     "text": [
      "Mango\n",
      "Cherry\n",
      "The fruit is cherry\n",
      "Apple\n",
      "Papaya\n",
      "Banana\n"
     ]
    }
   ],
   "source": [
    "for a in fruits_list:\n",
    "    print(a)\n",
    "    if a==\"Cherry\":\n",
    "        print(\"The fruit is cherry\")\n",
    "        "
   ]
  },
  {
   "cell_type": "code",
   "execution_count": 96,
   "id": "f59824fd-26c1-498e-88e9-61a7918ff087",
   "metadata": {},
   "outputs": [
    {
     "name": "stdout",
     "output_type": "stream",
     "text": [
      "m\n",
      "a\n",
      "n\n",
      "g\n",
      "o\n"
     ]
    }
   ],
   "source": [
    "fruit='mango'\n",
    "for x in fruit:\n",
    "    print(x)"
   ]
  },
  {
   "cell_type": "code",
   "execution_count": 101,
   "id": "ae17b40a-d8b2-4946-b829-665d3b59841a",
   "metadata": {},
   "outputs": [
    {
     "name": "stdout",
     "output_type": "stream",
     "text": [
      "m\n",
      "a\n",
      "n\n",
      "g\n",
      "o\n"
     ]
    }
   ],
   "source": [
    "fruit='mango'\n",
    "for x in fruit:\n",
    "    print(x)"
   ]
  },
  {
   "cell_type": "code",
   "execution_count": 99,
   "id": "f6b700b0-f87a-421f-b749-c2bff589fd58",
   "metadata": {},
   "outputs": [
    {
     "data": {
      "text/plain": [
       "'n'"
      ]
     },
     "execution_count": 99,
     "metadata": {},
     "output_type": "execute_result"
    }
   ],
   "source": [
    "fruit[2]"
   ]
  },
  {
   "cell_type": "markdown",
   "id": "d71e1913-66a7-4d61-822f-1ef879ab6953",
   "metadata": {},
   "source": [
    "### 4.1.4 Nested If statement\n",
    "\n",
    "   - In some of the cases, it is required to have other check condition inside a check condition (when it `True`)\n",
    "   - Such type of scenarios required to have a nested arrangement.\n",
    "   - Under a nested if arrangement, an `if-elif-else` can be construct inside an another `if-elif-else` construct.\n",
    "   \n",
    "**Examples**"
   ]
  },
  {
   "cell_type": "code",
   "execution_count": null,
   "id": "cdb25811-64ae-472c-9edc-df333e9d9141",
   "metadata": {},
   "outputs": [],
   "source": [
    "###  Nested loops\n",
    "n=7\n",
    "\n"
   ]
  },
  {
   "cell_type": "code",
   "execution_count": 105,
   "id": "a9a34800-2a3e-45de-b2e6-a56754bf5d02",
   "metadata": {},
   "outputs": [
    {
     "name": "stdout",
     "output_type": "stream",
     "text": [
      "1\n",
      "2\n",
      "3\n",
      "4\n",
      "5\n",
      "6\n",
      "7\n",
      "8\n",
      "9\n"
     ]
    }
   ],
   "source": [
    "## range\n",
    "for i in range(1,10):\n",
    "    print(i)"
   ]
  },
  {
   "cell_type": "code",
   "execution_count": 119,
   "id": "278a477f-3c86-4d52-813e-33badccc6058",
   "metadata": {},
   "outputs": [
    {
     "name": "stdout",
     "output_type": "stream",
     "text": [
      "0\n",
      "2\n",
      "4\n",
      "6\n"
     ]
    }
   ],
   "source": [
    "for i in range(0,7,2):\n",
    "    print(i)"
   ]
  },
  {
   "cell_type": "code",
   "execution_count": 111,
   "id": "cd16d3c6-8d2f-4aeb-8fa2-3f863db793fb",
   "metadata": {},
   "outputs": [
    {
     "name": "stdout",
     "output_type": "stream",
     "text": [
      "*\n",
      "**\n",
      "***\n",
      "****\n",
      "*****\n",
      "******\n",
      "*******\n"
     ]
    }
   ],
   "source": [
    "## Nested loops\n",
    "n=7\n",
    "\n",
    "for i in range(0,n):\n",
    "    for j in range(0,i+1):\n",
    "        print(\"*\",end=\"\")\n",
    "    print(\"\\r\")"
   ]
  },
  {
   "cell_type": "code",
   "execution_count": 112,
   "id": "3ba5f283-3eb0-407e-a3b1-8a30ec0529e1",
   "metadata": {},
   "outputs": [],
   "source": [
    "##Loop controls\n",
    "## Break and continue\n",
    "fruits_list = [\"Mango\",\"Cherry\",\"Apple\",\"Papaya\",\"Banana\"]\n"
   ]
  },
  {
   "cell_type": "code",
   "execution_count": 115,
   "id": "8ac9ff67-6736-4a9b-8a32-09439a52f083",
   "metadata": {},
   "outputs": [
    {
     "name": "stdout",
     "output_type": "stream",
     "text": [
      "Mango\n",
      "Cherry\n",
      "The fruit is apple\n"
     ]
    }
   ],
   "source": [
    "for i in fruits_list:\n",
    "    if i==\"Apple\":\n",
    "        print(\"The fruit is apple\")\n",
    "        break\n",
    "    print(i)"
   ]
  },
  {
   "cell_type": "code",
   "execution_count": 116,
   "id": "c4da2082-960e-497a-80ee-fe65f9882375",
   "metadata": {},
   "outputs": [
    {
     "name": "stdout",
     "output_type": "stream",
     "text": [
      "Mango\n",
      "Cherry\n",
      "The fruit is apple\n",
      "Apple\n",
      "Papaya\n",
      "Banana\n"
     ]
    }
   ],
   "source": [
    "for i in fruits_list:\n",
    "    if i==\"Apple\":\n",
    "        print(\"The fruit is apple\")\n",
    "        pass\n",
    "    print(i)"
   ]
  },
  {
   "cell_type": "code",
   "execution_count": 117,
   "id": "d398b369-92ea-49a2-bda0-e0d5cac82d97",
   "metadata": {},
   "outputs": [
    {
     "name": "stdout",
     "output_type": "stream",
     "text": [
      "Mango\n",
      "Cherry\n",
      "The fruit is apple\n",
      "Papaya\n",
      "Banana\n"
     ]
    }
   ],
   "source": [
    "##continue\n",
    "for i in fruits_list:\n",
    "    if i==\"Apple\":\n",
    "        print(\"The fruit is apple\")\n",
    "        continue\n",
    "    print(i)"
   ]
  },
  {
   "cell_type": "markdown",
   "id": "55c11e32-0f8c-4466-aa32-b754daa4e9c3",
   "metadata": {},
   "source": [
    "# 4) Control Flow\n",
    "   **Here, we are going to review and learn the most fundamentals of Python control flow: Decision making statement and loops.**"
   ]
  },
  {
   "cell_type": "markdown",
   "id": "795239f3-3943-4495-900e-bc8d48550113",
   "metadata": {},
   "source": [
    "## 4.1 Decision Making Statement\n",
    "   * It is kind of making decision during occurred situation of program execution and action can be taken according to specified conditions.\n",
    "   * Structure of decision making evaluate several expressions that provide True or False as a result.\n",
    "   * It is up to you to decide which type of action want to take and execute the statements based upon True and False.\n",
    "   \n",
    "**These are several topics of decision making which going to be discussed below:**\n",
    "   1. **if**\n",
    "   2. **if else** \n",
    "   3. **if elif else**\n",
    "   4. **Nested if**\n",
    "   5. **Single Statement Suites**"
   ]
  },
  {
   "cell_type": "markdown",
   "id": "6b642542-eacb-4b80-ad7c-b6bfbcb7d8fa",
   "metadata": {},
   "source": [
    "### 4.1.1 If statement\n",
    "   - In python `if` statement is same as other languages.\n",
    "   - It is having a logical expression where data is getting compared and based upon comparison result a decision is made.\n",
    "   \n",
    "**Examples**"
   ]
  },
  {
   "cell_type": "code",
   "execution_count": 7,
   "id": "c88f9328-6e20-4592-a727-4d532bae7dd8",
   "metadata": {},
   "outputs": [
    {
     "name": "stdout",
     "output_type": "stream",
     "text": [
      "value\n",
      "99\n"
     ]
    }
   ],
   "source": [
    "'''Its a simple if statement, \n",
    "if the value is defined then it \n",
    "display the print statements'''\n",
    "val=99\n",
    "if val:\n",
    "    print(\"value\")\n",
    "    print(val)"
   ]
  },
  {
   "cell_type": "code",
   "execution_count": 8,
   "id": "948d3e01-f293-4f21-b0d0-e965bc58f6d4",
   "metadata": {},
   "outputs": [
    {
     "name": "stdin",
     "output_type": "stream",
     "text": [
      "enter any number 800\n"
     ]
    },
    {
     "name": "stdout",
     "output_type": "stream",
     "text": [
      "value\n",
      "800\n"
     ]
    }
   ],
   "source": [
    "val=int(input(\"enter any number\"))\n",
    "if val:\n",
    "    print(\"value\")\n",
    "    print(val)"
   ]
  },
  {
   "cell_type": "code",
   "execution_count": 15,
   "id": "3f8f3707-d675-4e46-8a64-9c8b2223eff7",
   "metadata": {},
   "outputs": [
    {
     "name": "stdin",
     "output_type": "stream",
     "text": [
      "enter the value 90\n"
     ]
    },
    {
     "name": "stdout",
     "output_type": "stream",
     "text": [
      "Pass\n"
     ]
    }
   ],
   "source": [
    "mark=int(input(\"enter the value\"))\n",
    "if mark >= 60:\n",
    "    print(\"Pass\")\n",
    "else:\n",
    "    print(\"fail\")\n"
   ]
  },
  {
   "cell_type": "markdown",
   "id": "bee176d6-7689-4335-8dc6-64ce94ef8d6d",
   "metadata": {},
   "source": [
    "### 4.1.2 If-else statement\n",
    "\n",
    "   - With `if` statement an `else` statement is combined.\n",
    "   - `if-else` statement have a block of code, where `if` is executed when it is `1` or `True` and `else` when `if` is `0` or `False` \n",
    "   >**Note:** The `else` statement is consider to be an optional statement, so there could be only one `else` statement in block of code.\n",
    "   \n",
    "**Examples**"
   ]
  },
  {
   "cell_type": "code",
   "execution_count": 23,
   "id": "15e15a61-cfc8-42ea-bd3f-a01525fd1947",
   "metadata": {},
   "outputs": [
    {
     "name": "stdin",
     "output_type": "stream",
     "text": [
      "Price:  98\n"
     ]
    },
    {
     "name": "stdout",
     "output_type": "stream",
     "text": [
      "Discount Rupess: 3.92\n",
      "Net payable Amount:  94.08\n"
     ]
    }
   ],
   "source": [
    "'''Its a good example to get \n",
    "the Net payable amount by setting up \n",
    "discount at specific price range by using if-else statement'''\n",
    "Total_Price=int(input(\"Price: \"))\n",
    "if Total_Price<100:\n",
    "    discount=Total_Price*0.04\n",
    "    print (\"Discount Rupess: \"+str(discount))\n",
    "else:\n",
    "    discount=Total_Price*0.1\n",
    "    print (\"Discount Rupess: \"+str(discount))\n",
    "print (\"Net payable Amount: \",Total_Price-discount)"
   ]
  },
  {
   "cell_type": "code",
   "execution_count": 25,
   "id": "06f82b5a-cd65-4d89-ab3f-eda4998ad240",
   "metadata": {},
   "outputs": [
    {
     "name": "stdin",
     "output_type": "stream",
     "text": [
      "Price:  999\n"
     ]
    },
    {
     "name": "stdout",
     "output_type": "stream",
     "text": [
      "Discount Rupess:29.97\n",
      "Net Payable Amount  969.03\n"
     ]
    }
   ],
   "source": [
    "Total_Price=int(input(\"Price: \"))\n",
    "if Total_Price<1000:\n",
    "    discount=Total_Price*0.03\n",
    "    print(\"Discount Rupess:\"+str(discount))\n",
    "else:\n",
    "    discount=Total_Price*0.1\n",
    "    print(\"Discount Rupess: \"+str(discount))\n",
    "print(\"Net Payable Amount \",Total_Price-discount)"
   ]
  },
  {
   "cell_type": "markdown",
   "id": "9f48cbf9-3ea0-4fdf-a08f-9b4a8bd23115",
   "metadata": {},
   "source": [
    "### 4.1.3 If-elif-else statement\n",
    "\n",
    "   - The `elif` statement is used to check for the multiple `True` expressions and so on if the condition is `True` it execute a block of code.\n",
    "   - Similar `elif` statement is consider to be an optional like `else` statement. \n",
    "   - Though, we can use `elif` statement multiple times in a block of code, but `else` statement can be used only ones\n",
    "   \n",
    "**Examples**"
   ]
  },
  {
   "cell_type": "code",
   "execution_count": 33,
   "id": "fb6ae71d-bf72-41c2-9210-bb6d3d1b759d",
   "metadata": {},
   "outputs": [
    {
     "name": "stdin",
     "output_type": "stream",
     "text": [
      "Price:  14987\n"
     ]
    },
    {
     "name": "stdout",
     "output_type": "stream",
     "text": [
      "Discount Rupess: 1498.7\n",
      "Net payable Amount:  13488.3\n"
     ]
    }
   ],
   "source": [
    "'''Its very good example to get \n",
    "the Net payable amount by setting up some \n",
    "discount at specific price range by using if-elif-else statement'''\n",
    "\n",
    "Total_Price=int(input(\"Price: \"))\n",
    "if Total_Price<500:\n",
    "    discount=Total_Price*0.03\n",
    "    print (\"Discount Rupess: \"+str(discount))\n",
    "elif Total_Price<1000:\n",
    "    discount=Total_Price*0.08\n",
    "    print (\"Discount Rupess: \"+str(discount))\n",
    "else:\n",
    "    discount=Total_Price*0.1\n",
    "    print (\"Discount Rupess: \"+str(discount))\n",
    "print (\"Net payable Amount: \",Total_Price-discount)"
   ]
  },
  {
   "cell_type": "markdown",
   "id": "74f8f1e9-9a2a-4b6d-b77a-bc64ee3bf795",
   "metadata": {},
   "source": [
    "### 4.1.4 Nested If statement\n",
    "\n",
    "   - In some of the cases, it is required to have other check condition inside a check condition (when it `True`)\n",
    "   - Such type of scenarios required to have a nested arrangement.\n",
    "   - Under a nested if arrangement, an `if-elif-else` can be construct inside an another `if-elif-else` construct.\n",
    "   \n",
    "**Examples**"
   ]
  },
  {
   "cell_type": "code",
   "execution_count": 50,
   "id": "b09bb8bd-4ebc-44d3-a4fa-e2dda50f05fd",
   "metadata": {},
   "outputs": [
    {
     "name": "stdin",
     "output_type": "stream",
     "text": [
      "enter a number: 0000\n"
     ]
    },
    {
     "name": "stdout",
     "output_type": "stream",
     "text": [
      "zero\n"
     ]
    }
   ],
   "source": [
    "'''Its a simple example to check whether \n",
    "a number is zero or positive or negative \n",
    "using nested if-else statement'''\n",
    "val=float(input(\"enter a number:\"))\n",
    "if val >= 0:\n",
    "    if val==0:\n",
    "        print(\"zero\")\n",
    "    else:\n",
    "        print(\"num is Positive\")\n",
    "else:\n",
    "    print(\"num is negative\")\n",
    "          "
   ]
  },
  {
   "cell_type": "markdown",
   "id": "91c14a35-48c9-4832-8d16-149f076b0b03",
   "metadata": {},
   "source": [
    "### 4.1.5 Single Statement Suites\n",
    "\n",
    "   - If the suite of `if` section have only a single line, then the header statement may go at same line.\n",
    "\n",
    "**Examples**"
   ]
  },
  {
   "cell_type": "code",
   "execution_count": 51,
   "id": "40e96265-b438-4865-a0e2-02878c74d4a3",
   "metadata": {},
   "outputs": [
    {
     "name": "stdin",
     "output_type": "stream",
     "text": [
      "Enter a number:  888\n"
     ]
    },
    {
     "name": "stdout",
     "output_type": "stream",
     "text": [
      "Value is less than equal to 999\n",
      "Good bye!\n"
     ]
    }
   ],
   "source": [
    "'''Its a simple example to check whether a value is less than equal to 999'''\n",
    "val = int(input(\"Enter a number: \"))\n",
    "if (val <= 999 ): print (\"Value is less than equal to 999\")\n",
    "print (\"Good bye!\")"
   ]
  },
  {
   "cell_type": "code",
   "execution_count": 55,
   "id": "a28166a8-151e-410e-8189-88909dda1788",
   "metadata": {},
   "outputs": [
    {
     "name": "stdin",
     "output_type": "stream",
     "text": [
      "enter a number 200\n"
     ]
    },
    {
     "name": "stdout",
     "output_type": "stream",
     "text": [
      "value is greater than equal to 99\n",
      "all the best\n"
     ]
    }
   ],
   "source": [
    "val = int(input(\"enter a number\"))\n",
    "if (val >=99): print (\"value is greater than equal to 99\")\n",
    "print(\"all the best\")\n",
    "        "
   ]
  },
  {
   "cell_type": "markdown",
   "id": "73043fa0-1beb-4817-b4ce-07d3ec8dc4c8",
   "metadata": {},
   "source": [
    "## 4.2 Loops Statements \n",
    "   * In loop, the statements are sequentially executed, execution of first function statement is done first, then second and so on.\n",
    "   * In situation where you need to perform a block of code many times then loop statement will come in to picture. \n",
    "   * It allows to execute/run group of statements or a statement multiple time.\n",
    "   \n",
    "**These are several topics of loop statements which going to be discussed below:**\n",
    "   1. **while Loop** \n",
    "   2. **for Loop**\n",
    "   3. **Nested loops**\n",
    "   4. **Loop Control**\n",
    "      * **break**\n",
    "      * **continue**\n",
    "      * **pass**"
   ]
  },
  {
   "cell_type": "markdown",
   "id": "d8e5afb5-89d2-43a1-9dc1-011a635f4983",
   "metadata": {},
   "source": [
    "### 4.2.1 While Loop\n",
    "\n",
    "   * It repeats a statement or multiple statements when a provided condition is `True`.\n",
    "   * Before performing a loop body it check for a condition\n",
    "   \n",
    "**Examples**"
   ]
  },
  {
   "cell_type": "code",
   "execution_count": 69,
   "id": "1be7d144-5c07-48a9-8cc2-4a4b17351938",
   "metadata": {},
   "outputs": [
    {
     "name": "stdout",
     "output_type": "stream",
     "text": [
      "1\n",
      "2\n",
      "3\n",
      "4\n",
      "5\n",
      "Total money 50 Rupess\n"
     ]
    }
   ],
   "source": [
    "''' A child is learning to count number of 10 rupess in his hand \n",
    "and here we have given 5 notes of 10 rupess. \n",
    "Output will display the counting of notes and total amount'''\n",
    "notes=5\n",
    "i=1\n",
    "while i<=notes:\n",
    "    print(i)\n",
    "    i += 1\n",
    "print('Total money',notes*10,\"Rupess\")"
   ]
  },
  {
   "cell_type": "code",
   "execution_count": 70,
   "id": "6de73d88-ef2f-4c7a-b8d1-c4c391c5d787",
   "metadata": {},
   "outputs": [
    {
     "name": "stdout",
     "output_type": "stream",
     "text": [
      "1\n",
      "2\n",
      "3\n",
      "4\n",
      "5\n",
      "No 10 rupees note left\n",
      "Total Money:  50 Rupees\n"
     ]
    }
   ],
   "source": [
    "'''Continuing with same example, \n",
    "here we using else statement'''\n",
    "notes = 5\n",
    "i=1 # starting number intialize\n",
    "while i<=notes:\n",
    "    print(i)\n",
    "    i += 1\n",
    "else:\n",
    "    print(\"No 10 rupees note left\")\n",
    "print('Total Money: ',notes*10,'Rupees')"
   ]
  },
  {
   "cell_type": "markdown",
   "id": "92cbc89f-fd8a-4cc5-b907-3510683512c3",
   "metadata": {},
   "source": [
    "### 4.2.2 For Loop\n",
    "\n",
    "   * Here `for` loop statement is used to iterates over an item at any order, items can be a `string` or a `list`.\n",
    "   \n",
    "**Examples**"
   ]
  },
  {
   "cell_type": "code",
   "execution_count": 1,
   "id": "f86fcf5c-f24c-405e-bd89-afd819350505",
   "metadata": {},
   "outputs": [
    {
     "name": "stdout",
     "output_type": "stream",
     "text": [
      "Mango\n",
      "Cherry\n",
      "Apple\n",
      "Papaya\n",
      "Banana\n"
     ]
    }
   ],
   "source": [
    "''' A simple example has taken where \n",
    "we have several fruits in a list and we display \n",
    "this fruit as per the arrangement in list'''\n",
    "\n",
    "fruits_list = [\"Mango\",\"Cherry\",\"Apple\",\"Papaya\",\"Banana\"] ## List containing friuts name\n",
    "for x in fruits_list:\n",
    "    print(x)"
   ]
  },
  {
   "cell_type": "code",
   "execution_count": 2,
   "id": "1c327e5d-690c-45cb-ab57-9d525e0a9d28",
   "metadata": {},
   "outputs": [
    {
     "name": "stdout",
     "output_type": "stream",
     "text": [
      "Mango\n",
      "Cherry\n",
      "Apple\n",
      "Papaya\n",
      "Banana\n",
      "List has no fruit left!\n"
     ]
    }
   ],
   "source": [
    "'''Continuing the previous example with using else statement'''\n",
    "\n",
    "fruits_list = [\"Mango\",\"Cherry\",\"Apple\",\"Papaya\",\"Banana\"] ## List containing friuts name\n",
    "for x in fruits_list:\n",
    "    print(x)\n",
    "else:\n",
    "    print(\"List has no fruit left!\")"
   ]
  },
  {
   "cell_type": "code",
   "execution_count": 3,
   "id": "b83d7109-44c8-403b-a158-989ca04dcad6",
   "metadata": {},
   "outputs": [
    {
     "name": "stdout",
     "output_type": "stream",
     "text": [
      "M\n",
      "a\n",
      "n\n",
      "g\n",
      "o\n"
     ]
    }
   ],
   "source": [
    "'''An iterative example of string is shown here'''\n",
    "\n",
    "f_name = \"Mango\" ## string as input\n",
    "for x in f_name:\n",
    "    print(x)"
   ]
  },
  {
   "cell_type": "markdown",
   "id": "8ea4c3f3-d8f2-4b87-b7fd-97005fa6265f",
   "metadata": {},
   "source": [
    "### 4.2.3 Nested Loops\n",
    "\n",
    "   * Nested loops is used to create one and more number of loop inside an existing `for` or `while` loop.\n",
    "   \n",
    "**Examples**"
   ]
  },
  {
   "cell_type": "code",
   "execution_count": 4,
   "id": "86937d49-9a83-40b4-9b96-f6b10e84fd3e",
   "metadata": {},
   "outputs": [
    {
     "name": "stdout",
     "output_type": "stream",
     "text": [
      "* \n",
      "* * \n",
      "* * * \n",
      "* * * * \n",
      "* * * * * \n",
      "* * * * * * \n",
      "* * * * * * * \n"
     ]
    }
   ],
   "source": [
    "'''Here we use nested for loop to create a triangle'''\n",
    "\n",
    "n=7 #n is length and width of triangle\n",
    "for i in range(0, n): #loop to handle the rows \n",
    "\n",
    "    for j in range(0, i+1): #loop to handle the columns \n",
    "\n",
    "        print(\"* \",end=\"\") #printing the stars \n",
    "\n",
    "    print(\"\\r\") #after each row line will end"
   ]
  },
  {
   "cell_type": "code",
   "execution_count": 5,
   "id": "8396f421-cd04-462b-8de2-830f5aa01ba3",
   "metadata": {},
   "outputs": [
    {
     "name": "stdin",
     "output_type": "stream",
     "text": [
      "Enter the number of rows:  9\n"
     ]
    },
    {
     "name": "stdout",
     "output_type": "stream",
     "text": [
      "        *\n",
      "       ***\n",
      "      *****\n",
      "     *******\n",
      "    *********\n",
      "   ***********\n",
      "  *************\n",
      " ***************\n",
      "*****************\n"
     ]
    }
   ],
   "source": [
    "''' This exaple shows the use of nested while loop to\n",
    "create a pyramid like structure'''\n",
    "\n",
    "num_rows = int(input(\"Enter the number of rows: \"))\n",
    "row = 0 #row intialize\n",
    "while(row < num_rows):\n",
    "    row += 1 #Rows count increase\n",
    "    s = num_rows - row #Spaces\n",
    "\n",
    "    sc = 0 #Space counter intialize\n",
    "    while(sc < s):\n",
    "        print(\" \", end='')\n",
    "        sc += 1\n",
    "\n",
    "    stars = 2*row-1 #Number of stars\n",
    "    while(stars > 0):\n",
    "        print(\"*\", end='')\n",
    "        stars -= 1\n",
    "\n",
    "    print()"
   ]
  },
  {
   "cell_type": "markdown",
   "id": "6e64a650-2f4d-4a48-9e98-ef1ab61ad0ae",
   "metadata": {},
   "source": [
    "### 4.2.4 Loop Control\n",
    "The loop control is used to change its preceding sequence to different form.\n",
    "\n",
    "**break statement -** This statement used for a premature terminates of current loop immediately and executes the further statement, just like `break` statement in `C` language.\n",
    "\n",
    "**continue statement -** When `continue` statement is encountered during an iteration, it directly goes to next iteration without performing remaining statements in present iteration. It returns execution to the starting point of current loop and start further iteration.\n",
    "\n",
    "   >**Note:** `break` and `continue` can be used in both `while` and `for` loop.\n",
    "\n",
    "**pass statement -** The `pass` statement is considered as a `null` operation. It is useful when a code (i.e., code required in future) has not written till now, but your code will go eventually.\n"
   ]
  },
  {
   "cell_type": "markdown",
   "id": "b8de4a37-45f6-4596-a8ac-8ed8b1837bf2",
   "metadata": {},
   "source": [
    "#### Break statement"
   ]
  },
  {
   "cell_type": "code",
   "execution_count": 6,
   "id": "ce2f066b-cbe9-41b7-8846-535a110e5451",
   "metadata": {},
   "outputs": [
    {
     "name": "stdout",
     "output_type": "stream",
     "text": [
      "1\n",
      "2\n",
      "3\n",
      "4\n"
     ]
    }
   ],
   "source": [
    "'''It is a simple example of break, \n",
    "where it immediatly terminate an operation of \n",
    "statement body when x is equal to 4'''\n",
    "\n",
    "x = 1\n",
    "while x < 7:\n",
    "    print(x)\n",
    "    if x == 4:\n",
    "        break\n",
    "    x += 1"
   ]
  },
  {
   "cell_type": "code",
   "execution_count": 7,
   "id": "7c7d166e-75ff-4367-839e-68f0d2803c1a",
   "metadata": {},
   "outputs": [
    {
     "name": "stdout",
     "output_type": "stream",
     "text": [
      "Mango\n",
      "Cherry\n",
      "Apple\n"
     ]
    }
   ],
   "source": [
    "'''Here it terminates the \n",
    "operational body when fruit name is Papaya'''\n",
    "\n",
    "fruits_list = [\"Mango\",\"Cherry\",\"Apple\",\"Papaya\",\"Banana\"] ## List containing friuts name\n",
    "for x in fruits_list:\n",
    "    if x == \"Papaya\":\n",
    "        break\n",
    "    print(x)"
   ]
  },
  {
   "cell_type": "markdown",
   "id": "75ea4c07-e4c0-4cfa-9649-c07333b1b238",
   "metadata": {},
   "source": [
    "#### Continue statement"
   ]
  },
  {
   "cell_type": "code",
   "execution_count": 8,
   "id": "5d753793-b706-45c4-a3b6-ead54e6f03b0",
   "metadata": {},
   "outputs": [
    {
     "name": "stdout",
     "output_type": "stream",
     "text": [
      "1\n",
      "2\n",
      "3\n",
      "5\n",
      "6\n",
      "7\n"
     ]
    }
   ],
   "source": [
    "'''It is a simple example of continue, \n",
    "where it simply terminate an current iteration \n",
    "when x is equal to 4 and \n",
    "continues with next iteration'''\n",
    "\n",
    "x = 0\n",
    "while x < 7:\n",
    "    x += 1\n",
    "    if x == 4:\n",
    "        continue\n",
    "    print(x)"
   ]
  },
  {
   "cell_type": "code",
   "execution_count": 9,
   "id": "815f3501-6c29-497f-8c51-62f816494ef9",
   "metadata": {},
   "outputs": [
    {
     "name": "stdout",
     "output_type": "stream",
     "text": [
      "Mango\n",
      "Cherry\n",
      "Apple\n",
      "Banana\n"
     ]
    }
   ],
   "source": [
    "'''In this example it simply terminate \n",
    "an current iteration when fruit name is Papaya and \n",
    "continues with next iteration'''\n",
    "\n",
    "fruits_list = [\"Mango\",\"Cherry\",\"Apple\",\"Papaya\",\"Banana\"] ## List containing friuts name\n",
    "for x in fruits_list:\n",
    "    if x == \"Papaya\":\n",
    "        continue\n",
    "    print(x)"
   ]
  },
  {
   "cell_type": "markdown",
   "id": "c7527f69-93b4-47fd-a0c0-159a24047685",
   "metadata": {},
   "source": [
    "#### Pass statement"
   ]
  },
  {
   "cell_type": "code",
   "execution_count": 10,
   "id": "82f229bd-31ba-45bb-89c1-0c198e9fbd8a",
   "metadata": {},
   "outputs": [],
   "source": [
    "'''A simple example of pass, \n",
    "where it is not decided what to do with i'''\n",
    "\n",
    "for i in [10, 100, 200]:\n",
    "    pass"
   ]
  },
  {
   "cell_type": "code",
   "execution_count": 11,
   "id": "bec65b1a-3d90-45dd-8eb8-b84c350809ce",
   "metadata": {},
   "outputs": [
    {
     "ename": "SyntaxError",
     "evalue": "incomplete input (2344064802.py, line 4)",
     "output_type": "error",
     "traceback": [
      "\u001b[0;36m  Cell \u001b[0;32mIn[11], line 4\u001b[0;36m\u001b[0m\n\u001b[0;31m    for i in [10, 100, 200]:\u001b[0m\n\u001b[0m                            ^\u001b[0m\n\u001b[0;31mSyntaxError\u001b[0m\u001b[0;31m:\u001b[0m incomplete input\n"
     ]
    }
   ],
   "source": [
    "'''Continuing with same above example \n",
    "if for loop body left simply, then it will throw an error'''\n",
    "\n",
    "for i in [10, 100, 200]:"
   ]
  },
  {
   "cell_type": "code",
   "execution_count": null,
   "id": "b3dc2bac-0d56-4259-af24-e2737c5ba66e",
   "metadata": {},
   "outputs": [],
   "source": []
  }
 ],
 "metadata": {
  "kernelspec": {
   "display_name": "Python 3 (ipykernel)",
   "language": "python",
   "name": "python3"
  },
  "language_info": {
   "codemirror_mode": {
    "name": "ipython",
    "version": 3
   },
   "file_extension": ".py",
   "mimetype": "text/x-python",
   "name": "python",
   "nbconvert_exporter": "python",
   "pygments_lexer": "ipython3",
   "version": "3.10.8"
  }
 },
 "nbformat": 4,
 "nbformat_minor": 5
}
